{
 "cells": [
  {
   "cell_type": "markdown",
   "metadata": {
    "collapsed": true
   },
   "source": [
    "# COURSERA CAPSTONE"
   ]
  },
  {
   "cell_type": "markdown",
   "metadata": {},
   "source": [
    "### Introduction/Business Plan"
   ]
  },
  {
   "cell_type": "markdown",
   "metadata": {},
   "source": [
    "This project aims to take the data of the most common causes of traffic accidents and collisions based on factors such as <b>Weather, Location, Injuries, Speeding, Fatalities</b>, as well as the different types of accidents based on the <i>Seattle Collision Code</i> and whether the individuals in the accident were <b>Under the Influence</b>.   Using that data I will develop a model using <b>K-Nearest Neighbor, Decision Trees and Logistic Regression </b> that can look at these variables and figure out how to minimize the risk of some of these factors happening again."
   ]
  },
  {
   "cell_type": "markdown",
   "metadata": {},
   "source": [
    "### Data"
   ]
  },
  {
   "cell_type": "markdown",
   "metadata": {},
   "source": [
    "The dataset “Data Collsions.csv” is provided by the Seattle Police Department and Seattle Traffic Management. The data  covers traffic accidents in the city from 2004 to present day.  The dataset includes information on the location of the accident, as well as how many drivers, pedestrians and vehicles were involved, weather conditions and whether it was day or night. As well as other specific details about each individual incident. I plan on converting factors such as <b> Speeding, Under The Influence, Hit Parked Car & Severity Code </b> into Dummy Variables for building a logistic regression model. I also want to use the location data to cluster the accidents and use K-Nearest Neighbor to search for patterns based on the clusters and hopefully predict patterns based on where the accidents happen.\n"
   ]
  },
  {
   "cell_type": "markdown",
   "metadata": {},
   "source": [
    "## Loading the Data"
   ]
  },
  {
   "cell_type": "code",
   "execution_count": 1,
   "metadata": {},
   "outputs": [],
   "source": [
    "import pandas as pd \n",
    "import numpy as np\n",
    "import seaborn as sns\n",
    "import matplotlib.pyplot as plt\n",
    "from sklearn.preprocessing import LabelEncoder\n",
    "from sklearn.tree import DecisionTreeClassifier\n",
    "from sklearn.metrics import classification_report, confusion_matrix, accuracy_score, log_loss, jaccard_similarity_score, f1_score\n",
    "from sklearn import preprocessing\n",
    "from sklearn.model_selection import train_test_split\n",
    "from sklearn import metrics\n",
    "from sklearn.neighbors import KNeighborsClassifier"
   ]
  },
  {
   "cell_type": "code",
   "execution_count": 2,
   "metadata": {},
   "outputs": [
    {
     "name": "stdout",
     "output_type": "stream",
     "text": [
      "Collecting package metadata (current_repodata.json): done\n",
      "Solving environment: done\n",
      "\n",
      "# All requested packages already installed.\n",
      "\n"
     ]
    }
   ],
   "source": [
    "!conda install -c conda-forge folium=0.5.0 --yes\n",
    "import folium # plotting library"
   ]
  },
  {
   "cell_type": "code",
   "execution_count": 3,
   "metadata": {
    "scrolled": true
   },
   "outputs": [
    {
     "name": "stderr",
     "output_type": "stream",
     "text": [
      "/Users/jgacuca/Desktop/anaconda3/lib/python3.7/site-packages/IPython/core/interactiveshell.py:3063: DtypeWarning: Columns (33) have mixed types.Specify dtype option on import or set low_memory=False.\n",
      "  interactivity=interactivity, compiler=compiler, result=result)\n"
     ]
    }
   ],
   "source": [
    "location = \"Data_Collisions.csv\"\n",
    "df = pd.read_csv(location)"
   ]
  },
  {
   "cell_type": "markdown",
   "metadata": {},
   "source": [
    "# Examining the Data"
   ]
  },
  {
   "cell_type": "code",
   "execution_count": 4,
   "metadata": {
    "scrolled": true
   },
   "outputs": [
    {
     "data": {
      "text/html": [
       "<div>\n",
       "<style scoped>\n",
       "    .dataframe tbody tr th:only-of-type {\n",
       "        vertical-align: middle;\n",
       "    }\n",
       "\n",
       "    .dataframe tbody tr th {\n",
       "        vertical-align: top;\n",
       "    }\n",
       "\n",
       "    .dataframe thead th {\n",
       "        text-align: right;\n",
       "    }\n",
       "</style>\n",
       "<table border=\"1\" class=\"dataframe\">\n",
       "  <thead>\n",
       "    <tr style=\"text-align: right;\">\n",
       "      <th></th>\n",
       "      <th>SEVERITYCODE</th>\n",
       "      <th>X</th>\n",
       "      <th>Y</th>\n",
       "      <th>OBJECTID</th>\n",
       "      <th>INCKEY</th>\n",
       "      <th>COLDETKEY</th>\n",
       "      <th>REPORTNO</th>\n",
       "      <th>STATUS</th>\n",
       "      <th>ADDRTYPE</th>\n",
       "      <th>INTKEY</th>\n",
       "      <th>...</th>\n",
       "      <th>ROADCOND</th>\n",
       "      <th>LIGHTCOND</th>\n",
       "      <th>PEDROWNOTGRNT</th>\n",
       "      <th>SDOTCOLNUM</th>\n",
       "      <th>SPEEDING</th>\n",
       "      <th>ST_COLCODE</th>\n",
       "      <th>ST_COLDESC</th>\n",
       "      <th>SEGLANEKEY</th>\n",
       "      <th>CROSSWALKKEY</th>\n",
       "      <th>HITPARKEDCAR</th>\n",
       "    </tr>\n",
       "  </thead>\n",
       "  <tbody>\n",
       "    <tr>\n",
       "      <th>0</th>\n",
       "      <td>2</td>\n",
       "      <td>-122.323148</td>\n",
       "      <td>47.703140</td>\n",
       "      <td>1</td>\n",
       "      <td>1307</td>\n",
       "      <td>1307</td>\n",
       "      <td>3502005</td>\n",
       "      <td>Matched</td>\n",
       "      <td>Intersection</td>\n",
       "      <td>37475.0</td>\n",
       "      <td>...</td>\n",
       "      <td>Wet</td>\n",
       "      <td>Daylight</td>\n",
       "      <td>NaN</td>\n",
       "      <td>NaN</td>\n",
       "      <td>NaN</td>\n",
       "      <td>10</td>\n",
       "      <td>Entering at angle</td>\n",
       "      <td>0</td>\n",
       "      <td>0</td>\n",
       "      <td>N</td>\n",
       "    </tr>\n",
       "    <tr>\n",
       "      <th>1</th>\n",
       "      <td>1</td>\n",
       "      <td>-122.347294</td>\n",
       "      <td>47.647172</td>\n",
       "      <td>2</td>\n",
       "      <td>52200</td>\n",
       "      <td>52200</td>\n",
       "      <td>2607959</td>\n",
       "      <td>Matched</td>\n",
       "      <td>Block</td>\n",
       "      <td>NaN</td>\n",
       "      <td>...</td>\n",
       "      <td>Wet</td>\n",
       "      <td>Dark - Street Lights On</td>\n",
       "      <td>NaN</td>\n",
       "      <td>6354039.0</td>\n",
       "      <td>NaN</td>\n",
       "      <td>11</td>\n",
       "      <td>From same direction - both going straight - bo...</td>\n",
       "      <td>0</td>\n",
       "      <td>0</td>\n",
       "      <td>N</td>\n",
       "    </tr>\n",
       "    <tr>\n",
       "      <th>2</th>\n",
       "      <td>1</td>\n",
       "      <td>-122.334540</td>\n",
       "      <td>47.607871</td>\n",
       "      <td>3</td>\n",
       "      <td>26700</td>\n",
       "      <td>26700</td>\n",
       "      <td>1482393</td>\n",
       "      <td>Matched</td>\n",
       "      <td>Block</td>\n",
       "      <td>NaN</td>\n",
       "      <td>...</td>\n",
       "      <td>Dry</td>\n",
       "      <td>Daylight</td>\n",
       "      <td>NaN</td>\n",
       "      <td>4323031.0</td>\n",
       "      <td>NaN</td>\n",
       "      <td>32</td>\n",
       "      <td>One parked--one moving</td>\n",
       "      <td>0</td>\n",
       "      <td>0</td>\n",
       "      <td>N</td>\n",
       "    </tr>\n",
       "    <tr>\n",
       "      <th>3</th>\n",
       "      <td>1</td>\n",
       "      <td>-122.334803</td>\n",
       "      <td>47.604803</td>\n",
       "      <td>4</td>\n",
       "      <td>1144</td>\n",
       "      <td>1144</td>\n",
       "      <td>3503937</td>\n",
       "      <td>Matched</td>\n",
       "      <td>Block</td>\n",
       "      <td>NaN</td>\n",
       "      <td>...</td>\n",
       "      <td>Dry</td>\n",
       "      <td>Daylight</td>\n",
       "      <td>NaN</td>\n",
       "      <td>NaN</td>\n",
       "      <td>NaN</td>\n",
       "      <td>23</td>\n",
       "      <td>From same direction - all others</td>\n",
       "      <td>0</td>\n",
       "      <td>0</td>\n",
       "      <td>N</td>\n",
       "    </tr>\n",
       "    <tr>\n",
       "      <th>4</th>\n",
       "      <td>2</td>\n",
       "      <td>-122.306426</td>\n",
       "      <td>47.545739</td>\n",
       "      <td>5</td>\n",
       "      <td>17700</td>\n",
       "      <td>17700</td>\n",
       "      <td>1807429</td>\n",
       "      <td>Matched</td>\n",
       "      <td>Intersection</td>\n",
       "      <td>34387.0</td>\n",
       "      <td>...</td>\n",
       "      <td>Wet</td>\n",
       "      <td>Daylight</td>\n",
       "      <td>NaN</td>\n",
       "      <td>4028032.0</td>\n",
       "      <td>NaN</td>\n",
       "      <td>10</td>\n",
       "      <td>Entering at angle</td>\n",
       "      <td>0</td>\n",
       "      <td>0</td>\n",
       "      <td>N</td>\n",
       "    </tr>\n",
       "  </tbody>\n",
       "</table>\n",
       "<p>5 rows × 38 columns</p>\n",
       "</div>"
      ],
      "text/plain": [
       "   SEVERITYCODE           X          Y  OBJECTID  INCKEY  COLDETKEY REPORTNO  \\\n",
       "0             2 -122.323148  47.703140         1    1307       1307  3502005   \n",
       "1             1 -122.347294  47.647172         2   52200      52200  2607959   \n",
       "2             1 -122.334540  47.607871         3   26700      26700  1482393   \n",
       "3             1 -122.334803  47.604803         4    1144       1144  3503937   \n",
       "4             2 -122.306426  47.545739         5   17700      17700  1807429   \n",
       "\n",
       "    STATUS      ADDRTYPE   INTKEY  ... ROADCOND                LIGHTCOND  \\\n",
       "0  Matched  Intersection  37475.0  ...      Wet                 Daylight   \n",
       "1  Matched         Block      NaN  ...      Wet  Dark - Street Lights On   \n",
       "2  Matched         Block      NaN  ...      Dry                 Daylight   \n",
       "3  Matched         Block      NaN  ...      Dry                 Daylight   \n",
       "4  Matched  Intersection  34387.0  ...      Wet                 Daylight   \n",
       "\n",
       "  PEDROWNOTGRNT  SDOTCOLNUM SPEEDING ST_COLCODE  \\\n",
       "0           NaN         NaN      NaN         10   \n",
       "1           NaN   6354039.0      NaN         11   \n",
       "2           NaN   4323031.0      NaN         32   \n",
       "3           NaN         NaN      NaN         23   \n",
       "4           NaN   4028032.0      NaN         10   \n",
       "\n",
       "                                          ST_COLDESC  SEGLANEKEY  \\\n",
       "0                                  Entering at angle           0   \n",
       "1  From same direction - both going straight - bo...           0   \n",
       "2                             One parked--one moving           0   \n",
       "3                   From same direction - all others           0   \n",
       "4                                  Entering at angle           0   \n",
       "\n",
       "   CROSSWALKKEY  HITPARKEDCAR  \n",
       "0             0             N  \n",
       "1             0             N  \n",
       "2             0             N  \n",
       "3             0             N  \n",
       "4             0             N  \n",
       "\n",
       "[5 rows x 38 columns]"
      ]
     },
     "execution_count": 4,
     "metadata": {},
     "output_type": "execute_result"
    }
   ],
   "source": [
    "df.head()"
   ]
  },
  {
   "cell_type": "code",
   "execution_count": 5,
   "metadata": {},
   "outputs": [
    {
     "data": {
      "text/html": [
       "<div>\n",
       "<style scoped>\n",
       "    .dataframe tbody tr th:only-of-type {\n",
       "        vertical-align: middle;\n",
       "    }\n",
       "\n",
       "    .dataframe tbody tr th {\n",
       "        vertical-align: top;\n",
       "    }\n",
       "\n",
       "    .dataframe thead th {\n",
       "        text-align: right;\n",
       "    }\n",
       "</style>\n",
       "<table border=\"1\" class=\"dataframe\">\n",
       "  <thead>\n",
       "    <tr style=\"text-align: right;\">\n",
       "      <th></th>\n",
       "      <th>SEVERITYCODE</th>\n",
       "      <th>X</th>\n",
       "      <th>Y</th>\n",
       "      <th>OBJECTID</th>\n",
       "      <th>INCKEY</th>\n",
       "      <th>COLDETKEY</th>\n",
       "      <th>REPORTNO</th>\n",
       "      <th>STATUS</th>\n",
       "      <th>ADDRTYPE</th>\n",
       "      <th>INTKEY</th>\n",
       "      <th>...</th>\n",
       "      <th>ROADCOND</th>\n",
       "      <th>LIGHTCOND</th>\n",
       "      <th>PEDROWNOTGRNT</th>\n",
       "      <th>SDOTCOLNUM</th>\n",
       "      <th>SPEEDING</th>\n",
       "      <th>ST_COLCODE</th>\n",
       "      <th>ST_COLDESC</th>\n",
       "      <th>SEGLANEKEY</th>\n",
       "      <th>CROSSWALKKEY</th>\n",
       "      <th>HITPARKEDCAR</th>\n",
       "    </tr>\n",
       "  </thead>\n",
       "  <tbody>\n",
       "    <tr>\n",
       "      <th>count</th>\n",
       "      <td>194673.000000</td>\n",
       "      <td>189339.000000</td>\n",
       "      <td>189339.000000</td>\n",
       "      <td>194673.000000</td>\n",
       "      <td>194673.000000</td>\n",
       "      <td>194673.000000</td>\n",
       "      <td>194673</td>\n",
       "      <td>194673</td>\n",
       "      <td>192747</td>\n",
       "      <td>65070.000000</td>\n",
       "      <td>...</td>\n",
       "      <td>189661</td>\n",
       "      <td>189503</td>\n",
       "      <td>4667</td>\n",
       "      <td>1.149360e+05</td>\n",
       "      <td>9333</td>\n",
       "      <td>194655</td>\n",
       "      <td>189769</td>\n",
       "      <td>194673.000000</td>\n",
       "      <td>1.946730e+05</td>\n",
       "      <td>194673</td>\n",
       "    </tr>\n",
       "    <tr>\n",
       "      <th>unique</th>\n",
       "      <td>NaN</td>\n",
       "      <td>NaN</td>\n",
       "      <td>NaN</td>\n",
       "      <td>NaN</td>\n",
       "      <td>NaN</td>\n",
       "      <td>NaN</td>\n",
       "      <td>194670</td>\n",
       "      <td>2</td>\n",
       "      <td>3</td>\n",
       "      <td>NaN</td>\n",
       "      <td>...</td>\n",
       "      <td>9</td>\n",
       "      <td>9</td>\n",
       "      <td>1</td>\n",
       "      <td>NaN</td>\n",
       "      <td>1</td>\n",
       "      <td>115</td>\n",
       "      <td>62</td>\n",
       "      <td>NaN</td>\n",
       "      <td>NaN</td>\n",
       "      <td>2</td>\n",
       "    </tr>\n",
       "    <tr>\n",
       "      <th>top</th>\n",
       "      <td>NaN</td>\n",
       "      <td>NaN</td>\n",
       "      <td>NaN</td>\n",
       "      <td>NaN</td>\n",
       "      <td>NaN</td>\n",
       "      <td>NaN</td>\n",
       "      <td>1776526</td>\n",
       "      <td>Matched</td>\n",
       "      <td>Block</td>\n",
       "      <td>NaN</td>\n",
       "      <td>...</td>\n",
       "      <td>Dry</td>\n",
       "      <td>Daylight</td>\n",
       "      <td>Y</td>\n",
       "      <td>NaN</td>\n",
       "      <td>Y</td>\n",
       "      <td>32</td>\n",
       "      <td>One parked--one moving</td>\n",
       "      <td>NaN</td>\n",
       "      <td>NaN</td>\n",
       "      <td>N</td>\n",
       "    </tr>\n",
       "    <tr>\n",
       "      <th>freq</th>\n",
       "      <td>NaN</td>\n",
       "      <td>NaN</td>\n",
       "      <td>NaN</td>\n",
       "      <td>NaN</td>\n",
       "      <td>NaN</td>\n",
       "      <td>NaN</td>\n",
       "      <td>2</td>\n",
       "      <td>189786</td>\n",
       "      <td>126926</td>\n",
       "      <td>NaN</td>\n",
       "      <td>...</td>\n",
       "      <td>124510</td>\n",
       "      <td>116137</td>\n",
       "      <td>4667</td>\n",
       "      <td>NaN</td>\n",
       "      <td>9333</td>\n",
       "      <td>27612</td>\n",
       "      <td>44421</td>\n",
       "      <td>NaN</td>\n",
       "      <td>NaN</td>\n",
       "      <td>187457</td>\n",
       "    </tr>\n",
       "    <tr>\n",
       "      <th>mean</th>\n",
       "      <td>1.298901</td>\n",
       "      <td>-122.330518</td>\n",
       "      <td>47.619543</td>\n",
       "      <td>108479.364930</td>\n",
       "      <td>141091.456350</td>\n",
       "      <td>141298.811381</td>\n",
       "      <td>NaN</td>\n",
       "      <td>NaN</td>\n",
       "      <td>NaN</td>\n",
       "      <td>37558.450576</td>\n",
       "      <td>...</td>\n",
       "      <td>NaN</td>\n",
       "      <td>NaN</td>\n",
       "      <td>NaN</td>\n",
       "      <td>7.972521e+06</td>\n",
       "      <td>NaN</td>\n",
       "      <td>NaN</td>\n",
       "      <td>NaN</td>\n",
       "      <td>269.401114</td>\n",
       "      <td>9.782452e+03</td>\n",
       "      <td>NaN</td>\n",
       "    </tr>\n",
       "    <tr>\n",
       "      <th>std</th>\n",
       "      <td>0.457778</td>\n",
       "      <td>0.029976</td>\n",
       "      <td>0.056157</td>\n",
       "      <td>62649.722558</td>\n",
       "      <td>86634.402737</td>\n",
       "      <td>86986.542110</td>\n",
       "      <td>NaN</td>\n",
       "      <td>NaN</td>\n",
       "      <td>NaN</td>\n",
       "      <td>51745.990273</td>\n",
       "      <td>...</td>\n",
       "      <td>NaN</td>\n",
       "      <td>NaN</td>\n",
       "      <td>NaN</td>\n",
       "      <td>2.553533e+06</td>\n",
       "      <td>NaN</td>\n",
       "      <td>NaN</td>\n",
       "      <td>NaN</td>\n",
       "      <td>3315.776055</td>\n",
       "      <td>7.226926e+04</td>\n",
       "      <td>NaN</td>\n",
       "    </tr>\n",
       "    <tr>\n",
       "      <th>min</th>\n",
       "      <td>1.000000</td>\n",
       "      <td>-122.419091</td>\n",
       "      <td>47.495573</td>\n",
       "      <td>1.000000</td>\n",
       "      <td>1001.000000</td>\n",
       "      <td>1001.000000</td>\n",
       "      <td>NaN</td>\n",
       "      <td>NaN</td>\n",
       "      <td>NaN</td>\n",
       "      <td>23807.000000</td>\n",
       "      <td>...</td>\n",
       "      <td>NaN</td>\n",
       "      <td>NaN</td>\n",
       "      <td>NaN</td>\n",
       "      <td>1.007024e+06</td>\n",
       "      <td>NaN</td>\n",
       "      <td>NaN</td>\n",
       "      <td>NaN</td>\n",
       "      <td>0.000000</td>\n",
       "      <td>0.000000e+00</td>\n",
       "      <td>NaN</td>\n",
       "    </tr>\n",
       "    <tr>\n",
       "      <th>25%</th>\n",
       "      <td>1.000000</td>\n",
       "      <td>-122.348673</td>\n",
       "      <td>47.575956</td>\n",
       "      <td>54267.000000</td>\n",
       "      <td>70383.000000</td>\n",
       "      <td>70383.000000</td>\n",
       "      <td>NaN</td>\n",
       "      <td>NaN</td>\n",
       "      <td>NaN</td>\n",
       "      <td>28667.000000</td>\n",
       "      <td>...</td>\n",
       "      <td>NaN</td>\n",
       "      <td>NaN</td>\n",
       "      <td>NaN</td>\n",
       "      <td>6.040015e+06</td>\n",
       "      <td>NaN</td>\n",
       "      <td>NaN</td>\n",
       "      <td>NaN</td>\n",
       "      <td>0.000000</td>\n",
       "      <td>0.000000e+00</td>\n",
       "      <td>NaN</td>\n",
       "    </tr>\n",
       "    <tr>\n",
       "      <th>50%</th>\n",
       "      <td>1.000000</td>\n",
       "      <td>-122.330224</td>\n",
       "      <td>47.615369</td>\n",
       "      <td>106912.000000</td>\n",
       "      <td>123363.000000</td>\n",
       "      <td>123363.000000</td>\n",
       "      <td>NaN</td>\n",
       "      <td>NaN</td>\n",
       "      <td>NaN</td>\n",
       "      <td>29973.000000</td>\n",
       "      <td>...</td>\n",
       "      <td>NaN</td>\n",
       "      <td>NaN</td>\n",
       "      <td>NaN</td>\n",
       "      <td>8.023022e+06</td>\n",
       "      <td>NaN</td>\n",
       "      <td>NaN</td>\n",
       "      <td>NaN</td>\n",
       "      <td>0.000000</td>\n",
       "      <td>0.000000e+00</td>\n",
       "      <td>NaN</td>\n",
       "    </tr>\n",
       "    <tr>\n",
       "      <th>75%</th>\n",
       "      <td>2.000000</td>\n",
       "      <td>-122.311937</td>\n",
       "      <td>47.663664</td>\n",
       "      <td>162272.000000</td>\n",
       "      <td>203319.000000</td>\n",
       "      <td>203459.000000</td>\n",
       "      <td>NaN</td>\n",
       "      <td>NaN</td>\n",
       "      <td>NaN</td>\n",
       "      <td>33973.000000</td>\n",
       "      <td>...</td>\n",
       "      <td>NaN</td>\n",
       "      <td>NaN</td>\n",
       "      <td>NaN</td>\n",
       "      <td>1.015501e+07</td>\n",
       "      <td>NaN</td>\n",
       "      <td>NaN</td>\n",
       "      <td>NaN</td>\n",
       "      <td>0.000000</td>\n",
       "      <td>0.000000e+00</td>\n",
       "      <td>NaN</td>\n",
       "    </tr>\n",
       "    <tr>\n",
       "      <th>max</th>\n",
       "      <td>2.000000</td>\n",
       "      <td>-122.238949</td>\n",
       "      <td>47.734142</td>\n",
       "      <td>219547.000000</td>\n",
       "      <td>331454.000000</td>\n",
       "      <td>332954.000000</td>\n",
       "      <td>NaN</td>\n",
       "      <td>NaN</td>\n",
       "      <td>NaN</td>\n",
       "      <td>757580.000000</td>\n",
       "      <td>...</td>\n",
       "      <td>NaN</td>\n",
       "      <td>NaN</td>\n",
       "      <td>NaN</td>\n",
       "      <td>1.307202e+07</td>\n",
       "      <td>NaN</td>\n",
       "      <td>NaN</td>\n",
       "      <td>NaN</td>\n",
       "      <td>525241.000000</td>\n",
       "      <td>5.239700e+06</td>\n",
       "      <td>NaN</td>\n",
       "    </tr>\n",
       "  </tbody>\n",
       "</table>\n",
       "<p>11 rows × 38 columns</p>\n",
       "</div>"
      ],
      "text/plain": [
       "         SEVERITYCODE              X              Y       OBJECTID  \\\n",
       "count   194673.000000  189339.000000  189339.000000  194673.000000   \n",
       "unique            NaN            NaN            NaN            NaN   \n",
       "top               NaN            NaN            NaN            NaN   \n",
       "freq              NaN            NaN            NaN            NaN   \n",
       "mean         1.298901    -122.330518      47.619543  108479.364930   \n",
       "std          0.457778       0.029976       0.056157   62649.722558   \n",
       "min          1.000000    -122.419091      47.495573       1.000000   \n",
       "25%          1.000000    -122.348673      47.575956   54267.000000   \n",
       "50%          1.000000    -122.330224      47.615369  106912.000000   \n",
       "75%          2.000000    -122.311937      47.663664  162272.000000   \n",
       "max          2.000000    -122.238949      47.734142  219547.000000   \n",
       "\n",
       "               INCKEY      COLDETKEY REPORTNO   STATUS ADDRTYPE  \\\n",
       "count   194673.000000  194673.000000   194673   194673   192747   \n",
       "unique            NaN            NaN   194670        2        3   \n",
       "top               NaN            NaN  1776526  Matched    Block   \n",
       "freq              NaN            NaN        2   189786   126926   \n",
       "mean    141091.456350  141298.811381      NaN      NaN      NaN   \n",
       "std      86634.402737   86986.542110      NaN      NaN      NaN   \n",
       "min       1001.000000    1001.000000      NaN      NaN      NaN   \n",
       "25%      70383.000000   70383.000000      NaN      NaN      NaN   \n",
       "50%     123363.000000  123363.000000      NaN      NaN      NaN   \n",
       "75%     203319.000000  203459.000000      NaN      NaN      NaN   \n",
       "max     331454.000000  332954.000000      NaN      NaN      NaN   \n",
       "\n",
       "               INTKEY  ... ROADCOND LIGHTCOND PEDROWNOTGRNT    SDOTCOLNUM  \\\n",
       "count    65070.000000  ...   189661    189503          4667  1.149360e+05   \n",
       "unique            NaN  ...        9         9             1           NaN   \n",
       "top               NaN  ...      Dry  Daylight             Y           NaN   \n",
       "freq              NaN  ...   124510    116137          4667           NaN   \n",
       "mean     37558.450576  ...      NaN       NaN           NaN  7.972521e+06   \n",
       "std      51745.990273  ...      NaN       NaN           NaN  2.553533e+06   \n",
       "min      23807.000000  ...      NaN       NaN           NaN  1.007024e+06   \n",
       "25%      28667.000000  ...      NaN       NaN           NaN  6.040015e+06   \n",
       "50%      29973.000000  ...      NaN       NaN           NaN  8.023022e+06   \n",
       "75%      33973.000000  ...      NaN       NaN           NaN  1.015501e+07   \n",
       "max     757580.000000  ...      NaN       NaN           NaN  1.307202e+07   \n",
       "\n",
       "       SPEEDING ST_COLCODE              ST_COLDESC     SEGLANEKEY  \\\n",
       "count      9333     194655                  189769  194673.000000   \n",
       "unique        1        115                      62            NaN   \n",
       "top           Y         32  One parked--one moving            NaN   \n",
       "freq       9333      27612                   44421            NaN   \n",
       "mean        NaN        NaN                     NaN     269.401114   \n",
       "std         NaN        NaN                     NaN    3315.776055   \n",
       "min         NaN        NaN                     NaN       0.000000   \n",
       "25%         NaN        NaN                     NaN       0.000000   \n",
       "50%         NaN        NaN                     NaN       0.000000   \n",
       "75%         NaN        NaN                     NaN       0.000000   \n",
       "max         NaN        NaN                     NaN  525241.000000   \n",
       "\n",
       "        CROSSWALKKEY  HITPARKEDCAR  \n",
       "count   1.946730e+05        194673  \n",
       "unique           NaN             2  \n",
       "top              NaN             N  \n",
       "freq             NaN        187457  \n",
       "mean    9.782452e+03           NaN  \n",
       "std     7.226926e+04           NaN  \n",
       "min     0.000000e+00           NaN  \n",
       "25%     0.000000e+00           NaN  \n",
       "50%     0.000000e+00           NaN  \n",
       "75%     0.000000e+00           NaN  \n",
       "max     5.239700e+06           NaN  \n",
       "\n",
       "[11 rows x 38 columns]"
      ]
     },
     "execution_count": 5,
     "metadata": {},
     "output_type": "execute_result"
    }
   ],
   "source": [
    "df.describe(include = \"all\")"
   ]
  },
  {
   "cell_type": "code",
   "execution_count": 6,
   "metadata": {},
   "outputs": [
    {
     "data": {
      "text/plain": [
       "(194673, 38)"
      ]
     },
     "execution_count": 6,
     "metadata": {},
     "output_type": "execute_result"
    }
   ],
   "source": [
    "df.shape"
   ]
  },
  {
   "cell_type": "code",
   "execution_count": 7,
   "metadata": {},
   "outputs": [
    {
     "data": {
      "text/plain": [
       "SEVERITYCODE        int64\n",
       "X                 float64\n",
       "Y                 float64\n",
       "OBJECTID            int64\n",
       "INCKEY              int64\n",
       "COLDETKEY           int64\n",
       "REPORTNO           object\n",
       "STATUS             object\n",
       "ADDRTYPE           object\n",
       "INTKEY            float64\n",
       "LOCATION           object\n",
       "EXCEPTRSNCODE      object\n",
       "EXCEPTRSNDESC      object\n",
       "SEVERITYCODE.1      int64\n",
       "SEVERITYDESC       object\n",
       "COLLISIONTYPE      object\n",
       "PERSONCOUNT         int64\n",
       "PEDCOUNT            int64\n",
       "PEDCYLCOUNT         int64\n",
       "VEHCOUNT            int64\n",
       "INCDATE            object\n",
       "INCDTTM            object\n",
       "JUNCTIONTYPE       object\n",
       "SDOT_COLCODE        int64\n",
       "SDOT_COLDESC       object\n",
       "INATTENTIONIND     object\n",
       "UNDERINFL          object\n",
       "WEATHER            object\n",
       "ROADCOND           object\n",
       "LIGHTCOND          object\n",
       "PEDROWNOTGRNT      object\n",
       "SDOTCOLNUM        float64\n",
       "SPEEDING           object\n",
       "ST_COLCODE         object\n",
       "ST_COLDESC         object\n",
       "SEGLANEKEY          int64\n",
       "CROSSWALKKEY        int64\n",
       "HITPARKEDCAR       object\n",
       "dtype: object"
      ]
     },
     "execution_count": 7,
     "metadata": {},
     "output_type": "execute_result"
    }
   ],
   "source": [
    "df.dtypes"
   ]
  },
  {
   "cell_type": "code",
   "execution_count": 8,
   "metadata": {},
   "outputs": [],
   "source": [
    "df.drop(['SEVERITYCODE.1','OBJECTID'], inplace = True, axis=1)"
   ]
  },
  {
   "cell_type": "code",
   "execution_count": 9,
   "metadata": {
    "scrolled": false
   },
   "outputs": [
    {
     "data": {
      "text/html": [
       "<div>\n",
       "<style scoped>\n",
       "    .dataframe tbody tr th:only-of-type {\n",
       "        vertical-align: middle;\n",
       "    }\n",
       "\n",
       "    .dataframe tbody tr th {\n",
       "        vertical-align: top;\n",
       "    }\n",
       "\n",
       "    .dataframe thead th {\n",
       "        text-align: right;\n",
       "    }\n",
       "</style>\n",
       "<table border=\"1\" class=\"dataframe\">\n",
       "  <thead>\n",
       "    <tr style=\"text-align: right;\">\n",
       "      <th></th>\n",
       "      <th>SEVERITYCODE</th>\n",
       "      <th>X</th>\n",
       "      <th>Y</th>\n",
       "      <th>INCKEY</th>\n",
       "      <th>COLDETKEY</th>\n",
       "      <th>REPORTNO</th>\n",
       "      <th>STATUS</th>\n",
       "      <th>ADDRTYPE</th>\n",
       "      <th>INTKEY</th>\n",
       "      <th>LOCATION</th>\n",
       "      <th>...</th>\n",
       "      <th>ROADCOND</th>\n",
       "      <th>LIGHTCOND</th>\n",
       "      <th>PEDROWNOTGRNT</th>\n",
       "      <th>SDOTCOLNUM</th>\n",
       "      <th>SPEEDING</th>\n",
       "      <th>ST_COLCODE</th>\n",
       "      <th>ST_COLDESC</th>\n",
       "      <th>SEGLANEKEY</th>\n",
       "      <th>CROSSWALKKEY</th>\n",
       "      <th>HITPARKEDCAR</th>\n",
       "    </tr>\n",
       "  </thead>\n",
       "  <tbody>\n",
       "    <tr>\n",
       "      <th>count</th>\n",
       "      <td>194673.000000</td>\n",
       "      <td>189339.000000</td>\n",
       "      <td>189339.000000</td>\n",
       "      <td>194673.000000</td>\n",
       "      <td>194673.000000</td>\n",
       "      <td>194673</td>\n",
       "      <td>194673</td>\n",
       "      <td>192747</td>\n",
       "      <td>65070.000000</td>\n",
       "      <td>191996</td>\n",
       "      <td>...</td>\n",
       "      <td>189661</td>\n",
       "      <td>189503</td>\n",
       "      <td>4667</td>\n",
       "      <td>1.149360e+05</td>\n",
       "      <td>9333</td>\n",
       "      <td>194655</td>\n",
       "      <td>189769</td>\n",
       "      <td>194673.000000</td>\n",
       "      <td>1.946730e+05</td>\n",
       "      <td>194673</td>\n",
       "    </tr>\n",
       "    <tr>\n",
       "      <th>unique</th>\n",
       "      <td>NaN</td>\n",
       "      <td>NaN</td>\n",
       "      <td>NaN</td>\n",
       "      <td>NaN</td>\n",
       "      <td>NaN</td>\n",
       "      <td>194670</td>\n",
       "      <td>2</td>\n",
       "      <td>3</td>\n",
       "      <td>NaN</td>\n",
       "      <td>24102</td>\n",
       "      <td>...</td>\n",
       "      <td>9</td>\n",
       "      <td>9</td>\n",
       "      <td>1</td>\n",
       "      <td>NaN</td>\n",
       "      <td>1</td>\n",
       "      <td>115</td>\n",
       "      <td>62</td>\n",
       "      <td>NaN</td>\n",
       "      <td>NaN</td>\n",
       "      <td>2</td>\n",
       "    </tr>\n",
       "    <tr>\n",
       "      <th>top</th>\n",
       "      <td>NaN</td>\n",
       "      <td>NaN</td>\n",
       "      <td>NaN</td>\n",
       "      <td>NaN</td>\n",
       "      <td>NaN</td>\n",
       "      <td>1776526</td>\n",
       "      <td>Matched</td>\n",
       "      <td>Block</td>\n",
       "      <td>NaN</td>\n",
       "      <td>BATTERY ST TUNNEL NB BETWEEN ALASKAN WY VI NB ...</td>\n",
       "      <td>...</td>\n",
       "      <td>Dry</td>\n",
       "      <td>Daylight</td>\n",
       "      <td>Y</td>\n",
       "      <td>NaN</td>\n",
       "      <td>Y</td>\n",
       "      <td>32</td>\n",
       "      <td>One parked--one moving</td>\n",
       "      <td>NaN</td>\n",
       "      <td>NaN</td>\n",
       "      <td>N</td>\n",
       "    </tr>\n",
       "    <tr>\n",
       "      <th>freq</th>\n",
       "      <td>NaN</td>\n",
       "      <td>NaN</td>\n",
       "      <td>NaN</td>\n",
       "      <td>NaN</td>\n",
       "      <td>NaN</td>\n",
       "      <td>2</td>\n",
       "      <td>189786</td>\n",
       "      <td>126926</td>\n",
       "      <td>NaN</td>\n",
       "      <td>276</td>\n",
       "      <td>...</td>\n",
       "      <td>124510</td>\n",
       "      <td>116137</td>\n",
       "      <td>4667</td>\n",
       "      <td>NaN</td>\n",
       "      <td>9333</td>\n",
       "      <td>27612</td>\n",
       "      <td>44421</td>\n",
       "      <td>NaN</td>\n",
       "      <td>NaN</td>\n",
       "      <td>187457</td>\n",
       "    </tr>\n",
       "    <tr>\n",
       "      <th>mean</th>\n",
       "      <td>1.298901</td>\n",
       "      <td>-122.330518</td>\n",
       "      <td>47.619543</td>\n",
       "      <td>141091.456350</td>\n",
       "      <td>141298.811381</td>\n",
       "      <td>NaN</td>\n",
       "      <td>NaN</td>\n",
       "      <td>NaN</td>\n",
       "      <td>37558.450576</td>\n",
       "      <td>NaN</td>\n",
       "      <td>...</td>\n",
       "      <td>NaN</td>\n",
       "      <td>NaN</td>\n",
       "      <td>NaN</td>\n",
       "      <td>7.972521e+06</td>\n",
       "      <td>NaN</td>\n",
       "      <td>NaN</td>\n",
       "      <td>NaN</td>\n",
       "      <td>269.401114</td>\n",
       "      <td>9.782452e+03</td>\n",
       "      <td>NaN</td>\n",
       "    </tr>\n",
       "    <tr>\n",
       "      <th>std</th>\n",
       "      <td>0.457778</td>\n",
       "      <td>0.029976</td>\n",
       "      <td>0.056157</td>\n",
       "      <td>86634.402737</td>\n",
       "      <td>86986.542110</td>\n",
       "      <td>NaN</td>\n",
       "      <td>NaN</td>\n",
       "      <td>NaN</td>\n",
       "      <td>51745.990273</td>\n",
       "      <td>NaN</td>\n",
       "      <td>...</td>\n",
       "      <td>NaN</td>\n",
       "      <td>NaN</td>\n",
       "      <td>NaN</td>\n",
       "      <td>2.553533e+06</td>\n",
       "      <td>NaN</td>\n",
       "      <td>NaN</td>\n",
       "      <td>NaN</td>\n",
       "      <td>3315.776055</td>\n",
       "      <td>7.226926e+04</td>\n",
       "      <td>NaN</td>\n",
       "    </tr>\n",
       "    <tr>\n",
       "      <th>min</th>\n",
       "      <td>1.000000</td>\n",
       "      <td>-122.419091</td>\n",
       "      <td>47.495573</td>\n",
       "      <td>1001.000000</td>\n",
       "      <td>1001.000000</td>\n",
       "      <td>NaN</td>\n",
       "      <td>NaN</td>\n",
       "      <td>NaN</td>\n",
       "      <td>23807.000000</td>\n",
       "      <td>NaN</td>\n",
       "      <td>...</td>\n",
       "      <td>NaN</td>\n",
       "      <td>NaN</td>\n",
       "      <td>NaN</td>\n",
       "      <td>1.007024e+06</td>\n",
       "      <td>NaN</td>\n",
       "      <td>NaN</td>\n",
       "      <td>NaN</td>\n",
       "      <td>0.000000</td>\n",
       "      <td>0.000000e+00</td>\n",
       "      <td>NaN</td>\n",
       "    </tr>\n",
       "    <tr>\n",
       "      <th>25%</th>\n",
       "      <td>1.000000</td>\n",
       "      <td>-122.348673</td>\n",
       "      <td>47.575956</td>\n",
       "      <td>70383.000000</td>\n",
       "      <td>70383.000000</td>\n",
       "      <td>NaN</td>\n",
       "      <td>NaN</td>\n",
       "      <td>NaN</td>\n",
       "      <td>28667.000000</td>\n",
       "      <td>NaN</td>\n",
       "      <td>...</td>\n",
       "      <td>NaN</td>\n",
       "      <td>NaN</td>\n",
       "      <td>NaN</td>\n",
       "      <td>6.040015e+06</td>\n",
       "      <td>NaN</td>\n",
       "      <td>NaN</td>\n",
       "      <td>NaN</td>\n",
       "      <td>0.000000</td>\n",
       "      <td>0.000000e+00</td>\n",
       "      <td>NaN</td>\n",
       "    </tr>\n",
       "    <tr>\n",
       "      <th>50%</th>\n",
       "      <td>1.000000</td>\n",
       "      <td>-122.330224</td>\n",
       "      <td>47.615369</td>\n",
       "      <td>123363.000000</td>\n",
       "      <td>123363.000000</td>\n",
       "      <td>NaN</td>\n",
       "      <td>NaN</td>\n",
       "      <td>NaN</td>\n",
       "      <td>29973.000000</td>\n",
       "      <td>NaN</td>\n",
       "      <td>...</td>\n",
       "      <td>NaN</td>\n",
       "      <td>NaN</td>\n",
       "      <td>NaN</td>\n",
       "      <td>8.023022e+06</td>\n",
       "      <td>NaN</td>\n",
       "      <td>NaN</td>\n",
       "      <td>NaN</td>\n",
       "      <td>0.000000</td>\n",
       "      <td>0.000000e+00</td>\n",
       "      <td>NaN</td>\n",
       "    </tr>\n",
       "    <tr>\n",
       "      <th>75%</th>\n",
       "      <td>2.000000</td>\n",
       "      <td>-122.311937</td>\n",
       "      <td>47.663664</td>\n",
       "      <td>203319.000000</td>\n",
       "      <td>203459.000000</td>\n",
       "      <td>NaN</td>\n",
       "      <td>NaN</td>\n",
       "      <td>NaN</td>\n",
       "      <td>33973.000000</td>\n",
       "      <td>NaN</td>\n",
       "      <td>...</td>\n",
       "      <td>NaN</td>\n",
       "      <td>NaN</td>\n",
       "      <td>NaN</td>\n",
       "      <td>1.015501e+07</td>\n",
       "      <td>NaN</td>\n",
       "      <td>NaN</td>\n",
       "      <td>NaN</td>\n",
       "      <td>0.000000</td>\n",
       "      <td>0.000000e+00</td>\n",
       "      <td>NaN</td>\n",
       "    </tr>\n",
       "    <tr>\n",
       "      <th>max</th>\n",
       "      <td>2.000000</td>\n",
       "      <td>-122.238949</td>\n",
       "      <td>47.734142</td>\n",
       "      <td>331454.000000</td>\n",
       "      <td>332954.000000</td>\n",
       "      <td>NaN</td>\n",
       "      <td>NaN</td>\n",
       "      <td>NaN</td>\n",
       "      <td>757580.000000</td>\n",
       "      <td>NaN</td>\n",
       "      <td>...</td>\n",
       "      <td>NaN</td>\n",
       "      <td>NaN</td>\n",
       "      <td>NaN</td>\n",
       "      <td>1.307202e+07</td>\n",
       "      <td>NaN</td>\n",
       "      <td>NaN</td>\n",
       "      <td>NaN</td>\n",
       "      <td>525241.000000</td>\n",
       "      <td>5.239700e+06</td>\n",
       "      <td>NaN</td>\n",
       "    </tr>\n",
       "  </tbody>\n",
       "</table>\n",
       "<p>11 rows × 36 columns</p>\n",
       "</div>"
      ],
      "text/plain": [
       "         SEVERITYCODE              X              Y         INCKEY  \\\n",
       "count   194673.000000  189339.000000  189339.000000  194673.000000   \n",
       "unique            NaN            NaN            NaN            NaN   \n",
       "top               NaN            NaN            NaN            NaN   \n",
       "freq              NaN            NaN            NaN            NaN   \n",
       "mean         1.298901    -122.330518      47.619543  141091.456350   \n",
       "std          0.457778       0.029976       0.056157   86634.402737   \n",
       "min          1.000000    -122.419091      47.495573    1001.000000   \n",
       "25%          1.000000    -122.348673      47.575956   70383.000000   \n",
       "50%          1.000000    -122.330224      47.615369  123363.000000   \n",
       "75%          2.000000    -122.311937      47.663664  203319.000000   \n",
       "max          2.000000    -122.238949      47.734142  331454.000000   \n",
       "\n",
       "            COLDETKEY REPORTNO   STATUS ADDRTYPE         INTKEY  \\\n",
       "count   194673.000000   194673   194673   192747   65070.000000   \n",
       "unique            NaN   194670        2        3            NaN   \n",
       "top               NaN  1776526  Matched    Block            NaN   \n",
       "freq              NaN        2   189786   126926            NaN   \n",
       "mean    141298.811381      NaN      NaN      NaN   37558.450576   \n",
       "std      86986.542110      NaN      NaN      NaN   51745.990273   \n",
       "min       1001.000000      NaN      NaN      NaN   23807.000000   \n",
       "25%      70383.000000      NaN      NaN      NaN   28667.000000   \n",
       "50%     123363.000000      NaN      NaN      NaN   29973.000000   \n",
       "75%     203459.000000      NaN      NaN      NaN   33973.000000   \n",
       "max     332954.000000      NaN      NaN      NaN  757580.000000   \n",
       "\n",
       "                                                 LOCATION  ... ROADCOND  \\\n",
       "count                                              191996  ...   189661   \n",
       "unique                                              24102  ...        9   \n",
       "top     BATTERY ST TUNNEL NB BETWEEN ALASKAN WY VI NB ...  ...      Dry   \n",
       "freq                                                  276  ...   124510   \n",
       "mean                                                  NaN  ...      NaN   \n",
       "std                                                   NaN  ...      NaN   \n",
       "min                                                   NaN  ...      NaN   \n",
       "25%                                                   NaN  ...      NaN   \n",
       "50%                                                   NaN  ...      NaN   \n",
       "75%                                                   NaN  ...      NaN   \n",
       "max                                                   NaN  ...      NaN   \n",
       "\n",
       "       LIGHTCOND PEDROWNOTGRNT    SDOTCOLNUM  SPEEDING  ST_COLCODE  \\\n",
       "count     189503          4667  1.149360e+05      9333      194655   \n",
       "unique         9             1           NaN         1         115   \n",
       "top     Daylight             Y           NaN         Y          32   \n",
       "freq      116137          4667           NaN      9333       27612   \n",
       "mean         NaN           NaN  7.972521e+06       NaN         NaN   \n",
       "std          NaN           NaN  2.553533e+06       NaN         NaN   \n",
       "min          NaN           NaN  1.007024e+06       NaN         NaN   \n",
       "25%          NaN           NaN  6.040015e+06       NaN         NaN   \n",
       "50%          NaN           NaN  8.023022e+06       NaN         NaN   \n",
       "75%          NaN           NaN  1.015501e+07       NaN         NaN   \n",
       "max          NaN           NaN  1.307202e+07       NaN         NaN   \n",
       "\n",
       "                    ST_COLDESC     SEGLANEKEY  CROSSWALKKEY HITPARKEDCAR  \n",
       "count                   189769  194673.000000  1.946730e+05       194673  \n",
       "unique                      62            NaN           NaN            2  \n",
       "top     One parked--one moving            NaN           NaN            N  \n",
       "freq                     44421            NaN           NaN       187457  \n",
       "mean                       NaN     269.401114  9.782452e+03          NaN  \n",
       "std                        NaN    3315.776055  7.226926e+04          NaN  \n",
       "min                        NaN       0.000000  0.000000e+00          NaN  \n",
       "25%                        NaN       0.000000  0.000000e+00          NaN  \n",
       "50%                        NaN       0.000000  0.000000e+00          NaN  \n",
       "75%                        NaN       0.000000  0.000000e+00          NaN  \n",
       "max                        NaN  525241.000000  5.239700e+06          NaN  \n",
       "\n",
       "[11 rows x 36 columns]"
      ]
     },
     "execution_count": 9,
     "metadata": {},
     "output_type": "execute_result"
    }
   ],
   "source": [
    "df.describe(include = \"all\")"
   ]
  },
  {
   "cell_type": "code",
   "execution_count": 10,
   "metadata": {
    "scrolled": true
   },
   "outputs": [
    {
     "data": {
      "image/png": "[encoded data removed]",
      "text/plain": [
       "<Figure size 1440x1440 with 16 Axes>"
      ]
     },
     "metadata": {
      "needs_background": "light"
     },
     "output_type": "display_data"
    }
   ],
   "source": [
    "df.hist(figsize=(20,20))\n",
    "plt.show()"
   ]
  },
  {
   "cell_type": "markdown",
   "metadata": {},
   "source": [
    "# Hot Encoding Variables"
   ]
  },
  {
   "cell_type": "code",
   "execution_count": 11,
   "metadata": {},
   "outputs": [],
   "source": [
    "df['WEATHER'].replace(np.nan,'0', inplace=True)"
   ]
  },
  {
   "cell_type": "code",
   "execution_count": 12,
   "metadata": {},
   "outputs": [
    {
     "data": {
      "text/plain": [
       "0"
      ]
     },
     "execution_count": 12,
     "metadata": {},
     "output_type": "execute_result"
    }
   ],
   "source": [
    "df['WEATHER'].isnull().sum()"
   ]
  },
  {
   "cell_type": "code",
   "execution_count": 13,
   "metadata": {},
   "outputs": [
    {
     "data": {
      "text/plain": [
       "'0         Overcast\\n1          Raining\\n2         Overcast\\n3            Clear\\n4          Raining\\n            ...   \\n194668       Clear\\n194669     Raining\\n194670       Clear\\n194671       Clear\\n194672       Clear\\nName: WEATHER, Length: 194673, dtype: object'"
      ]
     },
     "execution_count": 13,
     "metadata": {},
     "output_type": "execute_result"
    }
   ],
   "source": [
    "str(df['WEATHER'])"
   ]
  },
  {
   "cell_type": "code",
   "execution_count": 14,
   "metadata": {},
   "outputs": [
    {
     "data": {
      "text/plain": [
       "dtype('O')"
      ]
     },
     "execution_count": 14,
     "metadata": {},
     "output_type": "execute_result"
    }
   ],
   "source": [
    "df['WEATHER'].dtypes"
   ]
  },
  {
   "cell_type": "code",
   "execution_count": 15,
   "metadata": {},
   "outputs": [],
   "source": [
    "e= LabelEncoder()"
   ]
  },
  {
   "cell_type": "code",
   "execution_count": 16,
   "metadata": {},
   "outputs": [],
   "source": [
    "df['WEATHER'] = e.fit_transform(df['WEATHER'])"
   ]
  },
  {
   "cell_type": "code",
   "execution_count": 17,
   "metadata": {},
   "outputs": [
    {
     "data": {
      "text/plain": [
       "Daylight                    116137\n",
       "Dark - Street Lights On      48507\n",
       "Unknown                      13473\n",
       "Dusk                          5902\n",
       "Dawn                          2502\n",
       "Dark - No Street Lights       1537\n",
       "Dark - Street Lights Off      1199\n",
       "Other                          235\n",
       "Dark - Unknown Lighting         11\n",
       "Name: LIGHTCOND, dtype: int64"
      ]
     },
     "execution_count": 17,
     "metadata": {},
     "output_type": "execute_result"
    }
   ],
   "source": [
    "df['LIGHTCOND'].value_counts()"
   ]
  },
  {
   "cell_type": "code",
   "execution_count": 18,
   "metadata": {},
   "outputs": [
    {
     "data": {
      "text/plain": [
       "5170"
      ]
     },
     "execution_count": 18,
     "metadata": {},
     "output_type": "execute_result"
    }
   ],
   "source": [
    "df['LIGHTCOND'].isnull().sum()"
   ]
  },
  {
   "cell_type": "code",
   "execution_count": 19,
   "metadata": {},
   "outputs": [],
   "source": [
    "df['LIGHTCOND'].replace(np.nan,'0', inplace=True)"
   ]
  },
  {
   "cell_type": "code",
   "execution_count": 20,
   "metadata": {},
   "outputs": [],
   "source": [
    "df['LIGHTCOND'] = e.fit_transform(df['LIGHTCOND'])"
   ]
  },
  {
   "cell_type": "code",
   "execution_count": 21,
   "metadata": {},
   "outputs": [
    {
     "data": {
      "text/plain": [
       "5012"
      ]
     },
     "execution_count": 21,
     "metadata": {},
     "output_type": "execute_result"
    }
   ],
   "source": [
    "df['ROADCOND'].isnull().sum()"
   ]
  },
  {
   "cell_type": "code",
   "execution_count": 22,
   "metadata": {},
   "outputs": [],
   "source": [
    "df['ROADCOND'].replace(np.nan,'0', inplace=True)"
   ]
  },
  {
   "cell_type": "code",
   "execution_count": 23,
   "metadata": {},
   "outputs": [],
   "source": [
    "df['ROADCOND'] = e.fit_transform(df['ROADCOND'])"
   ]
  },
  {
   "cell_type": "markdown",
   "metadata": {},
   "source": [
    "## Converting Categorical Data into Dummy Variables & Cleaning Other Variables"
   ]
  },
  {
   "cell_type": "markdown",
   "metadata": {},
   "source": [
    "Convert Speeding to Dummy Variables \"0\" = \"Did not speed\" & \"1\" = \"Speeding\""
   ]
  },
  {
   "cell_type": "code",
   "execution_count": 24,
   "metadata": {
    "scrolled": false
   },
   "outputs": [
    {
     "data": {
      "text/plain": [
       "185340"
      ]
     },
     "execution_count": 24,
     "metadata": {},
     "output_type": "execute_result"
    }
   ],
   "source": [
    "df['SPEEDING'].isnull().sum()"
   ]
  },
  {
   "cell_type": "code",
   "execution_count": 25,
   "metadata": {},
   "outputs": [],
   "source": [
    "df['SPEEDING'].replace(np.nan,0, inplace=True)\n",
    "df['SPEEDING'].replace('N',0, inplace=True)\n",
    "df['SPEEDING'].replace('Y',1, inplace=True)"
   ]
  },
  {
   "cell_type": "code",
   "execution_count": 26,
   "metadata": {},
   "outputs": [
    {
     "data": {
      "text/plain": [
       "0"
      ]
     },
     "execution_count": 26,
     "metadata": {},
     "output_type": "execute_result"
    }
   ],
   "source": [
    "df['SPEEDING'].isnull().sum()"
   ]
  },
  {
   "cell_type": "code",
   "execution_count": 27,
   "metadata": {
    "scrolled": true
   },
   "outputs": [
    {
     "data": {
      "text/plain": [
       "0    185340\n",
       "1      9333\n",
       "Name: SPEEDING, dtype: int64"
      ]
     },
     "execution_count": 27,
     "metadata": {},
     "output_type": "execute_result"
    }
   ],
   "source": [
    "df['SPEEDING'].value_counts()"
   ]
  },
  {
   "cell_type": "markdown",
   "metadata": {},
   "source": [
    "Convert \"Under the Influence\" to Dummy Variables \"0\" = \"Was not Under the Influence\" & \"1\" = \"Under the Influence\""
   ]
  },
  {
   "cell_type": "code",
   "execution_count": 28,
   "metadata": {},
   "outputs": [
    {
     "data": {
      "text/plain": [
       "N    100274\n",
       "0     80394\n",
       "Y      5126\n",
       "1      3995\n",
       "Name: UNDERINFL, dtype: int64"
      ]
     },
     "execution_count": 28,
     "metadata": {},
     "output_type": "execute_result"
    }
   ],
   "source": [
    "df['UNDERINFL'].value_counts()"
   ]
  },
  {
   "cell_type": "code",
   "execution_count": 29,
   "metadata": {},
   "outputs": [],
   "source": [
    "df['UNDERINFL'].replace(\"N\",0, inplace=True)\n",
    "df['UNDERINFL'].replace(np.nan,0, inplace=True)\n",
    "df['UNDERINFL'].replace(\"Y\",1, inplace=True)"
   ]
  },
  {
   "cell_type": "code",
   "execution_count": 30,
   "metadata": {
    "scrolled": true
   },
   "outputs": [
    {
     "data": {
      "text/plain": [
       "0    105158\n",
       "0     80394\n",
       "1      5126\n",
       "1      3995\n",
       "Name: UNDERINFL, dtype: int64"
      ]
     },
     "execution_count": 30,
     "metadata": {},
     "output_type": "execute_result"
    }
   ],
   "source": [
    "df['UNDERINFL'].value_counts()"
   ]
  },
  {
   "cell_type": "markdown",
   "metadata": {},
   "source": [
    "Convert \"Hit Parked Car\" to Dummy Variables \"0\" = \"Did not hit parked car\" & \"1\" = \"hit parked car\""
   ]
  },
  {
   "cell_type": "code",
   "execution_count": 31,
   "metadata": {},
   "outputs": [
    {
     "data": {
      "text/plain": [
       "N    187457\n",
       "Y      7216\n",
       "Name: HITPARKEDCAR, dtype: int64"
      ]
     },
     "execution_count": 31,
     "metadata": {},
     "output_type": "execute_result"
    }
   ],
   "source": [
    "df['HITPARKEDCAR'].value_counts()"
   ]
  },
  {
   "cell_type": "code",
   "execution_count": 32,
   "metadata": {},
   "outputs": [],
   "source": [
    "df['HITPARKEDCAR'].replace(\"N\",0, inplace=True)\n",
    "df['HITPARKEDCAR'].replace(np.nan,0, inplace=True)\n",
    "df['HITPARKEDCAR'].replace(\"Y\",1, inplace=True)"
   ]
  },
  {
   "cell_type": "markdown",
   "metadata": {},
   "source": [
    "Convert \"Pedestrian Right Of Way Not Granted\" to Dummy Variables \"0\" = \"Not Granted\" & \"1\" = \"Granted\""
   ]
  },
  {
   "cell_type": "code",
   "execution_count": 33,
   "metadata": {},
   "outputs": [
    {
     "data": {
      "text/plain": [
       "Y    4667\n",
       "Name: PEDROWNOTGRNT, dtype: int64"
      ]
     },
     "execution_count": 33,
     "metadata": {},
     "output_type": "execute_result"
    }
   ],
   "source": [
    "df['PEDROWNOTGRNT'].value_counts()"
   ]
  },
  {
   "cell_type": "code",
   "execution_count": 34,
   "metadata": {},
   "outputs": [
    {
     "data": {
      "text/plain": [
       "(194673,)"
      ]
     },
     "execution_count": 34,
     "metadata": {},
     "output_type": "execute_result"
    }
   ],
   "source": [
    "df['PEDROWNOTGRNT'].shape"
   ]
  },
  {
   "cell_type": "code",
   "execution_count": 35,
   "metadata": {},
   "outputs": [],
   "source": [
    "df['PEDROWNOTGRNT'].replace(\"N\",0, inplace=True)\n",
    "df['PEDROWNOTGRNT'].replace(np.nan,0, inplace=True)\n",
    "df['PEDROWNOTGRNT'].replace(\"Y\",1, inplace=True)"
   ]
  },
  {
   "cell_type": "code",
   "execution_count": 36,
   "metadata": {
    "scrolled": true
   },
   "outputs": [
    {
     "data": {
      "text/plain": [
       "0    190006\n",
       "1      4667\n",
       "Name: PEDROWNOTGRNT, dtype: int64"
      ]
     },
     "execution_count": 36,
     "metadata": {},
     "output_type": "execute_result"
    }
   ],
   "source": [
    "df['PEDROWNOTGRNT'].value_counts()"
   ]
  },
  {
   "cell_type": "markdown",
   "metadata": {},
   "source": [
    "Convert \"Severity Code\" to Dummy Variables \"0\" = \"Prop Damage\" & \"1\" = \"Serious Injury\""
   ]
  },
  {
   "cell_type": "code",
   "execution_count": 37,
   "metadata": {},
   "outputs": [
    {
     "data": {
      "text/plain": [
       "1    136485\n",
       "2     58188\n",
       "Name: SEVERITYCODE, dtype: int64"
      ]
     },
     "execution_count": 37,
     "metadata": {},
     "output_type": "execute_result"
    }
   ],
   "source": [
    "df['SEVERITYCODE'].value_counts()"
   ]
  },
  {
   "cell_type": "code",
   "execution_count": 38,
   "metadata": {},
   "outputs": [
    {
     "data": {
      "text/plain": [
       "0"
      ]
     },
     "execution_count": 38,
     "metadata": {},
     "output_type": "execute_result"
    }
   ],
   "source": [
    "df['SEVERITYCODE'].isnull().sum()"
   ]
  },
  {
   "cell_type": "code",
   "execution_count": 39,
   "metadata": {},
   "outputs": [],
   "source": [
    "df['SEVERITYCODE'].replace(1,0, inplace=True)\n",
    "df['SEVERITYCODE'].replace(2,1, inplace=True)"
   ]
  },
  {
   "cell_type": "code",
   "execution_count": 40,
   "metadata": {
    "scrolled": false
   },
   "outputs": [
    {
     "data": {
      "text/plain": [
       "0    136485\n",
       "1     58188\n",
       "Name: SEVERITYCODE, dtype: int64"
      ]
     },
     "execution_count": 40,
     "metadata": {},
     "output_type": "execute_result"
    }
   ],
   "source": [
    "df['SEVERITYCODE'].value_counts()"
   ]
  },
  {
   "cell_type": "markdown",
   "metadata": {},
   "source": [
    "Convert \"Innattention\" to Dummy Variables \"0\" = \"N\" & \"1\" = \"Y\""
   ]
  },
  {
   "cell_type": "code",
   "execution_count": 41,
   "metadata": {},
   "outputs": [
    {
     "data": {
      "text/plain": [
       "Y    29805\n",
       "Name: INATTENTIONIND, dtype: int64"
      ]
     },
     "execution_count": 41,
     "metadata": {},
     "output_type": "execute_result"
    }
   ],
   "source": [
    "df['INATTENTIONIND'].value_counts()"
   ]
  },
  {
   "cell_type": "code",
   "execution_count": 42,
   "metadata": {},
   "outputs": [],
   "source": [
    "df['INATTENTIONIND'].replace(\"N\",0, inplace=True)\n",
    "df['INATTENTIONIND'].replace(np.nan,0, inplace=True)\n",
    "df['INATTENTIONIND'].replace(\"Y\",1, inplace=True)"
   ]
  },
  {
   "cell_type": "code",
   "execution_count": 43,
   "metadata": {},
   "outputs": [
    {
     "data": {
      "text/plain": [
       "0    164868\n",
       "1     29805\n",
       "Name: INATTENTIONIND, dtype: int64"
      ]
     },
     "execution_count": 43,
     "metadata": {},
     "output_type": "execute_result"
    }
   ],
   "source": [
    "df['INATTENTIONIND'].value_counts()"
   ]
  },
  {
   "cell_type": "code",
   "execution_count": 44,
   "metadata": {},
   "outputs": [
    {
     "data": {
      "text/plain": [
       "Block           126926\n",
       "Intersection     65070\n",
       "Alley              751\n",
       "Name: ADDRTYPE, dtype: int64"
      ]
     },
     "execution_count": 44,
     "metadata": {},
     "output_type": "execute_result"
    }
   ],
   "source": [
    "df['ADDRTYPE'].value_counts()"
   ]
  },
  {
   "cell_type": "code",
   "execution_count": 45,
   "metadata": {},
   "outputs": [
    {
     "data": {
      "text/plain": [
       "1926"
      ]
     },
     "execution_count": 45,
     "metadata": {},
     "output_type": "execute_result"
    }
   ],
   "source": [
    "df['ADDRTYPE'].isnull().sum()"
   ]
  },
  {
   "cell_type": "code",
   "execution_count": 46,
   "metadata": {},
   "outputs": [],
   "source": [
    "df['ADDRTYPE'].isnull().sum()\n",
    "df['ADDRTYPE'].replace(np.nan,0, inplace=True)"
   ]
  },
  {
   "cell_type": "code",
   "execution_count": 47,
   "metadata": {},
   "outputs": [
    {
     "data": {
      "text/plain": [
       "Block           126926\n",
       "Intersection     65070\n",
       "0                 1926\n",
       "Alley              751\n",
       "Name: ADDRTYPE, dtype: int64"
      ]
     },
     "execution_count": 47,
     "metadata": {},
     "output_type": "execute_result"
    }
   ],
   "source": [
    "df['ADDRTYPE'].value_counts()"
   ]
  },
  {
   "cell_type": "code",
   "execution_count": 48,
   "metadata": {
    "scrolled": true
   },
   "outputs": [
    {
     "data": {
      "image/png": "[encoded data removed]",
      "text/plain": [
       "<Figure size 1440x1440 with 9 Axes>"
      ]
     },
     "metadata": {
      "needs_background": "light"
     },
     "output_type": "display_data"
    }
   ],
   "source": [
    "df[['PERSONCOUNT','VEHCOUNT','HITPARKEDCAR','PEDCOUNT','UNDERINFL','SPEEDING', 'PEDROWNOTGRNT','PEDCYLCOUNT','INATTENTIONIND','SEVERITYCODE']].hist(figsize=(20,20))\n",
    "plt.show()"
   ]
  },
  {
   "cell_type": "code",
   "execution_count": 49,
   "metadata": {},
   "outputs": [],
   "source": [
    "primedata = df[['PERSONCOUNT','VEHCOUNT','HITPARKEDCAR','PEDCOUNT','UNDERINFL','SPEEDING', 'PEDROWNOTGRNT','PEDCYLCOUNT','ROADCOND','LIGHTCOND','WEATHER','INATTENTIONIND','SEVERITYCODE']]"
   ]
  },
  {
   "cell_type": "code",
   "execution_count": 50,
   "metadata": {
    "scrolled": true
   },
   "outputs": [
    {
     "data": {
      "text/html": [
       "<div>\n",
       "<style scoped>\n",
       "    .dataframe tbody tr th:only-of-type {\n",
       "        vertical-align: middle;\n",
       "    }\n",
       "\n",
       "    .dataframe tbody tr th {\n",
       "        vertical-align: top;\n",
       "    }\n",
       "\n",
       "    .dataframe thead th {\n",
       "        text-align: right;\n",
       "    }\n",
       "</style>\n",
       "<table border=\"1\" class=\"dataframe\">\n",
       "  <thead>\n",
       "    <tr style=\"text-align: right;\">\n",
       "      <th></th>\n",
       "      <th>PERSONCOUNT</th>\n",
       "      <th>VEHCOUNT</th>\n",
       "      <th>HITPARKEDCAR</th>\n",
       "      <th>PEDCOUNT</th>\n",
       "      <th>SPEEDING</th>\n",
       "      <th>PEDROWNOTGRNT</th>\n",
       "      <th>PEDCYLCOUNT</th>\n",
       "      <th>ROADCOND</th>\n",
       "      <th>LIGHTCOND</th>\n",
       "      <th>WEATHER</th>\n",
       "      <th>INATTENTIONIND</th>\n",
       "      <th>SEVERITYCODE</th>\n",
       "    </tr>\n",
       "  </thead>\n",
       "  <tbody>\n",
       "    <tr>\n",
       "      <th>PERSONCOUNT</th>\n",
       "      <td>1.000000</td>\n",
       "      <td>0.380523</td>\n",
       "      <td>-0.052766</td>\n",
       "      <td>-0.023464</td>\n",
       "      <td>-0.002963</td>\n",
       "      <td>-0.027449</td>\n",
       "      <td>-0.038809</td>\n",
       "      <td>-0.020697</td>\n",
       "      <td>-0.004291</td>\n",
       "      <td>-0.047186</td>\n",
       "      <td>0.077435</td>\n",
       "      <td>0.130949</td>\n",
       "    </tr>\n",
       "    <tr>\n",
       "      <th>VEHCOUNT</th>\n",
       "      <td>0.380523</td>\n",
       "      <td>1.000000</td>\n",
       "      <td>0.048845</td>\n",
       "      <td>-0.261285</td>\n",
       "      <td>-0.025743</td>\n",
       "      <td>-0.227990</td>\n",
       "      <td>-0.253773</td>\n",
       "      <td>0.061051</td>\n",
       "      <td>0.244107</td>\n",
       "      <td>0.100312</td>\n",
       "      <td>0.076277</td>\n",
       "      <td>-0.054686</td>\n",
       "    </tr>\n",
       "    <tr>\n",
       "      <th>HITPARKEDCAR</th>\n",
       "      <td>-0.052766</td>\n",
       "      <td>0.048845</td>\n",
       "      <td>1.000000</td>\n",
       "      <td>-0.035264</td>\n",
       "      <td>-0.028374</td>\n",
       "      <td>-0.030749</td>\n",
       "      <td>-0.030187</td>\n",
       "      <td>0.017040</td>\n",
       "      <td>0.021109</td>\n",
       "      <td>0.055640</td>\n",
       "      <td>0.011946</td>\n",
       "      <td>-0.101498</td>\n",
       "    </tr>\n",
       "    <tr>\n",
       "      <th>PEDCOUNT</th>\n",
       "      <td>-0.023464</td>\n",
       "      <td>-0.261285</td>\n",
       "      <td>-0.035264</td>\n",
       "      <td>1.000000</td>\n",
       "      <td>-0.032838</td>\n",
       "      <td>0.494641</td>\n",
       "      <td>-0.016920</td>\n",
       "      <td>0.009098</td>\n",
       "      <td>-0.022708</td>\n",
       "      <td>-0.006316</td>\n",
       "      <td>-0.004315</td>\n",
       "      <td>0.246338</td>\n",
       "    </tr>\n",
       "    <tr>\n",
       "      <th>SPEEDING</th>\n",
       "      <td>-0.002963</td>\n",
       "      <td>-0.025743</td>\n",
       "      <td>-0.028374</td>\n",
       "      <td>-0.032838</td>\n",
       "      <td>1.000000</td>\n",
       "      <td>-0.028410</td>\n",
       "      <td>-0.020391</td>\n",
       "      <td>0.092804</td>\n",
       "      <td>-0.072967</td>\n",
       "      <td>0.043343</td>\n",
       "      <td>-0.048805</td>\n",
       "      <td>0.038938</td>\n",
       "    </tr>\n",
       "    <tr>\n",
       "      <th>PEDROWNOTGRNT</th>\n",
       "      <td>-0.027449</td>\n",
       "      <td>-0.227990</td>\n",
       "      <td>-0.030749</td>\n",
       "      <td>0.494641</td>\n",
       "      <td>-0.028410</td>\n",
       "      <td>1.000000</td>\n",
       "      <td>0.323652</td>\n",
       "      <td>0.001972</td>\n",
       "      <td>-0.001832</td>\n",
       "      <td>-0.010727</td>\n",
       "      <td>-0.026442</td>\n",
       "      <td>0.206283</td>\n",
       "    </tr>\n",
       "    <tr>\n",
       "      <th>PEDCYLCOUNT</th>\n",
       "      <td>-0.038809</td>\n",
       "      <td>-0.253773</td>\n",
       "      <td>-0.030187</td>\n",
       "      <td>-0.016920</td>\n",
       "      <td>-0.020391</td>\n",
       "      <td>0.323652</td>\n",
       "      <td>1.000000</td>\n",
       "      <td>-0.045831</td>\n",
       "      <td>0.022355</td>\n",
       "      <td>-0.047333</td>\n",
       "      <td>0.004073</td>\n",
       "      <td>0.214218</td>\n",
       "    </tr>\n",
       "    <tr>\n",
       "      <th>ROADCOND</th>\n",
       "      <td>-0.020697</td>\n",
       "      <td>0.061051</td>\n",
       "      <td>0.017040</td>\n",
       "      <td>0.009098</td>\n",
       "      <td>0.092804</td>\n",
       "      <td>0.001972</td>\n",
       "      <td>-0.045831</td>\n",
       "      <td>1.000000</td>\n",
       "      <td>0.094970</td>\n",
       "      <td>0.755336</td>\n",
       "      <td>-0.045013</td>\n",
       "      <td>-0.043377</td>\n",
       "    </tr>\n",
       "    <tr>\n",
       "      <th>LIGHTCOND</th>\n",
       "      <td>-0.004291</td>\n",
       "      <td>0.244107</td>\n",
       "      <td>0.021109</td>\n",
       "      <td>-0.022708</td>\n",
       "      <td>-0.072967</td>\n",
       "      <td>-0.001832</td>\n",
       "      <td>0.022355</td>\n",
       "      <td>0.094970</td>\n",
       "      <td>1.000000</td>\n",
       "      <td>0.286380</td>\n",
       "      <td>0.028741</td>\n",
       "      <td>-0.038968</td>\n",
       "    </tr>\n",
       "    <tr>\n",
       "      <th>WEATHER</th>\n",
       "      <td>-0.047186</td>\n",
       "      <td>0.100312</td>\n",
       "      <td>0.055640</td>\n",
       "      <td>-0.006316</td>\n",
       "      <td>0.043343</td>\n",
       "      <td>-0.010727</td>\n",
       "      <td>-0.047333</td>\n",
       "      <td>0.755336</td>\n",
       "      <td>0.286380</td>\n",
       "      <td>1.000000</td>\n",
       "      <td>-0.065581</td>\n",
       "      <td>-0.099871</td>\n",
       "    </tr>\n",
       "    <tr>\n",
       "      <th>INATTENTIONIND</th>\n",
       "      <td>0.077435</td>\n",
       "      <td>0.076277</td>\n",
       "      <td>0.011946</td>\n",
       "      <td>-0.004315</td>\n",
       "      <td>-0.048805</td>\n",
       "      <td>-0.026442</td>\n",
       "      <td>0.004073</td>\n",
       "      <td>-0.045013</td>\n",
       "      <td>0.028741</td>\n",
       "      <td>-0.065581</td>\n",
       "      <td>1.000000</td>\n",
       "      <td>0.046378</td>\n",
       "    </tr>\n",
       "    <tr>\n",
       "      <th>SEVERITYCODE</th>\n",
       "      <td>0.130949</td>\n",
       "      <td>-0.054686</td>\n",
       "      <td>-0.101498</td>\n",
       "      <td>0.246338</td>\n",
       "      <td>0.038938</td>\n",
       "      <td>0.206283</td>\n",
       "      <td>0.214218</td>\n",
       "      <td>-0.043377</td>\n",
       "      <td>-0.038968</td>\n",
       "      <td>-0.099871</td>\n",
       "      <td>0.046378</td>\n",
       "      <td>1.000000</td>\n",
       "    </tr>\n",
       "  </tbody>\n",
       "</table>\n",
       "</div>"
      ],
      "text/plain": [
       "                PERSONCOUNT  VEHCOUNT  HITPARKEDCAR  PEDCOUNT  SPEEDING  \\\n",
       "PERSONCOUNT        1.000000  0.380523     -0.052766 -0.023464 -0.002963   \n",
       "VEHCOUNT           0.380523  1.000000      0.048845 -0.261285 -0.025743   \n",
       "HITPARKEDCAR      -0.052766  0.048845      1.000000 -0.035264 -0.028374   \n",
       "PEDCOUNT          -0.023464 -0.261285     -0.035264  1.000000 -0.032838   \n",
       "SPEEDING          -0.002963 -0.025743     -0.028374 -0.032838  1.000000   \n",
       "PEDROWNOTGRNT     -0.027449 -0.227990     -0.030749  0.494641 -0.028410   \n",
       "PEDCYLCOUNT       -0.038809 -0.253773     -0.030187 -0.016920 -0.020391   \n",
       "ROADCOND          -0.020697  0.061051      0.017040  0.009098  0.092804   \n",
       "LIGHTCOND         -0.004291  0.244107      0.021109 -0.022708 -0.072967   \n",
       "WEATHER           -0.047186  0.100312      0.055640 -0.006316  0.043343   \n",
       "INATTENTIONIND     0.077435  0.076277      0.011946 -0.004315 -0.048805   \n",
       "SEVERITYCODE       0.130949 -0.054686     -0.101498  0.246338  0.038938   \n",
       "\n",
       "                PEDROWNOTGRNT  PEDCYLCOUNT  ROADCOND  LIGHTCOND   WEATHER  \\\n",
       "PERSONCOUNT         -0.027449    -0.038809 -0.020697  -0.004291 -0.047186   \n",
       "VEHCOUNT            -0.227990    -0.253773  0.061051   0.244107  0.100312   \n",
       "HITPARKEDCAR        -0.030749    -0.030187  0.017040   0.021109  0.055640   \n",
       "PEDCOUNT             0.494641    -0.016920  0.009098  -0.022708 -0.006316   \n",
       "SPEEDING            -0.028410    -0.020391  0.092804  -0.072967  0.043343   \n",
       "PEDROWNOTGRNT        1.000000     0.323652  0.001972  -0.001832 -0.010727   \n",
       "PEDCYLCOUNT          0.323652     1.000000 -0.045831   0.022355 -0.047333   \n",
       "ROADCOND             0.001972    -0.045831  1.000000   0.094970  0.755336   \n",
       "LIGHTCOND           -0.001832     0.022355  0.094970   1.000000  0.286380   \n",
       "WEATHER             -0.010727    -0.047333  0.755336   0.286380  1.000000   \n",
       "INATTENTIONIND      -0.026442     0.004073 -0.045013   0.028741 -0.065581   \n",
       "SEVERITYCODE         0.206283     0.214218 -0.043377  -0.038968 -0.099871   \n",
       "\n",
       "                INATTENTIONIND  SEVERITYCODE  \n",
       "PERSONCOUNT           0.077435      0.130949  \n",
       "VEHCOUNT              0.076277     -0.054686  \n",
       "HITPARKEDCAR          0.011946     -0.101498  \n",
       "PEDCOUNT             -0.004315      0.246338  \n",
       "SPEEDING             -0.048805      0.038938  \n",
       "PEDROWNOTGRNT        -0.026442      0.206283  \n",
       "PEDCYLCOUNT           0.004073      0.214218  \n",
       "ROADCOND             -0.045013     -0.043377  \n",
       "LIGHTCOND             0.028741     -0.038968  \n",
       "WEATHER              -0.065581     -0.099871  \n",
       "INATTENTIONIND        1.000000      0.046378  \n",
       "SEVERITYCODE          0.046378      1.000000  "
      ]
     },
     "execution_count": 50,
     "metadata": {},
     "output_type": "execute_result"
    }
   ],
   "source": [
    "primedata.corr()"
   ]
  },
  {
   "cell_type": "code",
   "execution_count": 51,
   "metadata": {},
   "outputs": [
    {
     "data": {
      "text/plain": [
       "<matplotlib.axes._subplots.AxesSubplot at 0x7fd8d4356a90>"
      ]
     },
     "execution_count": 51,
     "metadata": {},
     "output_type": "execute_result"
    },
    {
     "data": {
      "image/png": "[encoded data removed]",
      "text/plain": [
       "<Figure size 720x432 with 2 Axes>"
      ]
     },
     "metadata": {
      "needs_background": "light"
     },
     "output_type": "display_data"
    }
   ],
   "source": [
    "plt.figure(figsize = (10,6))\n",
    "sns.heatmap(primedata.corr(), annot=True, vmin=-1, vmax=1, center=0, cmap='Blues',linewidths=0.5, annot_kws={'size':8})"
   ]
  },
  {
   "cell_type": "markdown",
   "metadata": {},
   "source": [
    "# K- Nearest Neighbors"
   ]
  },
  {
   "cell_type": "code",
   "execution_count": 52,
   "metadata": {},
   "outputs": [
    {
     "data": {
      "text/plain": [
       "array([[5, 9, 6, 0, 0, 0, 0, 2],\n",
       "       [7, 9, 3, 0, 0, 0, 0, 2],\n",
       "       [5, 1, 6, 0, 0, 0, 0, 3],\n",
       "       [2, 1, 6, 0, 0, 0, 0, 3],\n",
       "       [7, 9, 6, 0, 0, 0, 0, 2]])"
      ]
     },
     "execution_count": 52,
     "metadata": {},
     "output_type": "execute_result"
    }
   ],
   "source": [
    "X = df[['WEATHER','ROADCOND','LIGHTCOND','PEDROWNOTGRNT','INATTENTIONIND','SPEEDING','PEDCOUNT','VEHCOUNT']] .values  \n",
    "X[0:5]"
   ]
  },
  {
   "cell_type": "code",
   "execution_count": 53,
   "metadata": {},
   "outputs": [
    {
     "data": {
      "text/plain": [
       "array([1, 0, 0, 0, 1])"
      ]
     },
     "execution_count": 53,
     "metadata": {},
     "output_type": "execute_result"
    }
   ],
   "source": [
    "y = df['SEVERITYCODE'].values\n",
    "y [0:5]"
   ]
  },
  {
   "cell_type": "markdown",
   "metadata": {},
   "source": [
    "Pre-Processing"
   ]
  },
  {
   "cell_type": "code",
   "execution_count": 54,
   "metadata": {},
   "outputs": [
    {
     "data": {
      "text/plain": [
       "array([[ 0.35364615,  1.50545441,  0.3912104 , -0.1567239 , -0.42518348,\n",
       "        -0.22440165, -0.18743029,  0.12553783],\n",
       "       [ 1.04520829,  1.50545441, -1.18714134, -0.1567239 , -0.42518348,\n",
       "        -0.22440165, -0.18743029,  0.12553783],\n",
       "       [ 0.35364615, -0.68713674,  0.3912104 , -0.1567239 , -0.42518348,\n",
       "        -0.22440165, -0.18743029,  1.7102107 ],\n",
       "       [-0.68369706, -0.68713674,  0.3912104 , -0.1567239 , -0.42518348,\n",
       "        -0.22440165, -0.18743029,  1.7102107 ],\n",
       "       [ 1.04520829,  1.50545441,  0.3912104 , -0.1567239 , -0.42518348,\n",
       "        -0.22440165, -0.18743029,  0.12553783]])"
      ]
     },
     "execution_count": 54,
     "metadata": {},
     "output_type": "execute_result"
    }
   ],
   "source": [
    "X = preprocessing.StandardScaler().fit(X).transform(X.astype(float))\n",
    "X[0:5]"
   ]
  },
  {
   "cell_type": "code",
   "execution_count": 55,
   "metadata": {},
   "outputs": [
    {
     "name": "stdout",
     "output_type": "stream",
     "text": [
      "Train set: (155738, 8) (155738,)\n",
      "Test set: (38935, 8) (38935,)\n"
     ]
    }
   ],
   "source": [
    "X_train, X_test, y_train, y_test = train_test_split( X, y, test_size=0.2, random_state=4)\n",
    "print ('Train set:', X_train.shape,  y_train.shape)\n",
    "print ('Test set:', X_test.shape,  y_test.shape)"
   ]
  },
  {
   "cell_type": "markdown",
   "metadata": {},
   "source": [
    "Training"
   ]
  },
  {
   "cell_type": "code",
   "execution_count": 56,
   "metadata": {},
   "outputs": [
    {
     "data": {
      "text/plain": [
       "KNeighborsClassifier(algorithm='auto', leaf_size=30, metric='minkowski',\n",
       "                     metric_params=None, n_jobs=None, n_neighbors=4, p=2,\n",
       "                     weights='uniform')"
      ]
     },
     "execution_count": 56,
     "metadata": {},
     "output_type": "execute_result"
    }
   ],
   "source": [
    "k = 4\n",
    "#Train Model and Predict  \n",
    "neigh = KNeighborsClassifier(n_neighbors = k).fit(X_train,y_train)\n",
    "neigh"
   ]
  },
  {
   "cell_type": "code",
   "execution_count": 57,
   "metadata": {},
   "outputs": [
    {
     "data": {
      "text/plain": [
       "array([0, 0, 0, 0, 0])"
      ]
     },
     "execution_count": 57,
     "metadata": {},
     "output_type": "execute_result"
    }
   ],
   "source": [
    "yhat = neigh.predict(X_test)\n",
    "yhat[0:5]"
   ]
  },
  {
   "cell_type": "code",
   "execution_count": 58,
   "metadata": {},
   "outputs": [
    {
     "name": "stdout",
     "output_type": "stream",
     "text": [
      "Train set Accuracy:  0.7064557140839102\n",
      "Test set Accuracy:  0.70766662386028\n"
     ]
    }
   ],
   "source": [
    "print(\"Train set Accuracy: \", metrics.accuracy_score(y_train, neigh.predict(X_train)))\n",
    "print(\"Test set Accuracy: \", metrics.accuracy_score(y_test, yhat))"
   ]
  },
  {
   "cell_type": "code",
   "execution_count": 59,
   "metadata": {},
   "outputs": [],
   "source": [
    "Ks = 10\n",
    "mean_acc = np.zeros((Ks-1))\n",
    "std_acc = np.zeros((Ks-1))\n",
    "ConfustionMx = [];\n",
    "    "
   ]
  },
  {
   "cell_type": "code",
   "execution_count": 60,
   "metadata": {},
   "outputs": [],
   "source": [
    "for n in range(1,Ks):\n",
    "    #Train Model and Predict  \n",
    "    neigh = KNeighborsClassifier(n_neighbors = n).fit(X_train,y_train)\n",
    "    yhat=neigh.predict(X_test)\n",
    "    mean_acc[n-1] = metrics.accuracy_score(y_test, yhat)\n",
    "\n",
    "    \n",
    "    std_acc[n-1]=np.std(yhat==y_test)/np.sqrt(yhat.shape[0])"
   ]
  },
  {
   "cell_type": "code",
   "execution_count": 61,
   "metadata": {},
   "outputs": [
    {
     "data": {
      "text/plain": [
       "array([0.63790934, 0.70360858, 0.67322461, 0.70766662, 0.67902915,\n",
       "       0.72366765, 0.60089893, 0.72487479, 0.72127905])"
      ]
     },
     "execution_count": 61,
     "metadata": {},
     "output_type": "execute_result"
    }
   ],
   "source": [
    "mean_acc"
   ]
  },
  {
   "cell_type": "code",
   "execution_count": 62,
   "metadata": {},
   "outputs": [
    {
     "data": {
      "image/png": "[encoded data removed]",
      "text/plain": [
       "<Figure size 432x288 with 1 Axes>"
      ]
     },
     "metadata": {
      "needs_background": "light"
     },
     "output_type": "display_data"
    }
   ],
   "source": [
    "plt.plot(range(1,Ks),mean_acc,'b')\n",
    "plt.fill_between(range(1,Ks),mean_acc - 1 * std_acc,mean_acc + 1 * std_acc, alpha=0.10, color='orange')\n",
    "plt.legend(('Accuracy ', '+/- 3xstd'))\n",
    "plt.ylabel('Accuracy ')\n",
    "plt.xlabel('Number of Neighbours (K)')\n",
    "plt.tight_layout()\n",
    "plt.show()"
   ]
  },
  {
   "cell_type": "code",
   "execution_count": 63,
   "metadata": {
    "scrolled": true
   },
   "outputs": [
    {
     "name": "stdout",
     "output_type": "stream",
     "text": [
      "The best accuracy is : 0.7248747913188648 when k= 8\n",
      "0.7212790548349813 0.6796360012425189\n"
     ]
    },
    {
     "name": "stderr",
     "output_type": "stream",
     "text": [
      "/Users/jgacuca/Desktop/anaconda3/lib/python3.7/site-packages/sklearn/metrics/_classification.py:664: FutureWarning: jaccard_similarity_score has been deprecated and replaced with jaccard_score. It will be removed in version 0.23. This implementation has surprising behavior for binary and multiclass classification tasks.\n",
      "  FutureWarning)\n"
     ]
    }
   ],
   "source": [
    "print( \"The best accuracy is :\", mean_acc.max(), \"when k=\", mean_acc.argmax()+1) \n",
    "\n",
    "#K-Nearest Neighbours evaluation metrics\n",
    "\n",
    "knn1 = jaccard_similarity_score(y_test, yhat)\n",
    "knn2 = f1_score(y_test, yhat, average='weighted')\n",
    "\n",
    "print(knn1, knn2)"
   ]
  },
  {
   "cell_type": "markdown",
   "metadata": {},
   "source": [
    "# Decision Tree"
   ]
  },
  {
   "cell_type": "code",
   "execution_count": 64,
   "metadata": {},
   "outputs": [
    {
     "data": {
      "text/plain": [
       "DecisionTreeClassifier(ccp_alpha=0.0, class_weight=None, criterion='entropy',\n",
       "                       max_depth=4, max_features=None, max_leaf_nodes=None,\n",
       "                       min_impurity_decrease=0.0, min_impurity_split=None,\n",
       "                       min_samples_leaf=1, min_samples_split=2,\n",
       "                       min_weight_fraction_leaf=0.0, presort='deprecated',\n",
       "                       random_state=None, splitter='best')"
      ]
     },
     "execution_count": 64,
     "metadata": {},
     "output_type": "execute_result"
    }
   ],
   "source": [
    "#Decision Tree\n",
    "SeverityTree = DecisionTreeClassifier(criterion=\"entropy\", max_depth = 4) \n",
    "SeverityTree.fit(X_train, y_train)"
   ]
  },
  {
   "cell_type": "code",
   "execution_count": 65,
   "metadata": {},
   "outputs": [],
   "source": [
    "predTree = SeverityTree.predict(X_test)"
   ]
  },
  {
   "cell_type": "code",
   "execution_count": 66,
   "metadata": {},
   "outputs": [
    {
     "name": "stderr",
     "output_type": "stream",
     "text": [
      "/Users/jgacuca/Desktop/anaconda3/lib/python3.7/site-packages/sklearn/metrics/_classification.py:664: FutureWarning: jaccard_similarity_score has been deprecated and replaced with jaccard_score. It will be removed in version 0.23. This implementation has surprising behavior for binary and multiclass classification tasks.\n",
      "  FutureWarning)\n"
     ]
    }
   ],
   "source": [
    "#Decision Tree evaluation metrics\n",
    "\n",
    "dt1 = jaccard_similarity_score(y_test, predTree)\n",
    "dt2 = f1_score(y_test, predTree, average='weighted')\n",
    "dtac = accuracy_score(y_test, predTree)"
   ]
  },
  {
   "cell_type": "code",
   "execution_count": 67,
   "metadata": {
    "scrolled": false
   },
   "outputs": [
    {
     "name": "stdout",
     "output_type": "stream",
     "text": [
      "[0 0 0 0 0 0 0 0 0 0 0 0 0 0 0 0 0 0 0 0 0 0 0 0 0 0 0 0 0 0 0 0 0 0 0 0 0\n",
      " 0 0 0 0 0 0 0 0 0 0 0 0 0 0 1 0 0 0 0 0 0 0 0 0 0 0 0 0 1 0 1 1 0 0 0 0 0\n",
      " 0 0 0 0 0 0 0 0 0 0 0 0 0 0 0 0 0 1 0 0 0 0 0 0 0 0 0]\n",
      "[1 0 0 1 1 0 1 1 1 0 0 1 0 0 0 0 0 0 1 0 1 0 0 0 1 0 0 0 0 0 1 0 0 1 1 1 0\n",
      " 0 0 0 0 1 0 0 0 0 1 0 0 0 0 1 0 0 1 1 0 0 0 0 0 0 0 0 0 1 0 1 1 1 0 0 0 1\n",
      " 0 1 0 1 0 0 0 0 0 1 0 0 0 0 1 1 0 1 0 0 1 0 0 1 1 1 0]\n",
      "0.7392834210864261 0.6627023610604361\n"
     ]
    }
   ],
   "source": [
    "print(predTree[0:101])\n",
    "print(y_test[0:101])\n",
    "print(dt1,dt2)"
   ]
  },
  {
   "cell_type": "markdown",
   "metadata": {},
   "source": [
    "# Logistic Regression"
   ]
  },
  {
   "cell_type": "markdown",
   "metadata": {},
   "source": [
    "Normalize the dataset"
   ]
  },
  {
   "cell_type": "code",
   "execution_count": null,
   "metadata": {
    "scrolled": true
   },
   "outputs": [],
   "source": [
    "X = preprocessing.StandardScaler().fit(X).transform(X)\n",
    "X[0:5]"
   ]
  },
  {
   "cell_type": "markdown",
   "metadata": {},
   "source": [
    "### Train/Test Dataset"
   ]
  },
  {
   "cell_type": "code",
   "execution_count": null,
   "metadata": {},
   "outputs": [],
   "source": [
    "from sklearn.model_selection import train_test_split\n",
    "X_train, X_test, y_train, y_test = train_test_split( X, y, test_size=0.2, random_state=4)\n",
    "print ('Train set:', X_train.shape,  y_train.shape)\n",
    "print ('Test set:', X_test.shape,  y_test.shape)"
   ]
  },
  {
   "cell_type": "markdown",
   "metadata": {},
   "source": [
    "### Modeling"
   ]
  },
  {
   "cell_type": "code",
   "execution_count": null,
   "metadata": {},
   "outputs": [],
   "source": [
    "from sklearn.linear_model import LogisticRegression\n",
    "from sklearn.metrics import confusion_matrix\n",
    "LR = LogisticRegression(C=0.01, solver='liblinear').fit(X_train,y_train)\n",
    "LR"
   ]
  },
  {
   "cell_type": "code",
   "execution_count": null,
   "metadata": {},
   "outputs": [],
   "source": [
    "yhat = LR.predict(X_test)\n",
    "yhat"
   ]
  },
  {
   "cell_type": "code",
   "execution_count": null,
   "metadata": {
    "scrolled": true
   },
   "outputs": [],
   "source": [
    "yhat_prob = LR.predict_proba(X_test)\n",
    "yhat_prob"
   ]
  },
  {
   "cell_type": "markdown",
   "metadata": {},
   "source": [
    "### Evaluation"
   ]
  },
  {
   "cell_type": "markdown",
   "metadata": {},
   "source": [
    "Confusion Matrix"
   ]
  },
  {
   "cell_type": "code",
   "execution_count": null,
   "metadata": {},
   "outputs": [],
   "source": [
    "from sklearn.metrics import classification_report, confusion_matrix\n",
    "import itertools\n",
    "def plot_confusion_matrix(cm, classes,\n",
    "                          normalize=False,\n",
    "                          title='Confusion matrix',\n",
    "                          cmap=plt.cm.Blues):\n",
    "    \"\"\"\n",
    "    This function prints and plots the confusion matrix.\n",
    "    Normalization can be applied by setting `normalize=True`.\n",
    "    \"\"\"\n",
    "    if normalize:\n",
    "        cm = cm.astype('float') / cm.sum(axis=1)[:, np.newaxis]\n",
    "        print(\"Normalized confusion matrix\")\n",
    "    else:\n",
    "        print('Confusion matrix, without normalization')\n",
    "\n",
    "    print(cm)\n",
    "\n",
    "    plt.imshow(cm, interpolation='nearest', cmap=cmap)\n",
    "    plt.title(title)\n",
    "    plt.colorbar()\n",
    "    tick_marks = np.arange(len(classes))\n",
    "    plt.xticks(tick_marks, classes, rotation=45)\n",
    "    plt.yticks(tick_marks, classes)\n",
    "\n",
    "    fmt = '.2f' if normalize else 'd'\n",
    "    thresh = cm.max() / 2.\n",
    "    for i, j in itertools.product(range(cm.shape[0]), range(cm.shape[1])):\n",
    "        plt.text(j, i, format(cm[i, j], fmt),\n",
    "                 horizontalalignment=\"center\",\n",
    "                 color=\"white\" if cm[i, j] > thresh else \"black\")\n",
    "\n",
    "    plt.tight_layout()\n",
    "    plt.ylabel('True label')\n",
    "    plt.xlabel('Predicted label')\n",
    "print(confusion_matrix(y_test, yhat, labels=[1,0]))"
   ]
  },
  {
   "cell_type": "code",
   "execution_count": null,
   "metadata": {},
   "outputs": [],
   "source": [
    "# Compute confusion matrix\n",
    "cnf_matrix = confusion_matrix(y_test, yhat, labels=[1,0])\n",
    "np.set_printoptions(precision=2)\n",
    "\n",
    "\n",
    "# Plot non-normalized confusion matrix\n",
    "plt.figure()\n",
    "plot_confusion_matrix(cnf_matrix, classes=['SEVERITYCODE=1','SEVERITYCODE=0'],normalize= False,  title='Confusion matrix')"
   ]
  },
  {
   "cell_type": "code",
   "execution_count": null,
   "metadata": {
    "scrolled": true
   },
   "outputs": [],
   "source": [
    "print (classification_report(y_test, yhat))"
   ]
  },
  {
   "cell_type": "markdown",
   "metadata": {},
   "source": [
    "Jaccard Index"
   ]
  },
  {
   "cell_type": "code",
   "execution_count": null,
   "metadata": {},
   "outputs": [],
   "source": [
    "lr1 = jaccard_similarity_score(y_test, yhat)\n",
    "lr1"
   ]
  },
  {
   "cell_type": "markdown",
   "metadata": {},
   "source": [
    "F1 Score"
   ]
  },
  {
   "cell_type": "code",
   "execution_count": null,
   "metadata": {},
   "outputs": [],
   "source": [
    "lr2 = f1_score(y_test, yhat, average='weighted')\n",
    "lr2"
   ]
  },
  {
   "cell_type": "code",
   "execution_count": null,
   "metadata": {},
   "outputs": [],
   "source": [
    "lr3 = log_loss(y_test, yhat_prob)"
   ]
  },
  {
   "cell_type": "code",
   "execution_count": null,
   "metadata": {},
   "outputs": [],
   "source": [
    "LR2 = LogisticRegression(C=0.01, solver='sag').fit(X_train,y_train)\n",
    "yhat_prob2 = LR2.predict_proba(X_test)\n",
    "print (\"LogLoss: : %.2f\" % log_loss(y_test, yhat_prob2))"
   ]
  },
  {
   "cell_type": "markdown",
   "metadata": {},
   "source": [
    "Accuracy Score"
   ]
  },
  {
   "cell_type": "code",
   "execution_count": null,
   "metadata": {},
   "outputs": [],
   "source": [
    "from sklearn.metrics import accuracy_score\n",
    "print(accuracy_score(y_test, yhat))"
   ]
  },
  {
   "cell_type": "markdown",
   "metadata": {},
   "source": [
    "## Accuracy Table"
   ]
  },
  {
   "cell_type": "code",
   "execution_count": null,
   "metadata": {},
   "outputs": [],
   "source": [
    "jss_list = [knn1, dt1, lr1]\n",
    "f1s_list = [knn2, dt2, lr2]\n",
    "ll_list = ['NA', 'NA', lr3]\n",
    "\n",
    "coloumns = ['KNN', 'Decision Tree',  'Logistic Regression']\n",
    "index = ['Jaccard Similarity Score', 'F1-score', 'Logloss']\n",
    "\n",
    "accuracy_df = pd.DataFrame([jss_list, f1s_list, ll_list], index = index, columns = coloumns)\n",
    "\n",
    "accuracy_df_trans = accuracy_df.transpose()\n",
    "accuracy_df_trans.columns.name = 'Algorithm'\n",
    "accuracy_df_trans"
   ]
  },
  {
   "cell_type": "markdown",
   "metadata": {},
   "source": [
    "# MAP VISUALIZATION"
   ]
  },
  {
   "cell_type": "code",
   "execution_count": null,
   "metadata": {},
   "outputs": [],
   "source": [
    "df['X'].isnull().sum()"
   ]
  },
  {
   "cell_type": "code",
   "execution_count": null,
   "metadata": {},
   "outputs": [],
   "source": [
    "df['Y'].isnull().sum()"
   ]
  },
  {
   "cell_type": "code",
   "execution_count": null,
   "metadata": {},
   "outputs": [],
   "source": [
    "df['X'].replace('0',0, inplace=True)\n",
    "df['Y'].replace('0',0, inplace=True)"
   ]
  },
  {
   "cell_type": "code",
   "execution_count": null,
   "metadata": {},
   "outputs": [],
   "source": [
    "df['X'].replace(np.nan,0, inplace=True)\n",
    "df['Y'].replace(np.nan,0, inplace=True)"
   ]
  },
  {
   "cell_type": "code",
   "execution_count": null,
   "metadata": {},
   "outputs": [],
   "source": [
    "df['X'].isnull().sum()"
   ]
  },
  {
   "cell_type": "code",
   "execution_count": null,
   "metadata": {},
   "outputs": [],
   "source": [
    "df['Y'].isnull().sum()"
   ]
  },
  {
   "cell_type": "code",
   "execution_count": null,
   "metadata": {},
   "outputs": [],
   "source": [
    "limit = 50 \n",
    "df = df.iloc[0:limit, :]"
   ]
  },
  {
   "cell_type": "code",
   "execution_count": null,
   "metadata": {},
   "outputs": [],
   "source": [
    "df.head()"
   ]
  },
  {
   "cell_type": "code",
   "execution_count": null,
   "metadata": {},
   "outputs": [],
   "source": [
    "latitude = 47.60\n",
    "longitude = -122.34"
   ]
  },
  {
   "cell_type": "code",
   "execution_count": null,
   "metadata": {},
   "outputs": [],
   "source": [
    "seattle_map = folium.Map(location=[latitude, longitude])"
   ]
  },
  {
   "cell_type": "code",
   "execution_count": null,
   "metadata": {
    "scrolled": true
   },
   "outputs": [],
   "source": [
    "seattle_map"
   ]
  },
  {
   "cell_type": "code",
   "execution_count": null,
   "metadata": {},
   "outputs": [],
   "source": [
    "accidents = folium.map.FeatureGroup()"
   ]
  },
  {
   "cell_type": "code",
   "execution_count": null,
   "metadata": {
    "scrolled": false
   },
   "outputs": [],
   "source": [
    "for lat, lng, in zip(df.Y, df.X):\n",
    "    accidents.add_child(\n",
    "        folium.features.CircleMarker(\n",
    "            [lat, lng],\n",
    "            radius=10,\n",
    "            color='white',\n",
    "            fill=True,\n",
    "            fill_color='blue',\n",
    "            fill_opacity=0.6\n",
    "        )\n",
    "    )\n",
    "\n",
    "# add accidents to map\n",
    "seattle_map.add_child(accidents)"
   ]
  },
  {
   "cell_type": "code",
   "execution_count": null,
   "metadata": {},
   "outputs": [],
   "source": []
  }
 ],
 "metadata": {
  "kernelspec": {
   "display_name": "Python 3",
   "language": "python",
   "name": "python3"
  },
  "language_info": {
   "codemirror_mode": {
    "name": "ipython",
    "version": 3
   },
   "file_extension": ".py",
   "mimetype": "text/x-python",
   "name": "python",
   "nbconvert_exporter": "python",
   "pygments_lexer": "ipython3",
   "version": "3.7.6"
  }
 },
 "nbformat": 4,
 "nbformat_minor": 1
}
