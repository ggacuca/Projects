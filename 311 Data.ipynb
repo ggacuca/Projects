{
 "cells": [
  {
   "cell_type": "markdown",
   "metadata": {},
   "source": [
    "# API"
   ]
  },
  {
   "cell_type": "code",
   "execution_count": 1,
   "metadata": {},
   "outputs": [],
   "source": [
    "import requests\n",
    "import json\n",
    "import pandas as pd\n",
    "import numpy as np\n",
    "import matplotlib as mpl\n",
    "import matplotlib.pyplot as plt "
   ]
  },
  {
   "cell_type": "code",
   "execution_count": 2,
   "metadata": {},
   "outputs": [],
   "source": [
    "url = r\"https://data.baltimorecity.gov/resource/9agw-sxsr.json\""
   ]
  },
  {
   "cell_type": "code",
   "execution_count": 3,
   "metadata": {},
   "outputs": [],
   "source": [
    "response = requests.get(url)"
   ]
  },
  {
   "cell_type": "code",
   "execution_count": 4,
   "metadata": {},
   "outputs": [
    {
     "data": {
      "text/plain": [
       "200"
      ]
     },
     "execution_count": 4,
     "metadata": {},
     "output_type": "execute_result"
    }
   ],
   "source": [
    "response.status_code"
   ]
  },
  {
   "cell_type": "code",
   "execution_count": 5,
   "metadata": {},
   "outputs": [],
   "source": [
    "data311 = response.json()"
   ]
  },
  {
   "cell_type": "code",
   "execution_count": 6,
   "metadata": {},
   "outputs": [
    {
     "data": {
      "text/plain": [
       "list"
      ]
     },
     "execution_count": 6,
     "metadata": {},
     "output_type": "execute_result"
    }
   ],
   "source": [
    "type(data311)"
   ]
  },
  {
   "cell_type": "code",
   "execution_count": 7,
   "metadata": {},
   "outputs": [
    {
     "data": {
      "text/plain": [
       "1000"
      ]
     },
     "execution_count": 7,
     "metadata": {},
     "output_type": "execute_result"
    }
   ],
   "source": [
    "len(data311)"
   ]
  },
  {
   "cell_type": "code",
   "execution_count": 8,
   "metadata": {},
   "outputs": [
    {
     "data": {
      "text/plain": [
       "dict"
      ]
     },
     "execution_count": 8,
     "metadata": {},
     "output_type": "execute_result"
    }
   ],
   "source": [
    "type(data311[0])"
   ]
  },
  {
   "cell_type": "code",
   "execution_count": 9,
   "metadata": {},
   "outputs": [
    {
     "data": {
      "text/plain": [
       "{'srrecordid': '5004M00000epHJ3QAM',\n",
       " 'servicerequestnum': '20-00584331',\n",
       " 'srtype': 'SW-Rat Rubout Proactive',\n",
       " 'methodreceived': 'System',\n",
       " 'createddate': '2020-08-27T09:00:05.000',\n",
       " 'srstatus': 'Closed',\n",
       " 'statusdate': '2020-08-27T09:00:20.000',\n",
       " 'duedate': '2020-09-03T09:00:05.000',\n",
       " 'closedate': '2020-08-27T09:00:22.000',\n",
       " 'agency': 'Solid Waste',\n",
       " 'address': '1923 N ROSEDALE ST, Baltimore City, 21216',\n",
       " 'zipcode': '21216',\n",
       " 'neighborhood': 'Walbrook',\n",
       " 'councildistrict': '7',\n",
       " 'policedistrict': 'Southwestern',\n",
       " 'latitude': '39.309960377284780',\n",
       " 'longitude': '-76.669123791746980',\n",
       " 'geolocation': {'latitude': '39.30996037728478',\n",
       "  'longitude': '-76.66912379174698'},\n",
       " ':@computed_region_gwq4_fjxs': '43',\n",
       " ':@computed_region_5kre_ccpb': '246',\n",
       " ':@computed_region_s6p5_2pgr': '27297'}"
      ]
     },
     "execution_count": 9,
     "metadata": {},
     "output_type": "execute_result"
    }
   ],
   "source": [
    "data311[0]"
   ]
  },
  {
   "cell_type": "code",
   "execution_count": 10,
   "metadata": {},
   "outputs": [
    {
     "data": {
      "text/plain": [
       "{'srrecordid': '5004M00000epH4eQAE',\n",
       " 'servicerequestnum': '20-00584330',\n",
       " 'srtype': 'SW-Recycling',\n",
       " 'methodreceived': 'Phone',\n",
       " 'createddate': '2020-08-27T08:59:55.000',\n",
       " 'srstatus': 'New',\n",
       " 'statusdate': '2020-08-27T08:59:55.000',\n",
       " 'duedate': '2020-08-28T08:59:55.000',\n",
       " 'agency': 'Solid Waste',\n",
       " 'address': '6201 BILTMORE AVE, Baltimore City, 21215',\n",
       " 'zipcode': '21215',\n",
       " 'neighborhood': 'Glen',\n",
       " 'councildistrict': '5',\n",
       " 'policedistrict': 'Northwestern',\n",
       " 'latitude': '39.357240279908800',\n",
       " 'longitude': '-76.693388851978500',\n",
       " 'geolocation': {'latitude': '39.3572402799088',\n",
       "  'longitude': '-76.6933888519785'},\n",
       " ':@computed_region_gwq4_fjxs': '241',\n",
       " ':@computed_region_5kre_ccpb': '89',\n",
       " ':@computed_region_s6p5_2pgr': '27295'}"
      ]
     },
     "execution_count": 10,
     "metadata": {},
     "output_type": "execute_result"
    }
   ],
   "source": [
    "data311[1]"
   ]
  },
  {
   "cell_type": "code",
   "execution_count": 11,
   "metadata": {},
   "outputs": [
    {
     "data": {
      "text/plain": [
       "dict_keys(['srrecordid', 'servicerequestnum', 'srtype', 'methodreceived', 'createddate', 'srstatus', 'statusdate', 'duedate', 'closedate', 'agency', 'address', 'zipcode', 'neighborhood', 'councildistrict', 'policedistrict', 'latitude', 'longitude', 'geolocation', ':@computed_region_gwq4_fjxs', ':@computed_region_5kre_ccpb', ':@computed_region_s6p5_2pgr'])"
      ]
     },
     "execution_count": 11,
     "metadata": {},
     "output_type": "execute_result"
    }
   ],
   "source": [
    "data311[0].keys()"
   ]
  },
  {
   "cell_type": "code",
   "execution_count": 12,
   "metadata": {
    "scrolled": true
   },
   "outputs": [
    {
     "data": {
      "text/plain": [
       "dict_keys(['srrecordid', 'servicerequestnum', 'srtype', 'methodreceived', 'createddate', 'srstatus', 'statusdate', 'duedate', 'agency', 'address', 'zipcode', 'neighborhood', 'councildistrict', 'policedistrict', 'latitude', 'longitude', 'geolocation', ':@computed_region_gwq4_fjxs', ':@computed_region_5kre_ccpb', ':@computed_region_s6p5_2pgr'])"
      ]
     },
     "execution_count": 12,
     "metadata": {},
     "output_type": "execute_result"
    }
   ],
   "source": [
    "data311[1].keys()"
   ]
  },
  {
   "cell_type": "code",
   "execution_count": 13,
   "metadata": {},
   "outputs": [
    {
     "data": {
      "text/plain": [
       "'5004M00000epHJ3QAM'"
      ]
     },
     "execution_count": 13,
     "metadata": {},
     "output_type": "execute_result"
    }
   ],
   "source": [
    "data311[0]['srrecordid']"
   ]
  },
  {
   "cell_type": "code",
   "execution_count": 14,
   "metadata": {},
   "outputs": [
    {
     "data": {
      "text/plain": [
       "dict"
      ]
     },
     "execution_count": 14,
     "metadata": {},
     "output_type": "execute_result"
    }
   ],
   "source": [
    "type(data311[0])"
   ]
  },
  {
   "cell_type": "code",
   "execution_count": 15,
   "metadata": {},
   "outputs": [],
   "source": [
    "info311 = str(data311[0].keys())"
   ]
  },
  {
   "cell_type": "code",
   "execution_count": 16,
   "metadata": {},
   "outputs": [],
   "source": [
    "dict_info = {'srtype':[],\n",
    "              'methodreceived':[],\n",
    "              'createddate':[],\n",
    "              'duedate':[],\n",
    "             'closedate':[],\n",
    "             'statusdate':[],\n",
    "              'agency':[],\n",
    "              'lastactivity':[],\n",
    "              'neighborhood':[],\n",
    "              'councildistrict':[],\n",
    "              'policedistrict':[],\n",
    "              'zipcode':[],\n",
    "              'srstatus':[]\n",
    "             \n",
    "             }\n",
    "\n",
    "style_name = []\n",
    "style_descr = []"
   ]
  },
  {
   "cell_type": "code",
   "execution_count": 17,
   "metadata": {},
   "outputs": [],
   "source": [
    "for data in data311:\n",
    "    \n",
    "    for key in dict_info.keys():\n",
    "        try:\n",
    "            dict_info[key].append(data[key])\n",
    "        except KeyError:\n",
    "            dict_info[key].append(np.nan)    \n",
    "    try:\n",
    "        style_name.append(data['style']['name'])\n",
    "    except KeyError:\n",
    "            style_name.append(np.nan)\n",
    "            \n",
    "    try:\n",
    "        style_descr.append(data['style']['description'])\n",
    "    except KeyError:\n",
    "            style_descr.append(np.nan)"
   ]
  },
  {
   "cell_type": "markdown",
   "metadata": {},
   "source": [
    "## Dataframe (TIME)"
   ]
  },
  {
   "cell_type": "code",
   "execution_count": 18,
   "metadata": {},
   "outputs": [],
   "source": [
    "dict1_info = { \n",
    "              'createddate':[],\n",
    "              'duedate':[],\n",
    "             'closedate':[],\n",
    "             'statusdate':[]\n",
    "             \n",
    "             }\n",
    "\n",
    "style_name = []\n",
    "style_descr = []"
   ]
  },
  {
   "cell_type": "code",
   "execution_count": 19,
   "metadata": {},
   "outputs": [],
   "source": [
    "for data in data311:\n",
    "    \n",
    "    for key in dict1_info.keys():\n",
    "        try:\n",
    "            dict1_info[key].append(data[key])\n",
    "        except KeyError:\n",
    "            dict1_info[key].append(np.nan)    \n",
    "    try:\n",
    "        style_name.append(data['style']['name'])\n",
    "    except KeyError:\n",
    "            style_name.append(np.nan)\n",
    "            \n",
    "    try:\n",
    "        style_descr.append(data['style']['description'])\n",
    "    except KeyError:\n",
    "            style_descr.append(np.nan)"
   ]
  },
  {
   "cell_type": "code",
   "execution_count": 20,
   "metadata": {
    "scrolled": false
   },
   "outputs": [
    {
     "data": {
      "text/html": [
       "<div>\n",
       "<style scoped>\n",
       "    .dataframe tbody tr th:only-of-type {\n",
       "        vertical-align: middle;\n",
       "    }\n",
       "\n",
       "    .dataframe tbody tr th {\n",
       "        vertical-align: top;\n",
       "    }\n",
       "\n",
       "    .dataframe thead th {\n",
       "        text-align: right;\n",
       "    }\n",
       "</style>\n",
       "<table border=\"1\" class=\"dataframe\">\n",
       "  <thead>\n",
       "    <tr style=\"text-align: right;\">\n",
       "      <th></th>\n",
       "      <th>createddate</th>\n",
       "      <th>duedate</th>\n",
       "      <th>closedate</th>\n",
       "      <th>statusdate</th>\n",
       "    </tr>\n",
       "  </thead>\n",
       "  <tbody>\n",
       "    <tr>\n",
       "      <th>0</th>\n",
       "      <td>2020-08-27T09:00:05.000</td>\n",
       "      <td>2020-09-03T09:00:05.000</td>\n",
       "      <td>2020-08-27T09:00:22.000</td>\n",
       "      <td>2020-08-27T09:00:20.000</td>\n",
       "    </tr>\n",
       "    <tr>\n",
       "      <th>1</th>\n",
       "      <td>2020-08-27T08:59:55.000</td>\n",
       "      <td>2020-08-28T08:59:55.000</td>\n",
       "      <td>NaN</td>\n",
       "      <td>2020-08-27T08:59:55.000</td>\n",
       "    </tr>\n",
       "    <tr>\n",
       "      <th>2</th>\n",
       "      <td>2020-08-27T08:59:54.000</td>\n",
       "      <td>2020-08-27T04:59:54.000</td>\n",
       "      <td>2020-08-27T09:00:02.000</td>\n",
       "      <td>2020-08-27T08:59:54.000</td>\n",
       "    </tr>\n",
       "    <tr>\n",
       "      <th>3</th>\n",
       "      <td>2020-08-27T08:59:40.000</td>\n",
       "      <td>2020-09-03T08:59:40.000</td>\n",
       "      <td>2020-08-27T08:59:56.000</td>\n",
       "      <td>2020-08-27T08:59:55.000</td>\n",
       "    </tr>\n",
       "    <tr>\n",
       "      <th>4</th>\n",
       "      <td>2020-08-27T08:59:36.000</td>\n",
       "      <td>2020-10-09T08:59:36.000</td>\n",
       "      <td>NaN</td>\n",
       "      <td>2020-08-27T08:59:36.000</td>\n",
       "    </tr>\n",
       "  </tbody>\n",
       "</table>\n",
       "</div>"
      ],
      "text/plain": [
       "               createddate                  duedate                closedate  \\\n",
       "0  2020-08-27T09:00:05.000  2020-09-03T09:00:05.000  2020-08-27T09:00:22.000   \n",
       "1  2020-08-27T08:59:55.000  2020-08-28T08:59:55.000                      NaN   \n",
       "2  2020-08-27T08:59:54.000  2020-08-27T04:59:54.000  2020-08-27T09:00:02.000   \n",
       "3  2020-08-27T08:59:40.000  2020-09-03T08:59:40.000  2020-08-27T08:59:56.000   \n",
       "4  2020-08-27T08:59:36.000  2020-10-09T08:59:36.000                      NaN   \n",
       "\n",
       "                statusdate  \n",
       "0  2020-08-27T09:00:20.000  \n",
       "1  2020-08-27T08:59:55.000  \n",
       "2  2020-08-27T08:59:54.000  \n",
       "3  2020-08-27T08:59:55.000  \n",
       "4  2020-08-27T08:59:36.000  "
      ]
     },
     "execution_count": 20,
     "metadata": {},
     "output_type": "execute_result"
    }
   ],
   "source": [
    "timedata_df = pd.DataFrame(data=dict1_info)\n",
    "timedata_df.head()"
   ]
  },
  {
   "cell_type": "markdown",
   "metadata": {},
   "source": [
    "# Dataframe"
   ]
  },
  {
   "cell_type": "code",
   "execution_count": 21,
   "metadata": {
    "scrolled": true
   },
   "outputs": [
    {
     "data": {
      "text/html": [
       "<div>\n",
       "<style scoped>\n",
       "    .dataframe tbody tr th:only-of-type {\n",
       "        vertical-align: middle;\n",
       "    }\n",
       "\n",
       "    .dataframe tbody tr th {\n",
       "        vertical-align: top;\n",
       "    }\n",
       "\n",
       "    .dataframe thead th {\n",
       "        text-align: right;\n",
       "    }\n",
       "</style>\n",
       "<table border=\"1\" class=\"dataframe\">\n",
       "  <thead>\n",
       "    <tr style=\"text-align: right;\">\n",
       "      <th></th>\n",
       "      <th>srtype</th>\n",
       "      <th>methodreceived</th>\n",
       "      <th>createddate</th>\n",
       "      <th>duedate</th>\n",
       "      <th>closedate</th>\n",
       "      <th>statusdate</th>\n",
       "      <th>agency</th>\n",
       "      <th>lastactivity</th>\n",
       "      <th>neighborhood</th>\n",
       "      <th>councildistrict</th>\n",
       "      <th>policedistrict</th>\n",
       "      <th>zipcode</th>\n",
       "      <th>srstatus</th>\n",
       "    </tr>\n",
       "  </thead>\n",
       "  <tbody>\n",
       "    <tr>\n",
       "      <th>0</th>\n",
       "      <td>SW-Rat Rubout Proactive</td>\n",
       "      <td>System</td>\n",
       "      <td>2020-08-27T09:00:05.000</td>\n",
       "      <td>2020-09-03T09:00:05.000</td>\n",
       "      <td>2020-08-27T09:00:22.000</td>\n",
       "      <td>2020-08-27T09:00:20.000</td>\n",
       "      <td>Solid Waste</td>\n",
       "      <td>NaN</td>\n",
       "      <td>Walbrook</td>\n",
       "      <td>7</td>\n",
       "      <td>Southwestern</td>\n",
       "      <td>21216</td>\n",
       "      <td>Closed</td>\n",
       "    </tr>\n",
       "    <tr>\n",
       "      <th>1</th>\n",
       "      <td>SW-Recycling</td>\n",
       "      <td>Phone</td>\n",
       "      <td>2020-08-27T08:59:55.000</td>\n",
       "      <td>2020-08-28T08:59:55.000</td>\n",
       "      <td>NaN</td>\n",
       "      <td>2020-08-27T08:59:55.000</td>\n",
       "      <td>Solid Waste</td>\n",
       "      <td>NaN</td>\n",
       "      <td>Glen</td>\n",
       "      <td>5</td>\n",
       "      <td>Northwestern</td>\n",
       "      <td>21215</td>\n",
       "      <td>New</td>\n",
       "    </tr>\n",
       "    <tr>\n",
       "      <th>2</th>\n",
       "      <td>ECC-Information Request</td>\n",
       "      <td>Phone</td>\n",
       "      <td>2020-08-27T08:59:54.000</td>\n",
       "      <td>2020-08-27T04:59:54.000</td>\n",
       "      <td>2020-08-27T09:00:02.000</td>\n",
       "      <td>2020-08-27T08:59:54.000</td>\n",
       "      <td>Call Center</td>\n",
       "      <td>NaN</td>\n",
       "      <td>NaN</td>\n",
       "      <td>NaN</td>\n",
       "      <td>NaN</td>\n",
       "      <td>NaN</td>\n",
       "      <td>Closed</td>\n",
       "    </tr>\n",
       "    <tr>\n",
       "      <th>3</th>\n",
       "      <td>SW-Rat Rubout Proactive</td>\n",
       "      <td>System</td>\n",
       "      <td>2020-08-27T08:59:40.000</td>\n",
       "      <td>2020-09-03T08:59:40.000</td>\n",
       "      <td>2020-08-27T08:59:56.000</td>\n",
       "      <td>2020-08-27T08:59:55.000</td>\n",
       "      <td>Solid Waste</td>\n",
       "      <td>NaN</td>\n",
       "      <td>Walbrook</td>\n",
       "      <td>7</td>\n",
       "      <td>Southwestern</td>\n",
       "      <td>21216</td>\n",
       "      <td>Closed</td>\n",
       "    </tr>\n",
       "    <tr>\n",
       "      <th>4</th>\n",
       "      <td>FCPF-Trial Request-Red Light</td>\n",
       "      <td>Mail</td>\n",
       "      <td>2020-08-27T08:59:36.000</td>\n",
       "      <td>2020-10-09T08:59:36.000</td>\n",
       "      <td>NaN</td>\n",
       "      <td>2020-08-27T08:59:36.000</td>\n",
       "      <td>Finance</td>\n",
       "      <td>NaN</td>\n",
       "      <td>Downtown</td>\n",
       "      <td>11</td>\n",
       "      <td>Central</td>\n",
       "      <td>21202</td>\n",
       "      <td>New</td>\n",
       "    </tr>\n",
       "    <tr>\n",
       "      <th>...</th>\n",
       "      <td>...</td>\n",
       "      <td>...</td>\n",
       "      <td>...</td>\n",
       "      <td>...</td>\n",
       "      <td>...</td>\n",
       "      <td>...</td>\n",
       "      <td>...</td>\n",
       "      <td>...</td>\n",
       "      <td>...</td>\n",
       "      <td>...</td>\n",
       "      <td>...</td>\n",
       "      <td>...</td>\n",
       "      <td>...</td>\n",
       "    </tr>\n",
       "    <tr>\n",
       "      <th>95</th>\n",
       "      <td>SW-Rat Rubout Proactive</td>\n",
       "      <td>System</td>\n",
       "      <td>2020-08-27T08:50:34.000</td>\n",
       "      <td>2020-09-03T08:50:34.000</td>\n",
       "      <td>2020-08-27T08:50:50.000</td>\n",
       "      <td>2020-08-27T08:50:49.000</td>\n",
       "      <td>Solid Waste</td>\n",
       "      <td>NaN</td>\n",
       "      <td>Armistead Gardens</td>\n",
       "      <td>2</td>\n",
       "      <td>Northeastern</td>\n",
       "      <td>21205</td>\n",
       "      <td>Closed</td>\n",
       "    </tr>\n",
       "    <tr>\n",
       "      <th>96</th>\n",
       "      <td>SW-Recycling</td>\n",
       "      <td>Phone</td>\n",
       "      <td>2020-08-27T08:50:25.000</td>\n",
       "      <td>2020-08-28T08:50:25.000</td>\n",
       "      <td>NaN</td>\n",
       "      <td>2020-08-27T08:50:25.000</td>\n",
       "      <td>Solid Waste</td>\n",
       "      <td>NaN</td>\n",
       "      <td>Frankford</td>\n",
       "      <td>2</td>\n",
       "      <td>Northeastern</td>\n",
       "      <td>21206</td>\n",
       "      <td>New</td>\n",
       "    </tr>\n",
       "    <tr>\n",
       "      <th>97</th>\n",
       "      <td>FCCS-Paid Wrong Account/Misapplied Payment</td>\n",
       "      <td>Phone</td>\n",
       "      <td>2020-08-27T08:50:20.000</td>\n",
       "      <td>2020-11-26T07:50:20.000</td>\n",
       "      <td>NaN</td>\n",
       "      <td>2020-08-27T08:50:20.000</td>\n",
       "      <td>Finance</td>\n",
       "      <td>NaN</td>\n",
       "      <td>Perring Loch</td>\n",
       "      <td>3</td>\n",
       "      <td>Northeastern</td>\n",
       "      <td>21239</td>\n",
       "      <td>New</td>\n",
       "    </tr>\n",
       "    <tr>\n",
       "      <th>98</th>\n",
       "      <td>SW-Rat Rubout Proactive</td>\n",
       "      <td>System</td>\n",
       "      <td>2020-08-27T08:50:18.000</td>\n",
       "      <td>2020-09-03T08:50:18.000</td>\n",
       "      <td>2020-08-27T08:50:35.000</td>\n",
       "      <td>2020-08-27T08:50:34.000</td>\n",
       "      <td>Solid Waste</td>\n",
       "      <td>NaN</td>\n",
       "      <td>Walbrook</td>\n",
       "      <td>7</td>\n",
       "      <td>Southwestern</td>\n",
       "      <td>21216</td>\n",
       "      <td>Closed</td>\n",
       "    </tr>\n",
       "    <tr>\n",
       "      <th>99</th>\n",
       "      <td>ECC-Information Request</td>\n",
       "      <td>Phone</td>\n",
       "      <td>2020-08-27T08:50:14.000</td>\n",
       "      <td>2020-08-27T04:50:14.000</td>\n",
       "      <td>2020-08-27T08:51:03.000</td>\n",
       "      <td>2020-08-27T08:50:14.000</td>\n",
       "      <td>Call Center</td>\n",
       "      <td>NaN</td>\n",
       "      <td>NaN</td>\n",
       "      <td>NaN</td>\n",
       "      <td>NaN</td>\n",
       "      <td>NaN</td>\n",
       "      <td>Closed</td>\n",
       "    </tr>\n",
       "  </tbody>\n",
       "</table>\n",
       "<p>100 rows × 13 columns</p>\n",
       "</div>"
      ],
      "text/plain": [
       "                                        srtype methodreceived  \\\n",
       "0                      SW-Rat Rubout Proactive         System   \n",
       "1                                 SW-Recycling          Phone   \n",
       "2                      ECC-Information Request          Phone   \n",
       "3                      SW-Rat Rubout Proactive         System   \n",
       "4                 FCPF-Trial Request-Red Light           Mail   \n",
       "..                                         ...            ...   \n",
       "95                     SW-Rat Rubout Proactive         System   \n",
       "96                                SW-Recycling          Phone   \n",
       "97  FCCS-Paid Wrong Account/Misapplied Payment          Phone   \n",
       "98                     SW-Rat Rubout Proactive         System   \n",
       "99                     ECC-Information Request          Phone   \n",
       "\n",
       "                createddate                  duedate                closedate  \\\n",
       "0   2020-08-27T09:00:05.000  2020-09-03T09:00:05.000  2020-08-27T09:00:22.000   \n",
       "1   2020-08-27T08:59:55.000  2020-08-28T08:59:55.000                      NaN   \n",
       "2   2020-08-27T08:59:54.000  2020-08-27T04:59:54.000  2020-08-27T09:00:02.000   \n",
       "3   2020-08-27T08:59:40.000  2020-09-03T08:59:40.000  2020-08-27T08:59:56.000   \n",
       "4   2020-08-27T08:59:36.000  2020-10-09T08:59:36.000                      NaN   \n",
       "..                      ...                      ...                      ...   \n",
       "95  2020-08-27T08:50:34.000  2020-09-03T08:50:34.000  2020-08-27T08:50:50.000   \n",
       "96  2020-08-27T08:50:25.000  2020-08-28T08:50:25.000                      NaN   \n",
       "97  2020-08-27T08:50:20.000  2020-11-26T07:50:20.000                      NaN   \n",
       "98  2020-08-27T08:50:18.000  2020-09-03T08:50:18.000  2020-08-27T08:50:35.000   \n",
       "99  2020-08-27T08:50:14.000  2020-08-27T04:50:14.000  2020-08-27T08:51:03.000   \n",
       "\n",
       "                 statusdate       agency lastactivity       neighborhood  \\\n",
       "0   2020-08-27T09:00:20.000  Solid Waste          NaN           Walbrook   \n",
       "1   2020-08-27T08:59:55.000  Solid Waste          NaN               Glen   \n",
       "2   2020-08-27T08:59:54.000  Call Center          NaN                NaN   \n",
       "3   2020-08-27T08:59:55.000  Solid Waste          NaN           Walbrook   \n",
       "4   2020-08-27T08:59:36.000      Finance          NaN           Downtown   \n",
       "..                      ...          ...          ...                ...   \n",
       "95  2020-08-27T08:50:49.000  Solid Waste          NaN  Armistead Gardens   \n",
       "96  2020-08-27T08:50:25.000  Solid Waste          NaN          Frankford   \n",
       "97  2020-08-27T08:50:20.000      Finance          NaN       Perring Loch   \n",
       "98  2020-08-27T08:50:34.000  Solid Waste          NaN           Walbrook   \n",
       "99  2020-08-27T08:50:14.000  Call Center          NaN                NaN   \n",
       "\n",
       "   councildistrict policedistrict zipcode srstatus  \n",
       "0                7   Southwestern   21216   Closed  \n",
       "1                5   Northwestern   21215      New  \n",
       "2              NaN            NaN     NaN   Closed  \n",
       "3                7   Southwestern   21216   Closed  \n",
       "4               11        Central   21202      New  \n",
       "..             ...            ...     ...      ...  \n",
       "95               2   Northeastern   21205   Closed  \n",
       "96               2   Northeastern   21206      New  \n",
       "97               3   Northeastern   21239      New  \n",
       "98               7   Southwestern   21216   Closed  \n",
       "99             NaN            NaN     NaN   Closed  \n",
       "\n",
       "[100 rows x 13 columns]"
      ]
     },
     "execution_count": 21,
     "metadata": {},
     "output_type": "execute_result"
    }
   ],
   "source": [
    "data_df = pd.DataFrame(data=dict_info)\n",
    "data_df.head(100)"
   ]
  },
  {
   "cell_type": "markdown",
   "metadata": {},
   "source": [
    "#  Data Analysis"
   ]
  },
  {
   "cell_type": "code",
   "execution_count": 22,
   "metadata": {},
   "outputs": [
    {
     "data": {
      "text/plain": [
       "srtype             object\n",
       "methodreceived     object\n",
       "createddate        object\n",
       "duedate            object\n",
       "closedate          object\n",
       "statusdate         object\n",
       "agency             object\n",
       "lastactivity       object\n",
       "neighborhood       object\n",
       "councildistrict    object\n",
       "policedistrict     object\n",
       "zipcode            object\n",
       "srstatus           object\n",
       "dtype: object"
      ]
     },
     "execution_count": 22,
     "metadata": {},
     "output_type": "execute_result"
    }
   ],
   "source": [
    "data_df.dtypes"
   ]
  },
  {
   "cell_type": "code",
   "execution_count": 25,
   "metadata": {},
   "outputs": [
    {
     "data": {
      "text/html": [
       "<div>\n",
       "<style scoped>\n",
       "    .dataframe tbody tr th:only-of-type {\n",
       "        vertical-align: middle;\n",
       "    }\n",
       "\n",
       "    .dataframe tbody tr th {\n",
       "        vertical-align: top;\n",
       "    }\n",
       "\n",
       "    .dataframe thead th {\n",
       "        text-align: right;\n",
       "    }\n",
       "</style>\n",
       "<table border=\"1\" class=\"dataframe\">\n",
       "  <thead>\n",
       "    <tr style=\"text-align: right;\">\n",
       "      <th></th>\n",
       "      <th>srtype</th>\n",
       "      <th>methodreceived</th>\n",
       "      <th>createddate</th>\n",
       "      <th>duedate</th>\n",
       "      <th>closedate</th>\n",
       "      <th>statusdate</th>\n",
       "      <th>agency</th>\n",
       "      <th>lastactivity</th>\n",
       "      <th>neighborhood</th>\n",
       "      <th>councildistrict</th>\n",
       "      <th>policedistrict</th>\n",
       "      <th>zipcode</th>\n",
       "      <th>srstatus</th>\n",
       "    </tr>\n",
       "  </thead>\n",
       "  <tbody>\n",
       "    <tr>\n",
       "      <th>count</th>\n",
       "      <td>1000</td>\n",
       "      <td>1000</td>\n",
       "      <td>1000</td>\n",
       "      <td>1000</td>\n",
       "      <td>621</td>\n",
       "      <td>1000</td>\n",
       "      <td>1000</td>\n",
       "      <td>309</td>\n",
       "      <td>723</td>\n",
       "      <td>723</td>\n",
       "      <td>723</td>\n",
       "      <td>730</td>\n",
       "      <td>1000</td>\n",
       "    </tr>\n",
       "    <tr>\n",
       "      <th>unique</th>\n",
       "      <td>76</td>\n",
       "      <td>5</td>\n",
       "      <td>941</td>\n",
       "      <td>982</td>\n",
       "      <td>586</td>\n",
       "      <td>957</td>\n",
       "      <td>11</td>\n",
       "      <td>4</td>\n",
       "      <td>153</td>\n",
       "      <td>14</td>\n",
       "      <td>9</td>\n",
       "      <td>30</td>\n",
       "      <td>11</td>\n",
       "    </tr>\n",
       "    <tr>\n",
       "      <th>top</th>\n",
       "      <td>SW-Rat Rubout Proactive</td>\n",
       "      <td>Phone</td>\n",
       "      <td>2020-08-26T22:33:25.000</td>\n",
       "      <td>2020-09-03T08:21:53.000</td>\n",
       "      <td>2020-08-27T08:12:01.000</td>\n",
       "      <td>2020-08-27T08:37:01.000</td>\n",
       "      <td>Solid Waste</td>\n",
       "      <td>Service Response</td>\n",
       "      <td>Waltherson</td>\n",
       "      <td>2</td>\n",
       "      <td>Northeastern</td>\n",
       "      <td>21206</td>\n",
       "      <td>Closed</td>\n",
       "    </tr>\n",
       "    <tr>\n",
       "      <th>freq</th>\n",
       "      <td>289</td>\n",
       "      <td>471</td>\n",
       "      <td>3</td>\n",
       "      <td>3</td>\n",
       "      <td>3</td>\n",
       "      <td>3</td>\n",
       "      <td>491</td>\n",
       "      <td>305</td>\n",
       "      <td>71</td>\n",
       "      <td>122</td>\n",
       "      <td>238</td>\n",
       "      <td>126</td>\n",
       "      <td>615</td>\n",
       "    </tr>\n",
       "  </tbody>\n",
       "</table>\n",
       "</div>"
      ],
      "text/plain": [
       "                         srtype methodreceived              createddate  \\\n",
       "count                      1000           1000                     1000   \n",
       "unique                       76              5                      941   \n",
       "top     SW-Rat Rubout Proactive          Phone  2020-08-26T22:33:25.000   \n",
       "freq                        289            471                        3   \n",
       "\n",
       "                        duedate                closedate  \\\n",
       "count                      1000                      621   \n",
       "unique                      982                      586   \n",
       "top     2020-09-03T08:21:53.000  2020-08-27T08:12:01.000   \n",
       "freq                          3                        3   \n",
       "\n",
       "                     statusdate       agency      lastactivity neighborhood  \\\n",
       "count                      1000         1000               309          723   \n",
       "unique                      957           11                 4          153   \n",
       "top     2020-08-27T08:37:01.000  Solid Waste  Service Response   Waltherson   \n",
       "freq                          3          491               305           71   \n",
       "\n",
       "       councildistrict policedistrict zipcode srstatus  \n",
       "count              723            723     730     1000  \n",
       "unique              14              9      30       11  \n",
       "top                  2   Northeastern   21206   Closed  \n",
       "freq               122            238     126      615  "
      ]
     },
     "execution_count": 25,
     "metadata": {},
     "output_type": "execute_result"
    }
   ],
   "source": [
    "data_df.describe(include = \"all\")"
   ]
  },
  {
   "cell_type": "code",
   "execution_count": 29,
   "metadata": {},
   "outputs": [
    {
     "data": {
      "text/plain": [
       "srtype               0\n",
       "methodreceived       0\n",
       "createddate          0\n",
       "duedate              0\n",
       "closedate          379\n",
       "statusdate           0\n",
       "agency               0\n",
       "lastactivity       691\n",
       "neighborhood       277\n",
       "councildistrict    277\n",
       "policedistrict     277\n",
       "zipcode            270\n",
       "srstatus             0\n",
       "dtype: int64"
      ]
     },
     "execution_count": 29,
     "metadata": {},
     "output_type": "execute_result"
    }
   ],
   "source": [
    "data_df.isnull().sum()"
   ]
  },
  {
   "cell_type": "code",
   "execution_count": 30,
   "metadata": {
    "scrolled": false
   },
   "outputs": [
    {
     "data": {
      "text/plain": [
       "(1000, 13)"
      ]
     },
     "execution_count": 30,
     "metadata": {},
     "output_type": "execute_result"
    }
   ],
   "source": [
    "data_df.shape"
   ]
  },
  {
   "cell_type": "markdown",
   "metadata": {},
   "source": [
    "## Data Wrangling"
   ]
  },
  {
   "cell_type": "code",
   "execution_count": 31,
   "metadata": {},
   "outputs": [],
   "source": [
    "data_df['createddate'].replace(np.nan, 0,inplace=True)"
   ]
  },
  {
   "cell_type": "code",
   "execution_count": 34,
   "metadata": {},
   "outputs": [],
   "source": [
    "data_df['createddate'] = pd.to_datetime(data_df['createddate'], format='%Y-%m-%d %H:%M:%S')"
   ]
  },
  {
   "cell_type": "code",
   "execution_count": 35,
   "metadata": {},
   "outputs": [],
   "source": [
    "data_df['duedate'] = pd.to_datetime(data_df['duedate'], format='%Y-%m-%d %H:%M:%S')"
   ]
  },
  {
   "cell_type": "code",
   "execution_count": 36,
   "metadata": {},
   "outputs": [],
   "source": [
    "data_df['closedate'] = pd.to_datetime(data_df['closedate'], format='%Y-%m-%d %H:%M:%S')"
   ]
  },
  {
   "cell_type": "code",
   "execution_count": 37,
   "metadata": {},
   "outputs": [],
   "source": [
    "data_df['actual_time_spent'] = data_df['closedate'] - data_df['createddate'] "
   ]
  },
  {
   "cell_type": "code",
   "execution_count": 38,
   "metadata": {},
   "outputs": [],
   "source": [
    "data_df['expected_time_spent'] = data_df['duedate'] - data_df['createddate']"
   ]
  },
  {
   "cell_type": "code",
   "execution_count": 74,
   "metadata": {
    "scrolled": false
   },
   "outputs": [
    {
     "data": {
      "text/html": [
       "<div>\n",
       "<style scoped>\n",
       "    .dataframe tbody tr th:only-of-type {\n",
       "        vertical-align: middle;\n",
       "    }\n",
       "\n",
       "    .dataframe tbody tr th {\n",
       "        vertical-align: top;\n",
       "    }\n",
       "\n",
       "    .dataframe thead th {\n",
       "        text-align: right;\n",
       "    }\n",
       "</style>\n",
       "<table border=\"1\" class=\"dataframe\">\n",
       "  <thead>\n",
       "    <tr style=\"text-align: right;\">\n",
       "      <th></th>\n",
       "      <th>srtype</th>\n",
       "      <th>methodreceived</th>\n",
       "      <th>createddate</th>\n",
       "      <th>duedate</th>\n",
       "      <th>closedate</th>\n",
       "      <th>statusdate</th>\n",
       "      <th>agency</th>\n",
       "      <th>lastactivity</th>\n",
       "      <th>neighborhood</th>\n",
       "      <th>councildistrict</th>\n",
       "      <th>policedistrict</th>\n",
       "      <th>zipcode</th>\n",
       "      <th>srstatus</th>\n",
       "      <th>actual_time_spent</th>\n",
       "      <th>expected_time_spent</th>\n",
       "      <th>exp_t</th>\n",
       "    </tr>\n",
       "  </thead>\n",
       "  <tbody>\n",
       "    <tr>\n",
       "      <th>0</th>\n",
       "      <td>SW-Rat Rubout Proactive</td>\n",
       "      <td>System</td>\n",
       "      <td>2020-08-27 09:00:05</td>\n",
       "      <td>2020-09-03 09:00:05</td>\n",
       "      <td>2020-08-27 09:00:22</td>\n",
       "      <td>2020-08-27T09:00:20.000</td>\n",
       "      <td>Solid Waste</td>\n",
       "      <td>NaN</td>\n",
       "      <td>Walbrook</td>\n",
       "      <td>7</td>\n",
       "      <td>Southwestern</td>\n",
       "      <td>21216</td>\n",
       "      <td>Closed</td>\n",
       "      <td>00:00:17</td>\n",
       "      <td>7 days 00:00:00</td>\n",
       "      <td>0       7 days 00:00:00\\n1       1 days 00:00:...</td>\n",
       "    </tr>\n",
       "    <tr>\n",
       "      <th>1</th>\n",
       "      <td>SW-Recycling</td>\n",
       "      <td>Phone</td>\n",
       "      <td>2020-08-27 08:59:55</td>\n",
       "      <td>2020-08-28 08:59:55</td>\n",
       "      <td>NaT</td>\n",
       "      <td>2020-08-27T08:59:55.000</td>\n",
       "      <td>Solid Waste</td>\n",
       "      <td>NaN</td>\n",
       "      <td>Glen</td>\n",
       "      <td>5</td>\n",
       "      <td>Northwestern</td>\n",
       "      <td>21215</td>\n",
       "      <td>New</td>\n",
       "      <td>00:11:28.835748</td>\n",
       "      <td>1 days 00:00:00</td>\n",
       "      <td>0       7 days 00:00:00\\n1       1 days 00:00:...</td>\n",
       "    </tr>\n",
       "    <tr>\n",
       "      <th>2</th>\n",
       "      <td>ECC-Information Request</td>\n",
       "      <td>Phone</td>\n",
       "      <td>2020-08-27 08:59:54</td>\n",
       "      <td>2020-08-27 04:59:54</td>\n",
       "      <td>2020-08-27 09:00:02</td>\n",
       "      <td>2020-08-27T08:59:54.000</td>\n",
       "      <td>Call Center</td>\n",
       "      <td>NaN</td>\n",
       "      <td>NaN</td>\n",
       "      <td>NaN</td>\n",
       "      <td>NaN</td>\n",
       "      <td>NaN</td>\n",
       "      <td>Closed</td>\n",
       "      <td>00:00:08</td>\n",
       "      <td>-1 days +20:00:00</td>\n",
       "      <td>0       7 days 00:00:00\\n1       1 days 00:00:...</td>\n",
       "    </tr>\n",
       "    <tr>\n",
       "      <th>3</th>\n",
       "      <td>SW-Rat Rubout Proactive</td>\n",
       "      <td>System</td>\n",
       "      <td>2020-08-27 08:59:40</td>\n",
       "      <td>2020-09-03 08:59:40</td>\n",
       "      <td>2020-08-27 08:59:56</td>\n",
       "      <td>2020-08-27T08:59:55.000</td>\n",
       "      <td>Solid Waste</td>\n",
       "      <td>NaN</td>\n",
       "      <td>Walbrook</td>\n",
       "      <td>7</td>\n",
       "      <td>Southwestern</td>\n",
       "      <td>21216</td>\n",
       "      <td>Closed</td>\n",
       "      <td>00:00:16</td>\n",
       "      <td>7 days 00:00:00</td>\n",
       "      <td>0       7 days 00:00:00\\n1       1 days 00:00:...</td>\n",
       "    </tr>\n",
       "    <tr>\n",
       "      <th>4</th>\n",
       "      <td>FCPF-Trial Request-Red Light</td>\n",
       "      <td>Mail</td>\n",
       "      <td>2020-08-27 08:59:36</td>\n",
       "      <td>2020-10-09 08:59:36</td>\n",
       "      <td>NaT</td>\n",
       "      <td>2020-08-27T08:59:36.000</td>\n",
       "      <td>Finance</td>\n",
       "      <td>NaN</td>\n",
       "      <td>Downtown</td>\n",
       "      <td>11</td>\n",
       "      <td>Central</td>\n",
       "      <td>21202</td>\n",
       "      <td>New</td>\n",
       "      <td>00:11:28.835748</td>\n",
       "      <td>43 days 00:00:00</td>\n",
       "      <td>0       7 days 00:00:00\\n1       1 days 00:00:...</td>\n",
       "    </tr>\n",
       "  </tbody>\n",
       "</table>\n",
       "</div>"
      ],
      "text/plain": [
       "                         srtype methodreceived         createddate  \\\n",
       "0       SW-Rat Rubout Proactive         System 2020-08-27 09:00:05   \n",
       "1                  SW-Recycling          Phone 2020-08-27 08:59:55   \n",
       "2       ECC-Information Request          Phone 2020-08-27 08:59:54   \n",
       "3       SW-Rat Rubout Proactive         System 2020-08-27 08:59:40   \n",
       "4  FCPF-Trial Request-Red Light           Mail 2020-08-27 08:59:36   \n",
       "\n",
       "              duedate           closedate               statusdate  \\\n",
       "0 2020-09-03 09:00:05 2020-08-27 09:00:22  2020-08-27T09:00:20.000   \n",
       "1 2020-08-28 08:59:55                 NaT  2020-08-27T08:59:55.000   \n",
       "2 2020-08-27 04:59:54 2020-08-27 09:00:02  2020-08-27T08:59:54.000   \n",
       "3 2020-09-03 08:59:40 2020-08-27 08:59:56  2020-08-27T08:59:55.000   \n",
       "4 2020-10-09 08:59:36                 NaT  2020-08-27T08:59:36.000   \n",
       "\n",
       "        agency lastactivity neighborhood councildistrict policedistrict  \\\n",
       "0  Solid Waste          NaN     Walbrook               7   Southwestern   \n",
       "1  Solid Waste          NaN         Glen               5   Northwestern   \n",
       "2  Call Center          NaN          NaN             NaN            NaN   \n",
       "3  Solid Waste          NaN     Walbrook               7   Southwestern   \n",
       "4      Finance          NaN     Downtown              11        Central   \n",
       "\n",
       "  zipcode srstatus actual_time_spent expected_time_spent  \\\n",
       "0   21216   Closed          00:00:17     7 days 00:00:00   \n",
       "1   21215      New   00:11:28.835748     1 days 00:00:00   \n",
       "2     NaN   Closed          00:00:08   -1 days +20:00:00   \n",
       "3   21216   Closed          00:00:16     7 days 00:00:00   \n",
       "4   21202      New   00:11:28.835748    43 days 00:00:00   \n",
       "\n",
       "                                               exp_t  \n",
       "0  0       7 days 00:00:00\\n1       1 days 00:00:...  \n",
       "1  0       7 days 00:00:00\\n1       1 days 00:00:...  \n",
       "2  0       7 days 00:00:00\\n1       1 days 00:00:...  \n",
       "3  0       7 days 00:00:00\\n1       1 days 00:00:...  \n",
       "4  0       7 days 00:00:00\\n1       1 days 00:00:...  "
      ]
     },
     "execution_count": 74,
     "metadata": {},
     "output_type": "execute_result"
    }
   ],
   "source": [
    "data_df.head()"
   ]
  },
  {
   "cell_type": "code",
   "execution_count": 41,
   "metadata": {
    "scrolled": true
   },
   "outputs": [
    {
     "data": {
      "text/html": [
       "<div>\n",
       "<style scoped>\n",
       "    .dataframe tbody tr th:only-of-type {\n",
       "        vertical-align: middle;\n",
       "    }\n",
       "\n",
       "    .dataframe tbody tr th {\n",
       "        vertical-align: top;\n",
       "    }\n",
       "\n",
       "    .dataframe thead th {\n",
       "        text-align: right;\n",
       "    }\n",
       "</style>\n",
       "<table border=\"1\" class=\"dataframe\">\n",
       "  <thead>\n",
       "    <tr style=\"text-align: right;\">\n",
       "      <th></th>\n",
       "      <th>srtype</th>\n",
       "      <th>methodreceived</th>\n",
       "      <th>createddate</th>\n",
       "      <th>duedate</th>\n",
       "      <th>closedate</th>\n",
       "      <th>statusdate</th>\n",
       "      <th>agency</th>\n",
       "      <th>lastactivity</th>\n",
       "      <th>neighborhood</th>\n",
       "      <th>councildistrict</th>\n",
       "      <th>policedistrict</th>\n",
       "      <th>zipcode</th>\n",
       "      <th>srstatus</th>\n",
       "      <th>actual_time_spent</th>\n",
       "      <th>expected_time_spent</th>\n",
       "    </tr>\n",
       "  </thead>\n",
       "  <tbody>\n",
       "    <tr>\n",
       "      <th>count</th>\n",
       "      <td>1000</td>\n",
       "      <td>1000</td>\n",
       "      <td>1000</td>\n",
       "      <td>1000</td>\n",
       "      <td>621</td>\n",
       "      <td>1000</td>\n",
       "      <td>1000</td>\n",
       "      <td>309</td>\n",
       "      <td>723</td>\n",
       "      <td>723</td>\n",
       "      <td>723</td>\n",
       "      <td>730</td>\n",
       "      <td>1000</td>\n",
       "      <td>621</td>\n",
       "      <td>1000</td>\n",
       "    </tr>\n",
       "    <tr>\n",
       "      <th>unique</th>\n",
       "      <td>76</td>\n",
       "      <td>5</td>\n",
       "      <td>941</td>\n",
       "      <td>982</td>\n",
       "      <td>586</td>\n",
       "      <td>957</td>\n",
       "      <td>11</td>\n",
       "      <td>4</td>\n",
       "      <td>153</td>\n",
       "      <td>14</td>\n",
       "      <td>9</td>\n",
       "      <td>30</td>\n",
       "      <td>11</td>\n",
       "      <td>NaN</td>\n",
       "      <td>NaN</td>\n",
       "    </tr>\n",
       "    <tr>\n",
       "      <th>top</th>\n",
       "      <td>SW-Rat Rubout Proactive</td>\n",
       "      <td>Phone</td>\n",
       "      <td>2020-08-27 08:21:53</td>\n",
       "      <td>2020-09-03 08:21:53</td>\n",
       "      <td>2020-08-26 22:00:07</td>\n",
       "      <td>2020-08-27T08:37:01.000</td>\n",
       "      <td>Solid Waste</td>\n",
       "      <td>Service Response</td>\n",
       "      <td>Waltherson</td>\n",
       "      <td>2</td>\n",
       "      <td>Northeastern</td>\n",
       "      <td>21206</td>\n",
       "      <td>Closed</td>\n",
       "      <td>NaN</td>\n",
       "      <td>NaN</td>\n",
       "    </tr>\n",
       "    <tr>\n",
       "      <th>freq</th>\n",
       "      <td>289</td>\n",
       "      <td>471</td>\n",
       "      <td>3</td>\n",
       "      <td>3</td>\n",
       "      <td>3</td>\n",
       "      <td>3</td>\n",
       "      <td>491</td>\n",
       "      <td>305</td>\n",
       "      <td>71</td>\n",
       "      <td>122</td>\n",
       "      <td>238</td>\n",
       "      <td>126</td>\n",
       "      <td>615</td>\n",
       "      <td>NaN</td>\n",
       "      <td>NaN</td>\n",
       "    </tr>\n",
       "    <tr>\n",
       "      <th>first</th>\n",
       "      <td>NaN</td>\n",
       "      <td>NaN</td>\n",
       "      <td>2020-08-26 20:17:08</td>\n",
       "      <td>2020-08-26 16:18:19</td>\n",
       "      <td>2020-08-26 20:19:18</td>\n",
       "      <td>NaN</td>\n",
       "      <td>NaN</td>\n",
       "      <td>NaN</td>\n",
       "      <td>NaN</td>\n",
       "      <td>NaN</td>\n",
       "      <td>NaN</td>\n",
       "      <td>NaN</td>\n",
       "      <td>NaN</td>\n",
       "      <td>NaN</td>\n",
       "      <td>NaN</td>\n",
       "    </tr>\n",
       "    <tr>\n",
       "      <th>last</th>\n",
       "      <td>NaN</td>\n",
       "      <td>NaN</td>\n",
       "      <td>2020-08-27 09:00:05</td>\n",
       "      <td>2021-08-11 09:24:49</td>\n",
       "      <td>2020-08-27 09:00:22</td>\n",
       "      <td>NaN</td>\n",
       "      <td>NaN</td>\n",
       "      <td>NaN</td>\n",
       "      <td>NaN</td>\n",
       "      <td>NaN</td>\n",
       "      <td>NaN</td>\n",
       "      <td>NaN</td>\n",
       "      <td>NaN</td>\n",
       "      <td>NaN</td>\n",
       "      <td>NaN</td>\n",
       "    </tr>\n",
       "    <tr>\n",
       "      <th>mean</th>\n",
       "      <td>NaN</td>\n",
       "      <td>NaN</td>\n",
       "      <td>NaN</td>\n",
       "      <td>NaN</td>\n",
       "      <td>NaN</td>\n",
       "      <td>NaN</td>\n",
       "      <td>NaN</td>\n",
       "      <td>NaN</td>\n",
       "      <td>NaN</td>\n",
       "      <td>NaN</td>\n",
       "      <td>NaN</td>\n",
       "      <td>NaN</td>\n",
       "      <td>NaN</td>\n",
       "      <td>0 days 00:11:28.835748</td>\n",
       "      <td>10 days 19:17:51.943000</td>\n",
       "    </tr>\n",
       "    <tr>\n",
       "      <th>std</th>\n",
       "      <td>NaN</td>\n",
       "      <td>NaN</td>\n",
       "      <td>NaN</td>\n",
       "      <td>NaN</td>\n",
       "      <td>NaN</td>\n",
       "      <td>NaN</td>\n",
       "      <td>NaN</td>\n",
       "      <td>NaN</td>\n",
       "      <td>NaN</td>\n",
       "      <td>NaN</td>\n",
       "      <td>NaN</td>\n",
       "      <td>NaN</td>\n",
       "      <td>NaN</td>\n",
       "      <td>0 days 00:56:25.970026</td>\n",
       "      <td>27 days 22:33:39.265621</td>\n",
       "    </tr>\n",
       "    <tr>\n",
       "      <th>min</th>\n",
       "      <td>NaN</td>\n",
       "      <td>NaN</td>\n",
       "      <td>NaN</td>\n",
       "      <td>NaN</td>\n",
       "      <td>NaN</td>\n",
       "      <td>NaN</td>\n",
       "      <td>NaN</td>\n",
       "      <td>NaN</td>\n",
       "      <td>NaN</td>\n",
       "      <td>NaN</td>\n",
       "      <td>NaN</td>\n",
       "      <td>NaN</td>\n",
       "      <td>NaN</td>\n",
       "      <td>0 days 00:00:07</td>\n",
       "      <td>-1 days +20:00:00</td>\n",
       "    </tr>\n",
       "    <tr>\n",
       "      <th>25%</th>\n",
       "      <td>NaN</td>\n",
       "      <td>NaN</td>\n",
       "      <td>NaN</td>\n",
       "      <td>NaN</td>\n",
       "      <td>NaN</td>\n",
       "      <td>NaN</td>\n",
       "      <td>NaN</td>\n",
       "      <td>NaN</td>\n",
       "      <td>NaN</td>\n",
       "      <td>NaN</td>\n",
       "      <td>NaN</td>\n",
       "      <td>NaN</td>\n",
       "      <td>NaN</td>\n",
       "      <td>0 days 00:00:16</td>\n",
       "      <td>0 days 23:59:59</td>\n",
       "    </tr>\n",
       "    <tr>\n",
       "      <th>50%</th>\n",
       "      <td>NaN</td>\n",
       "      <td>NaN</td>\n",
       "      <td>NaN</td>\n",
       "      <td>NaN</td>\n",
       "      <td>NaN</td>\n",
       "      <td>NaN</td>\n",
       "      <td>NaN</td>\n",
       "      <td>NaN</td>\n",
       "      <td>NaN</td>\n",
       "      <td>NaN</td>\n",
       "      <td>NaN</td>\n",
       "      <td>NaN</td>\n",
       "      <td>NaN</td>\n",
       "      <td>0 days 00:00:18</td>\n",
       "      <td>4 days 00:00:00</td>\n",
       "    </tr>\n",
       "    <tr>\n",
       "      <th>75%</th>\n",
       "      <td>NaN</td>\n",
       "      <td>NaN</td>\n",
       "      <td>NaN</td>\n",
       "      <td>NaN</td>\n",
       "      <td>NaN</td>\n",
       "      <td>NaN</td>\n",
       "      <td>NaN</td>\n",
       "      <td>NaN</td>\n",
       "      <td>NaN</td>\n",
       "      <td>NaN</td>\n",
       "      <td>NaN</td>\n",
       "      <td>NaN</td>\n",
       "      <td>NaN</td>\n",
       "      <td>0 days 00:00:50</td>\n",
       "      <td>7 days 00:00:00</td>\n",
       "    </tr>\n",
       "    <tr>\n",
       "      <th>max</th>\n",
       "      <td>NaN</td>\n",
       "      <td>NaN</td>\n",
       "      <td>NaN</td>\n",
       "      <td>NaN</td>\n",
       "      <td>NaN</td>\n",
       "      <td>NaN</td>\n",
       "      <td>NaN</td>\n",
       "      <td>NaN</td>\n",
       "      <td>NaN</td>\n",
       "      <td>NaN</td>\n",
       "      <td>NaN</td>\n",
       "      <td>NaN</td>\n",
       "      <td>NaN</td>\n",
       "      <td>0 days 08:29:08</td>\n",
       "      <td>349 days 01:00:00</td>\n",
       "    </tr>\n",
       "  </tbody>\n",
       "</table>\n",
       "</div>"
      ],
      "text/plain": [
       "                         srtype methodreceived          createddate  \\\n",
       "count                      1000           1000                 1000   \n",
       "unique                       76              5                  941   \n",
       "top     SW-Rat Rubout Proactive          Phone  2020-08-27 08:21:53   \n",
       "freq                        289            471                    3   \n",
       "first                       NaN            NaN  2020-08-26 20:17:08   \n",
       "last                        NaN            NaN  2020-08-27 09:00:05   \n",
       "mean                        NaN            NaN                  NaN   \n",
       "std                         NaN            NaN                  NaN   \n",
       "min                         NaN            NaN                  NaN   \n",
       "25%                         NaN            NaN                  NaN   \n",
       "50%                         NaN            NaN                  NaN   \n",
       "75%                         NaN            NaN                  NaN   \n",
       "max                         NaN            NaN                  NaN   \n",
       "\n",
       "                    duedate            closedate               statusdate  \\\n",
       "count                  1000                  621                     1000   \n",
       "unique                  982                  586                      957   \n",
       "top     2020-09-03 08:21:53  2020-08-26 22:00:07  2020-08-27T08:37:01.000   \n",
       "freq                      3                    3                        3   \n",
       "first   2020-08-26 16:18:19  2020-08-26 20:19:18                      NaN   \n",
       "last    2021-08-11 09:24:49  2020-08-27 09:00:22                      NaN   \n",
       "mean                    NaN                  NaN                      NaN   \n",
       "std                     NaN                  NaN                      NaN   \n",
       "min                     NaN                  NaN                      NaN   \n",
       "25%                     NaN                  NaN                      NaN   \n",
       "50%                     NaN                  NaN                      NaN   \n",
       "75%                     NaN                  NaN                      NaN   \n",
       "max                     NaN                  NaN                      NaN   \n",
       "\n",
       "             agency      lastactivity neighborhood councildistrict  \\\n",
       "count          1000               309          723             723   \n",
       "unique           11                 4          153              14   \n",
       "top     Solid Waste  Service Response   Waltherson               2   \n",
       "freq            491               305           71             122   \n",
       "first           NaN               NaN          NaN             NaN   \n",
       "last            NaN               NaN          NaN             NaN   \n",
       "mean            NaN               NaN          NaN             NaN   \n",
       "std             NaN               NaN          NaN             NaN   \n",
       "min             NaN               NaN          NaN             NaN   \n",
       "25%             NaN               NaN          NaN             NaN   \n",
       "50%             NaN               NaN          NaN             NaN   \n",
       "75%             NaN               NaN          NaN             NaN   \n",
       "max             NaN               NaN          NaN             NaN   \n",
       "\n",
       "       policedistrict zipcode srstatus       actual_time_spent  \\\n",
       "count             723     730     1000                     621   \n",
       "unique              9      30       11                     NaN   \n",
       "top      Northeastern   21206   Closed                     NaN   \n",
       "freq              238     126      615                     NaN   \n",
       "first             NaN     NaN      NaN                     NaN   \n",
       "last              NaN     NaN      NaN                     NaN   \n",
       "mean              NaN     NaN      NaN  0 days 00:11:28.835748   \n",
       "std               NaN     NaN      NaN  0 days 00:56:25.970026   \n",
       "min               NaN     NaN      NaN         0 days 00:00:07   \n",
       "25%               NaN     NaN      NaN         0 days 00:00:16   \n",
       "50%               NaN     NaN      NaN         0 days 00:00:18   \n",
       "75%               NaN     NaN      NaN         0 days 00:00:50   \n",
       "max               NaN     NaN      NaN         0 days 08:29:08   \n",
       "\n",
       "            expected_time_spent  \n",
       "count                      1000  \n",
       "unique                      NaN  \n",
       "top                         NaN  \n",
       "freq                        NaN  \n",
       "first                       NaN  \n",
       "last                        NaN  \n",
       "mean    10 days 19:17:51.943000  \n",
       "std     27 days 22:33:39.265621  \n",
       "min           -1 days +20:00:00  \n",
       "25%             0 days 23:59:59  \n",
       "50%             4 days 00:00:00  \n",
       "75%             7 days 00:00:00  \n",
       "max           349 days 01:00:00  "
      ]
     },
     "execution_count": 41,
     "metadata": {},
     "output_type": "execute_result"
    }
   ],
   "source": [
    "data_df.describe(include = \"all\")"
   ]
  },
  {
   "cell_type": "code",
   "execution_count": 43,
   "metadata": {},
   "outputs": [],
   "source": [
    "mean1=data_df['actual_time_spent'].mean()\n",
    "data_df['actual_time_spent'].replace(np.nan,mean1, inplace=True)"
   ]
  },
  {
   "cell_type": "code",
   "execution_count": 44,
   "metadata": {},
   "outputs": [],
   "source": [
    "mean2=data_df['expected_time_spent'].mean()\n",
    "data_df['expected_time_spent'].replace(np.nan,mean2, inplace=True)"
   ]
  },
  {
   "cell_type": "code",
   "execution_count": 45,
   "metadata": {},
   "outputs": [
    {
     "data": {
      "text/plain": [
       "srtype                   0\n",
       "methodreceived           0\n",
       "createddate              0\n",
       "duedate                  0\n",
       "closedate              379\n",
       "statusdate               0\n",
       "agency                   0\n",
       "lastactivity           691\n",
       "neighborhood           277\n",
       "councildistrict        277\n",
       "policedistrict         277\n",
       "zipcode                270\n",
       "srstatus                 0\n",
       "actual_time_spent        0\n",
       "expected_time_spent      0\n",
       "dtype: int64"
      ]
     },
     "execution_count": 45,
     "metadata": {},
     "output_type": "execute_result"
    }
   ],
   "source": [
    "data_df.isnull().sum()"
   ]
  },
  {
   "cell_type": "code",
   "execution_count": 49,
   "metadata": {
    "scrolled": false
   },
   "outputs": [
    {
     "data": {
      "text/html": [
       "<div>\n",
       "<style scoped>\n",
       "    .dataframe tbody tr th:only-of-type {\n",
       "        vertical-align: middle;\n",
       "    }\n",
       "\n",
       "    .dataframe tbody tr th {\n",
       "        vertical-align: top;\n",
       "    }\n",
       "\n",
       "    .dataframe thead th {\n",
       "        text-align: right;\n",
       "    }\n",
       "</style>\n",
       "<table border=\"1\" class=\"dataframe\">\n",
       "  <thead>\n",
       "    <tr style=\"text-align: right;\">\n",
       "      <th></th>\n",
       "      <th>srtype</th>\n",
       "      <th>methodreceived</th>\n",
       "      <th>createddate</th>\n",
       "      <th>duedate</th>\n",
       "      <th>closedate</th>\n",
       "      <th>statusdate</th>\n",
       "      <th>agency</th>\n",
       "      <th>lastactivity</th>\n",
       "      <th>neighborhood</th>\n",
       "      <th>councildistrict</th>\n",
       "      <th>policedistrict</th>\n",
       "      <th>zipcode</th>\n",
       "      <th>srstatus</th>\n",
       "      <th>actual_time_spent</th>\n",
       "      <th>expected_time_spent</th>\n",
       "    </tr>\n",
       "  </thead>\n",
       "  <tbody>\n",
       "    <tr>\n",
       "      <th>566</th>\n",
       "      <td>SW-Rat Rubout Proactive</td>\n",
       "      <td>System</td>\n",
       "      <td>2020-08-27 07:56:00</td>\n",
       "      <td>2020-09-03 07:56:00</td>\n",
       "      <td>2020-08-27 07:56:17</td>\n",
       "      <td>2020-08-27T07:56:15.000</td>\n",
       "      <td>Solid Waste</td>\n",
       "      <td>Service Response</td>\n",
       "      <td>Waltherson</td>\n",
       "      <td>3</td>\n",
       "      <td>Northeastern</td>\n",
       "      <td>21206</td>\n",
       "      <td>Closed</td>\n",
       "      <td>00:00:17</td>\n",
       "      <td>7 days</td>\n",
       "    </tr>\n",
       "    <tr>\n",
       "      <th>573</th>\n",
       "      <td>SW-Rat Rubout Proactive</td>\n",
       "      <td>System</td>\n",
       "      <td>2020-08-27 07:53:42</td>\n",
       "      <td>2020-09-03 07:53:42</td>\n",
       "      <td>2020-08-27 07:53:56</td>\n",
       "      <td>2020-08-27T07:53:55.000</td>\n",
       "      <td>Solid Waste</td>\n",
       "      <td>Service Response</td>\n",
       "      <td>Waltherson</td>\n",
       "      <td>3</td>\n",
       "      <td>Northeastern</td>\n",
       "      <td>21206</td>\n",
       "      <td>Closed</td>\n",
       "      <td>00:00:14</td>\n",
       "      <td>7 days</td>\n",
       "    </tr>\n",
       "    <tr>\n",
       "      <th>574</th>\n",
       "      <td>SW-Rat Rubout Proactive</td>\n",
       "      <td>System</td>\n",
       "      <td>2020-08-27 07:53:24</td>\n",
       "      <td>2020-09-03 07:53:24</td>\n",
       "      <td>2020-08-27 07:53:42</td>\n",
       "      <td>2020-08-27T07:53:41.000</td>\n",
       "      <td>Solid Waste</td>\n",
       "      <td>Service Response</td>\n",
       "      <td>Waltherson</td>\n",
       "      <td>3</td>\n",
       "      <td>Northeastern</td>\n",
       "      <td>21206</td>\n",
       "      <td>Closed</td>\n",
       "      <td>00:00:18</td>\n",
       "      <td>7 days</td>\n",
       "    </tr>\n",
       "    <tr>\n",
       "      <th>579</th>\n",
       "      <td>HLTH-Animal Aggressive Animal</td>\n",
       "      <td>Phone</td>\n",
       "      <td>2020-08-27 07:51:08</td>\n",
       "      <td>2020-09-03 07:51:08</td>\n",
       "      <td>2020-08-27 08:39:46</td>\n",
       "      <td>2020-08-27T08:39:45.000</td>\n",
       "      <td>Health</td>\n",
       "      <td>Service Response</td>\n",
       "      <td>Waltherson</td>\n",
       "      <td>3</td>\n",
       "      <td>Northeastern</td>\n",
       "      <td>21206</td>\n",
       "      <td>Closed</td>\n",
       "      <td>00:48:38</td>\n",
       "      <td>7 days</td>\n",
       "    </tr>\n",
       "    <tr>\n",
       "      <th>581</th>\n",
       "      <td>SW-Rat Rubout Proactive</td>\n",
       "      <td>System</td>\n",
       "      <td>2020-08-27 07:50:43</td>\n",
       "      <td>2020-09-03 07:50:43</td>\n",
       "      <td>2020-08-27 07:50:59</td>\n",
       "      <td>2020-08-27T07:50:57.000</td>\n",
       "      <td>Solid Waste</td>\n",
       "      <td>Service Response</td>\n",
       "      <td>Waltherson</td>\n",
       "      <td>3</td>\n",
       "      <td>Northeastern</td>\n",
       "      <td>21206</td>\n",
       "      <td>Closed</td>\n",
       "      <td>00:00:16</td>\n",
       "      <td>7 days</td>\n",
       "    </tr>\n",
       "  </tbody>\n",
       "</table>\n",
       "</div>"
      ],
      "text/plain": [
       "                            srtype methodreceived         createddate  \\\n",
       "566        SW-Rat Rubout Proactive         System 2020-08-27 07:56:00   \n",
       "573        SW-Rat Rubout Proactive         System 2020-08-27 07:53:42   \n",
       "574        SW-Rat Rubout Proactive         System 2020-08-27 07:53:24   \n",
       "579  HLTH-Animal Aggressive Animal          Phone 2020-08-27 07:51:08   \n",
       "581        SW-Rat Rubout Proactive         System 2020-08-27 07:50:43   \n",
       "\n",
       "                duedate           closedate               statusdate  \\\n",
       "566 2020-09-03 07:56:00 2020-08-27 07:56:17  2020-08-27T07:56:15.000   \n",
       "573 2020-09-03 07:53:42 2020-08-27 07:53:56  2020-08-27T07:53:55.000   \n",
       "574 2020-09-03 07:53:24 2020-08-27 07:53:42  2020-08-27T07:53:41.000   \n",
       "579 2020-09-03 07:51:08 2020-08-27 08:39:46  2020-08-27T08:39:45.000   \n",
       "581 2020-09-03 07:50:43 2020-08-27 07:50:59  2020-08-27T07:50:57.000   \n",
       "\n",
       "          agency      lastactivity neighborhood councildistrict  \\\n",
       "566  Solid Waste  Service Response   Waltherson               3   \n",
       "573  Solid Waste  Service Response   Waltherson               3   \n",
       "574  Solid Waste  Service Response   Waltherson               3   \n",
       "579       Health  Service Response   Waltherson               3   \n",
       "581  Solid Waste  Service Response   Waltherson               3   \n",
       "\n",
       "    policedistrict zipcode srstatus actual_time_spent expected_time_spent  \n",
       "566   Northeastern   21206   Closed          00:00:17              7 days  \n",
       "573   Northeastern   21206   Closed          00:00:14              7 days  \n",
       "574   Northeastern   21206   Closed          00:00:18              7 days  \n",
       "579   Northeastern   21206   Closed          00:48:38              7 days  \n",
       "581   Northeastern   21206   Closed          00:00:16              7 days  "
      ]
     },
     "execution_count": 49,
     "metadata": {},
     "output_type": "execute_result"
    }
   ],
   "source": [
    "sdata_df = data_df.dropna()\n",
    "sdata_df.head()"
   ]
  },
  {
   "cell_type": "code",
   "execution_count": 50,
   "metadata": {},
   "outputs": [
    {
     "data": {
      "text/plain": [
       "(50, 15)"
      ]
     },
     "execution_count": 50,
     "metadata": {},
     "output_type": "execute_result"
    }
   ],
   "source": [
    "sdata_df.shape"
   ]
  },
  {
   "cell_type": "code",
   "execution_count": 51,
   "metadata": {
    "scrolled": true
   },
   "outputs": [
    {
     "data": {
      "text/html": [
       "<div>\n",
       "<style scoped>\n",
       "    .dataframe tbody tr th:only-of-type {\n",
       "        vertical-align: middle;\n",
       "    }\n",
       "\n",
       "    .dataframe tbody tr th {\n",
       "        vertical-align: top;\n",
       "    }\n",
       "\n",
       "    .dataframe thead th {\n",
       "        text-align: right;\n",
       "    }\n",
       "</style>\n",
       "<table border=\"1\" class=\"dataframe\">\n",
       "  <thead>\n",
       "    <tr style=\"text-align: right;\">\n",
       "      <th></th>\n",
       "      <th>actual_time_spent</th>\n",
       "      <th>expected_time_spent</th>\n",
       "    </tr>\n",
       "  </thead>\n",
       "  <tbody>\n",
       "    <tr>\n",
       "      <th>count</th>\n",
       "      <td>50</td>\n",
       "      <td>50</td>\n",
       "    </tr>\n",
       "    <tr>\n",
       "      <th>mean</th>\n",
       "      <td>0 days 01:52:15.280000</td>\n",
       "      <td>4 days 12:26:30.380000</td>\n",
       "    </tr>\n",
       "    <tr>\n",
       "      <th>std</th>\n",
       "      <td>0 days 02:35:48.161916</td>\n",
       "      <td>3 days 03:22:04.456273</td>\n",
       "    </tr>\n",
       "    <tr>\n",
       "      <th>min</th>\n",
       "      <td>0 days 00:00:14</td>\n",
       "      <td>-1 days +20:00:00</td>\n",
       "    </tr>\n",
       "    <tr>\n",
       "      <th>25%</th>\n",
       "      <td>0 days 00:12:12</td>\n",
       "      <td>2 days 00:00:00</td>\n",
       "    </tr>\n",
       "    <tr>\n",
       "      <th>50%</th>\n",
       "      <td>0 days 00:40:42</td>\n",
       "      <td>4 days 00:00:00</td>\n",
       "    </tr>\n",
       "    <tr>\n",
       "      <th>75%</th>\n",
       "      <td>0 days 01:59:02.250000</td>\n",
       "      <td>7 days 00:00:00</td>\n",
       "    </tr>\n",
       "    <tr>\n",
       "      <th>max</th>\n",
       "      <td>0 days 08:29:08</td>\n",
       "      <td>12 days 00:00:00</td>\n",
       "    </tr>\n",
       "  </tbody>\n",
       "</table>\n",
       "</div>"
      ],
      "text/plain": [
       "            actual_time_spent     expected_time_spent\n",
       "count                      50                      50\n",
       "mean   0 days 01:52:15.280000  4 days 12:26:30.380000\n",
       "std    0 days 02:35:48.161916  3 days 03:22:04.456273\n",
       "min           0 days 00:00:14       -1 days +20:00:00\n",
       "25%           0 days 00:12:12         2 days 00:00:00\n",
       "50%           0 days 00:40:42         4 days 00:00:00\n",
       "75%    0 days 01:59:02.250000         7 days 00:00:00\n",
       "max           0 days 08:29:08        12 days 00:00:00"
      ]
     },
     "execution_count": 51,
     "metadata": {},
     "output_type": "execute_result"
    }
   ],
   "source": [
    "sdata_df.describe()"
   ]
  },
  {
   "cell_type": "code",
   "execution_count": 60,
   "metadata": {},
   "outputs": [
    {
     "data": {
      "text/html": [
       "<div>\n",
       "<style scoped>\n",
       "    .dataframe tbody tr th:only-of-type {\n",
       "        vertical-align: middle;\n",
       "    }\n",
       "\n",
       "    .dataframe tbody tr th {\n",
       "        vertical-align: top;\n",
       "    }\n",
       "\n",
       "    .dataframe thead th {\n",
       "        text-align: right;\n",
       "    }\n",
       "</style>\n",
       "<table border=\"1\" class=\"dataframe\">\n",
       "  <thead>\n",
       "    <tr style=\"text-align: right;\">\n",
       "      <th></th>\n",
       "      <th>neighborhood</th>\n",
       "    </tr>\n",
       "  </thead>\n",
       "  <tbody>\n",
       "    <tr>\n",
       "      <th>Waltherson</th>\n",
       "      <td>12</td>\n",
       "    </tr>\n",
       "    <tr>\n",
       "      <th>Frankford</th>\n",
       "      <td>3</td>\n",
       "    </tr>\n",
       "    <tr>\n",
       "      <th>Cedmont</th>\n",
       "      <td>3</td>\n",
       "    </tr>\n",
       "    <tr>\n",
       "      <th>Madison-Eastend</th>\n",
       "      <td>3</td>\n",
       "    </tr>\n",
       "    <tr>\n",
       "      <th>Cherry Hill</th>\n",
       "      <td>2</td>\n",
       "    </tr>\n",
       "    <tr>\n",
       "      <th>New Southwest/Mount Clare</th>\n",
       "      <td>2</td>\n",
       "    </tr>\n",
       "    <tr>\n",
       "      <th>Irvington</th>\n",
       "      <td>2</td>\n",
       "    </tr>\n",
       "    <tr>\n",
       "      <th>Bolton Hill</th>\n",
       "      <td>2</td>\n",
       "    </tr>\n",
       "    <tr>\n",
       "      <th>Canton Industrial Area</th>\n",
       "      <td>2</td>\n",
       "    </tr>\n",
       "    <tr>\n",
       "      <th>Parklane</th>\n",
       "      <td>1</td>\n",
       "    </tr>\n",
       "    <tr>\n",
       "      <th>Fells Point</th>\n",
       "      <td>1</td>\n",
       "    </tr>\n",
       "    <tr>\n",
       "      <th>Perring Loch</th>\n",
       "      <td>1</td>\n",
       "    </tr>\n",
       "    <tr>\n",
       "      <th>Loch Raven</th>\n",
       "      <td>1</td>\n",
       "    </tr>\n",
       "    <tr>\n",
       "      <th>Canton</th>\n",
       "      <td>1</td>\n",
       "    </tr>\n",
       "    <tr>\n",
       "      <th>Woodbourne-McCabe</th>\n",
       "      <td>1</td>\n",
       "    </tr>\n",
       "    <tr>\n",
       "      <th>Otterbein</th>\n",
       "      <td>1</td>\n",
       "    </tr>\n",
       "    <tr>\n",
       "      <th>Armistead Gardens</th>\n",
       "      <td>1</td>\n",
       "    </tr>\n",
       "    <tr>\n",
       "      <th>Roland Park</th>\n",
       "      <td>1</td>\n",
       "    </tr>\n",
       "    <tr>\n",
       "      <th>Patterson Park Neighborhood</th>\n",
       "      <td>1</td>\n",
       "    </tr>\n",
       "    <tr>\n",
       "      <th>Pimlico Good Neighbors</th>\n",
       "      <td>1</td>\n",
       "    </tr>\n",
       "    <tr>\n",
       "      <th>Curtis Bay</th>\n",
       "      <td>1</td>\n",
       "    </tr>\n",
       "    <tr>\n",
       "      <th>Hollins Market</th>\n",
       "      <td>1</td>\n",
       "    </tr>\n",
       "    <tr>\n",
       "      <th>Druid Hill Park</th>\n",
       "      <td>1</td>\n",
       "    </tr>\n",
       "    <tr>\n",
       "      <th>Violetville</th>\n",
       "      <td>1</td>\n",
       "    </tr>\n",
       "    <tr>\n",
       "      <th>Winston-Govans</th>\n",
       "      <td>1</td>\n",
       "    </tr>\n",
       "    <tr>\n",
       "      <th>Baltimore Highlands</th>\n",
       "      <td>1</td>\n",
       "    </tr>\n",
       "    <tr>\n",
       "      <th>Riverside</th>\n",
       "      <td>1</td>\n",
       "    </tr>\n",
       "    <tr>\n",
       "      <th>Central Park Heights</th>\n",
       "      <td>1</td>\n",
       "    </tr>\n",
       "  </tbody>\n",
       "</table>\n",
       "</div>"
      ],
      "text/plain": [
       "                             neighborhood\n",
       "Waltherson                             12\n",
       "Frankford                               3\n",
       "Cedmont                                 3\n",
       "Madison-Eastend                         3\n",
       "Cherry Hill                             2\n",
       "New Southwest/Mount Clare               2\n",
       "Irvington                               2\n",
       "Bolton Hill                             2\n",
       "Canton Industrial Area                  2\n",
       "Parklane                                1\n",
       "Fells Point                             1\n",
       "Perring Loch                            1\n",
       "Loch Raven                              1\n",
       "Canton                                  1\n",
       "Woodbourne-McCabe                       1\n",
       "Otterbein                               1\n",
       "Armistead Gardens                       1\n",
       "Roland Park                             1\n",
       "Patterson Park Neighborhood             1\n",
       "Pimlico Good Neighbors                  1\n",
       "Curtis Bay                              1\n",
       "Hollins Market                          1\n",
       "Druid Hill Park                         1\n",
       "Violetville                             1\n",
       "Winston-Govans                          1\n",
       "Baltimore Highlands                     1\n",
       "Riverside                               1\n",
       "Central Park Heights                    1"
      ]
     },
     "execution_count": 60,
     "metadata": {},
     "output_type": "execute_result"
    }
   ],
   "source": [
    "sdata_df['neighborhood'].value_counts().to_frame()"
   ]
  },
  {
   "cell_type": "markdown",
   "metadata": {},
   "source": [
    "# Visualization"
   ]
  },
  {
   "cell_type": "code",
   "execution_count": 53,
   "metadata": {},
   "outputs": [],
   "source": [
    "import seaborn as sns"
   ]
  },
  {
   "cell_type": "code",
   "execution_count": 54,
   "metadata": {},
   "outputs": [
    {
     "data": {
      "text/plain": [
       "Text(0.5, 1.0, 'Requests by Police District')"
      ]
     },
     "execution_count": 54,
     "metadata": {},
     "output_type": "execute_result"
    },
    {
     "data": {
      "image/png": "[encoded data removed]",
      "text/plain": [
       "<Figure size 1440x720 with 1 Axes>"
      ]
     },
     "metadata": {
      "needs_background": "light"
     },
     "output_type": "display_data"
    }
   ],
   "source": [
    "plt.figure(figsize=(20,10))\n",
    "sns.countplot(x=sdata_df['policedistrict'])\n",
    "plt.title('Requests by Police District')"
   ]
  },
  {
   "cell_type": "code",
   "execution_count": 55,
   "metadata": {},
   "outputs": [
    {
     "data": {
      "text/plain": [
       "Text(0.5, 1.0, 'Requests by Neighborhood')"
      ]
     },
     "execution_count": 55,
     "metadata": {},
     "output_type": "execute_result"
    },
    {
     "data": {
      "image/png": "[encoded data removed]",
      "text/plain": [
       "<Figure size 25200x720 with 1 Axes>"
      ]
     },
     "metadata": {
      "needs_background": "light"
     },
     "output_type": "display_data"
    }
   ],
   "source": [
    "plt.figure(figsize=(350,10))\n",
    "sns.countplot(x=sdata_df['neighborhood'])\n",
    "plt.title('Requests by Neighborhood')"
   ]
  },
  {
   "cell_type": "code",
   "execution_count": 64,
   "metadata": {},
   "outputs": [
    {
     "data": {
      "text/plain": [
       "Text(0.5, 1.0, 'Requests by Council District')"
      ]
     },
     "execution_count": 64,
     "metadata": {},
     "output_type": "execute_result"
    },
    {
     "data": {
      "image/png": "[encoded data removed]",
      "text/plain": [
       "<Figure size 2160x576 with 1 Axes>"
      ]
     },
     "metadata": {
      "needs_background": "light"
     },
     "output_type": "display_data"
    }
   ],
   "source": [
    "plt.figure(figsize=(30,8))\n",
    "sns.countplot(x=sdata_df['councildistrict'], hue = sdata_df[\"neighborhood\"])\n",
    "plt.title('Requests by Council District')"
   ]
  },
  {
   "cell_type": "code",
   "execution_count": 57,
   "metadata": {},
   "outputs": [
    {
     "data": {
      "text/plain": [
       "Text(0.5, 1.0, 'Requests by Agency')"
      ]
     },
     "execution_count": 57,
     "metadata": {},
     "output_type": "execute_result"
    },
    {
     "data": {
      "image/png": "[encoded data removed]",
      "text/plain": [
       "<Figure size 1440x720 with 1 Axes>"
      ]
     },
     "metadata": {
      "needs_background": "light"
     },
     "output_type": "display_data"
    }
   ],
   "source": [
    "plt.figure(figsize=(20,10))\n",
    "sns.countplot(x=sdata_df['agency'])\n",
    "plt.title('Requests by Agency')"
   ]
  },
  {
   "cell_type": "code",
   "execution_count": null,
   "metadata": {},
   "outputs": [],
   "source": []
  }
 ],
 "metadata": {
  "kernelspec": {
   "display_name": "Python 3",
   "language": "python",
   "name": "python3"
  },
  "language_info": {
   "codemirror_mode": {
    "name": "ipython",
    "version": 3
   },
   "file_extension": ".py",
   "mimetype": "text/x-python",
   "name": "python",
   "nbconvert_exporter": "python",
   "pygments_lexer": "ipython3",
   "version": "3.7.6"
  }
 },
 "nbformat": 4,
 "nbformat_minor": 4
}
