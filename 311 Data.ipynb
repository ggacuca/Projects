{
 "cells": [
  {
   "cell_type": "markdown",
   "metadata": {},
   "source": [
    "# API"
   ]
  },
  {
   "cell_type": "code",
   "execution_count": 221,
   "metadata": {},
   "outputs": [],
   "source": [
    "import requests\n",
    "import json\n",
    "import pandas as pd\n",
    "import numpy as np\n",
    "import matplotlib as mpl\n",
    "import matplotlib.pyplot as plt "
   ]
  },
  {
   "cell_type": "code",
   "execution_count": 104,
   "metadata": {},
   "outputs": [],
   "source": [
    "url = r\"https://data.baltimorecity.gov/resource/9agw-sxsr.json\""
   ]
  },
  {
   "cell_type": "code",
   "execution_count": 105,
   "metadata": {},
   "outputs": [],
   "source": [
    "response = requests.get(url)"
   ]
  },
  {
   "cell_type": "code",
   "execution_count": 106,
   "metadata": {},
   "outputs": [
    {
     "data": {
      "text/plain": [
       "200"
      ]
     },
     "execution_count": 106,
     "metadata": {},
     "output_type": "execute_result"
    }
   ],
   "source": [
    "response.status_code"
   ]
  },
  {
   "cell_type": "code",
   "execution_count": 107,
   "metadata": {},
   "outputs": [],
   "source": [
    "data311 = response.json()"
   ]
  },
  {
   "cell_type": "code",
   "execution_count": 108,
   "metadata": {},
   "outputs": [
    {
     "data": {
      "text/plain": [
       "list"
      ]
     },
     "execution_count": 108,
     "metadata": {},
     "output_type": "execute_result"
    }
   ],
   "source": [
    "type(data311)"
   ]
  },
  {
   "cell_type": "code",
   "execution_count": 109,
   "metadata": {},
   "outputs": [
    {
     "data": {
      "text/plain": [
       "1000"
      ]
     },
     "execution_count": 109,
     "metadata": {},
     "output_type": "execute_result"
    }
   ],
   "source": [
    "len(data311)"
   ]
  },
  {
   "cell_type": "code",
   "execution_count": 110,
   "metadata": {},
   "outputs": [
    {
     "data": {
      "text/plain": [
       "dict"
      ]
     },
     "execution_count": 110,
     "metadata": {},
     "output_type": "execute_result"
    }
   ],
   "source": [
    "type(data311[0])"
   ]
  },
  {
   "cell_type": "code",
   "execution_count": 111,
   "metadata": {},
   "outputs": [
    {
     "data": {
      "text/plain": [
       "{'srrecordid': '5004M00000enAYDQA2',\n",
       " 'servicerequestnum': '20-00510962',\n",
       " 'srtype': 'ECC-Information Request',\n",
       " 'methodreceived': 'Phone',\n",
       " 'createddate': '2020-08-05T20:59:46.000',\n",
       " 'srstatus': 'Closed',\n",
       " 'statusdate': '2020-08-05T20:59:46.000',\n",
       " 'duedate': '2020-08-05T16:59:46.000',\n",
       " 'closedate': '2020-08-05T21:00:06.000',\n",
       " 'agency': 'Call Center'}"
      ]
     },
     "execution_count": 111,
     "metadata": {},
     "output_type": "execute_result"
    }
   ],
   "source": [
    "data311[0]"
   ]
  },
  {
   "cell_type": "code",
   "execution_count": 112,
   "metadata": {},
   "outputs": [
    {
     "data": {
      "text/plain": [
       "{'srrecordid': '5004M00000enAY8QAM',\n",
       " 'servicerequestnum': '20-00510961',\n",
       " 'srtype': 'BGE-StLight(s) Out',\n",
       " 'methodreceived': 'Phone',\n",
       " 'createddate': '2020-08-05T20:59:40.000',\n",
       " 'srstatus': 'New',\n",
       " 'statusdate': '2020-08-05T20:59:39.000',\n",
       " 'duedate': '2020-08-09T20:59:39.000',\n",
       " 'agency': 'BGE',\n",
       " 'address': '3706 WOODLEA AVE, Baltimore City, 21206',\n",
       " 'zipcode': '21206',\n",
       " 'neighborhood': 'Waltherson',\n",
       " 'councildistrict': '3',\n",
       " 'policedistrict': 'Northeastern',\n",
       " 'latitude': '39.340321226128005',\n",
       " 'longitude': '-76.559594211478550',\n",
       " 'geolocation': {'latitude': '39.340321226128005',\n",
       "  'longitude': '-76.55959421147855'},\n",
       " ':@computed_region_gwq4_fjxs': '206',\n",
       " ':@computed_region_5kre_ccpb': '248',\n",
       " ':@computed_region_s6p5_2pgr': '13991'}"
      ]
     },
     "execution_count": 112,
     "metadata": {},
     "output_type": "execute_result"
    }
   ],
   "source": [
    "data311[1]"
   ]
  },
  {
   "cell_type": "code",
   "execution_count": 113,
   "metadata": {},
   "outputs": [
    {
     "data": {
      "text/plain": [
       "dict_keys(['srrecordid', 'servicerequestnum', 'srtype', 'methodreceived', 'createddate', 'srstatus', 'statusdate', 'duedate', 'closedate', 'agency'])"
      ]
     },
     "execution_count": 113,
     "metadata": {},
     "output_type": "execute_result"
    }
   ],
   "source": [
    "data311[0].keys()"
   ]
  },
  {
   "cell_type": "code",
   "execution_count": 114,
   "metadata": {
    "scrolled": true
   },
   "outputs": [
    {
     "data": {
      "text/plain": [
       "dict_keys(['srrecordid', 'servicerequestnum', 'srtype', 'methodreceived', 'createddate', 'srstatus', 'statusdate', 'duedate', 'agency', 'address', 'zipcode', 'neighborhood', 'councildistrict', 'policedistrict', 'latitude', 'longitude', 'geolocation', ':@computed_region_gwq4_fjxs', ':@computed_region_5kre_ccpb', ':@computed_region_s6p5_2pgr'])"
      ]
     },
     "execution_count": 114,
     "metadata": {},
     "output_type": "execute_result"
    }
   ],
   "source": [
    "data311[1].keys()"
   ]
  },
  {
   "cell_type": "code",
   "execution_count": 115,
   "metadata": {
    "scrolled": true
   },
   "outputs": [
    {
     "data": {
      "text/plain": [
       "{'latitude': '39.340321226128005', 'longitude': '-76.55959421147855'}"
      ]
     },
     "execution_count": 115,
     "metadata": {},
     "output_type": "execute_result"
    }
   ],
   "source": [
    "data311[1]['geolocation']"
   ]
  },
  {
   "cell_type": "code",
   "execution_count": 116,
   "metadata": {},
   "outputs": [
    {
     "data": {
      "text/plain": [
       "'5004M00000enAYDQA2'"
      ]
     },
     "execution_count": 116,
     "metadata": {},
     "output_type": "execute_result"
    }
   ],
   "source": [
    "data311[0]['srrecordid']"
   ]
  },
  {
   "cell_type": "code",
   "execution_count": 117,
   "metadata": {},
   "outputs": [
    {
     "data": {
      "text/plain": [
       "dict"
      ]
     },
     "execution_count": 117,
     "metadata": {},
     "output_type": "execute_result"
    }
   ],
   "source": [
    "type(data311[0])"
   ]
  },
  {
   "cell_type": "code",
   "execution_count": 118,
   "metadata": {},
   "outputs": [],
   "source": [
    "info311 = str(data311[0].keys())"
   ]
  },
  {
   "cell_type": "code",
   "execution_count": 185,
   "metadata": {},
   "outputs": [],
   "source": [
    "dict_info = {'srtype':[],\n",
    "              'methodreceived':[],\n",
    "              'createddate':[],\n",
    "              'duedate':[],\n",
    "             'closedate':[],\n",
    "             'statusdate':[],\n",
    "              'agency':[],\n",
    "              'lastactivity':[],\n",
    "              'neighborhood':[],\n",
    "              'councildistrict':[],\n",
    "              'policedistrict':[],\n",
    "              'zipcode':[],\n",
    "              'srstatus':[]\n",
    "             \n",
    "             }\n",
    "\n",
    "style_name = []\n",
    "style_descr = []"
   ]
  },
  {
   "cell_type": "code",
   "execution_count": 186,
   "metadata": {},
   "outputs": [],
   "source": [
    "for data in data311:\n",
    "    \n",
    "    for key in dict_info.keys():\n",
    "        try:\n",
    "            dict_info[key].append(data[key])\n",
    "        except KeyError:\n",
    "            dict_info[key].append(np.nan)    \n",
    "    try:\n",
    "        style_name.append(data['style']['name'])\n",
    "    except KeyError:\n",
    "            style_name.append(np.nan)\n",
    "            \n",
    "    try:\n",
    "        style_descr.append(data['style']['description'])\n",
    "    except KeyError:\n",
    "            style_descr.append(np.nan)"
   ]
  },
  {
   "cell_type": "markdown",
   "metadata": {},
   "source": [
    "# Dataframe"
   ]
  },
  {
   "cell_type": "code",
   "execution_count": 224,
   "metadata": {
    "scrolled": true
   },
   "outputs": [
    {
     "data": {
      "text/html": [
       "<div>\n",
       "<style scoped>\n",
       "    .dataframe tbody tr th:only-of-type {\n",
       "        vertical-align: middle;\n",
       "    }\n",
       "\n",
       "    .dataframe tbody tr th {\n",
       "        vertical-align: top;\n",
       "    }\n",
       "\n",
       "    .dataframe thead th {\n",
       "        text-align: right;\n",
       "    }\n",
       "</style>\n",
       "<table border=\"1\" class=\"dataframe\">\n",
       "  <thead>\n",
       "    <tr style=\"text-align: right;\">\n",
       "      <th></th>\n",
       "      <th>srtype</th>\n",
       "      <th>methodreceived</th>\n",
       "      <th>createddate</th>\n",
       "      <th>duedate</th>\n",
       "      <th>closedate</th>\n",
       "      <th>statusdate</th>\n",
       "      <th>agency</th>\n",
       "      <th>lastactivity</th>\n",
       "      <th>neighborhood</th>\n",
       "      <th>councildistrict</th>\n",
       "      <th>policedistrict</th>\n",
       "      <th>zipcode</th>\n",
       "      <th>srstatus</th>\n",
       "    </tr>\n",
       "  </thead>\n",
       "  <tbody>\n",
       "    <tr>\n",
       "      <th>0</th>\n",
       "      <td>ECC-Information Request</td>\n",
       "      <td>Phone</td>\n",
       "      <td>2020-08-05T20:59:46.000</td>\n",
       "      <td>2020-08-05T16:59:46.000</td>\n",
       "      <td>2020-08-05T21:00:06.000</td>\n",
       "      <td>2020-08-05T20:59:46.000</td>\n",
       "      <td>Call Center</td>\n",
       "      <td>NaN</td>\n",
       "      <td>NaN</td>\n",
       "      <td>NaN</td>\n",
       "      <td>NaN</td>\n",
       "      <td>NaN</td>\n",
       "      <td>Closed</td>\n",
       "    </tr>\n",
       "    <tr>\n",
       "      <th>1</th>\n",
       "      <td>BGE-StLight(s) Out</td>\n",
       "      <td>Phone</td>\n",
       "      <td>2020-08-05T20:59:40.000</td>\n",
       "      <td>2020-08-09T20:59:39.000</td>\n",
       "      <td>NaN</td>\n",
       "      <td>2020-08-05T20:59:39.000</td>\n",
       "      <td>BGE</td>\n",
       "      <td>NaN</td>\n",
       "      <td>Waltherson</td>\n",
       "      <td>3</td>\n",
       "      <td>Northeastern</td>\n",
       "      <td>21206</td>\n",
       "      <td>New</td>\n",
       "    </tr>\n",
       "    <tr>\n",
       "      <th>2</th>\n",
       "      <td>BGE-StLight(s) Out</td>\n",
       "      <td>Phone</td>\n",
       "      <td>2020-08-05T20:58:05.000</td>\n",
       "      <td>2020-08-09T20:58:05.000</td>\n",
       "      <td>NaN</td>\n",
       "      <td>2020-08-05T20:58:05.000</td>\n",
       "      <td>BGE</td>\n",
       "      <td>NaN</td>\n",
       "      <td>Coldstream Homestead Montebello</td>\n",
       "      <td>14</td>\n",
       "      <td>Northeastern</td>\n",
       "      <td>21218</td>\n",
       "      <td>New</td>\n",
       "    </tr>\n",
       "    <tr>\n",
       "      <th>3</th>\n",
       "      <td>BGE-StLight(s) Out</td>\n",
       "      <td>Phone</td>\n",
       "      <td>2020-08-05T20:57:58.000</td>\n",
       "      <td>2020-08-09T20:57:58.000</td>\n",
       "      <td>NaN</td>\n",
       "      <td>2020-08-05T20:57:58.000</td>\n",
       "      <td>BGE</td>\n",
       "      <td>NaN</td>\n",
       "      <td>Cheswolde</td>\n",
       "      <td>5</td>\n",
       "      <td>Northwestern</td>\n",
       "      <td>21209</td>\n",
       "      <td>New</td>\n",
       "    </tr>\n",
       "    <tr>\n",
       "      <th>4</th>\n",
       "      <td>ECC-Information Request</td>\n",
       "      <td>Phone</td>\n",
       "      <td>2020-08-05T20:57:48.000</td>\n",
       "      <td>2020-08-05T16:57:48.000</td>\n",
       "      <td>2020-08-05T20:58:46.000</td>\n",
       "      <td>2020-08-05T20:57:48.000</td>\n",
       "      <td>Call Center</td>\n",
       "      <td>NaN</td>\n",
       "      <td>NaN</td>\n",
       "      <td>NaN</td>\n",
       "      <td>NaN</td>\n",
       "      <td>NaN</td>\n",
       "      <td>Closed</td>\n",
       "    </tr>\n",
       "    <tr>\n",
       "      <th>...</th>\n",
       "      <td>...</td>\n",
       "      <td>...</td>\n",
       "      <td>...</td>\n",
       "      <td>...</td>\n",
       "      <td>...</td>\n",
       "      <td>...</td>\n",
       "      <td>...</td>\n",
       "      <td>...</td>\n",
       "      <td>...</td>\n",
       "      <td>...</td>\n",
       "      <td>...</td>\n",
       "      <td>...</td>\n",
       "      <td>...</td>\n",
       "    </tr>\n",
       "    <tr>\n",
       "      <th>95</th>\n",
       "      <td>SW-Mixed Refuse</td>\n",
       "      <td>API</td>\n",
       "      <td>2020-08-05T19:48:08.000</td>\n",
       "      <td>2020-08-06T19:48:08.000</td>\n",
       "      <td>NaN</td>\n",
       "      <td>2020-08-05T19:48:08.000</td>\n",
       "      <td>Solid Waste</td>\n",
       "      <td>Service Response</td>\n",
       "      <td>Guilford</td>\n",
       "      <td>14</td>\n",
       "      <td>Northern</td>\n",
       "      <td>21218</td>\n",
       "      <td>New</td>\n",
       "    </tr>\n",
       "    <tr>\n",
       "      <th>96</th>\n",
       "      <td>SW-Recycling</td>\n",
       "      <td>Phone</td>\n",
       "      <td>2020-08-05T19:47:05.000</td>\n",
       "      <td>2020-08-06T19:47:05.000</td>\n",
       "      <td>NaN</td>\n",
       "      <td>2020-08-05T19:47:05.000</td>\n",
       "      <td>Solid Waste</td>\n",
       "      <td>Service Response</td>\n",
       "      <td>Berea</td>\n",
       "      <td>13</td>\n",
       "      <td>Eastern</td>\n",
       "      <td>21213</td>\n",
       "      <td>New</td>\n",
       "    </tr>\n",
       "    <tr>\n",
       "      <th>97</th>\n",
       "      <td>SW-Recycling</td>\n",
       "      <td>Phone</td>\n",
       "      <td>2020-08-05T19:46:36.000</td>\n",
       "      <td>2020-08-06T19:46:36.000</td>\n",
       "      <td>NaN</td>\n",
       "      <td>2020-08-05T19:46:36.000</td>\n",
       "      <td>Solid Waste</td>\n",
       "      <td>Service Response</td>\n",
       "      <td>Berea</td>\n",
       "      <td>13</td>\n",
       "      <td>Eastern</td>\n",
       "      <td>21213</td>\n",
       "      <td>New</td>\n",
       "    </tr>\n",
       "    <tr>\n",
       "      <th>98</th>\n",
       "      <td>ECC-Information Request</td>\n",
       "      <td>Phone</td>\n",
       "      <td>2020-08-05T19:46:09.000</td>\n",
       "      <td>2020-08-05T15:46:09.000</td>\n",
       "      <td>2020-08-05T19:46:17.000</td>\n",
       "      <td>2020-08-05T19:46:09.000</td>\n",
       "      <td>Call Center</td>\n",
       "      <td>NaN</td>\n",
       "      <td>NaN</td>\n",
       "      <td>NaN</td>\n",
       "      <td>NaN</td>\n",
       "      <td>NaN</td>\n",
       "      <td>Closed</td>\n",
       "    </tr>\n",
       "    <tr>\n",
       "      <th>99</th>\n",
       "      <td>ECC-Information Request</td>\n",
       "      <td>Phone</td>\n",
       "      <td>2020-08-05T19:45:53.000</td>\n",
       "      <td>2020-08-05T15:45:53.000</td>\n",
       "      <td>2020-08-05T19:46:18.000</td>\n",
       "      <td>2020-08-05T19:45:53.000</td>\n",
       "      <td>Call Center</td>\n",
       "      <td>NaN</td>\n",
       "      <td>NaN</td>\n",
       "      <td>NaN</td>\n",
       "      <td>NaN</td>\n",
       "      <td>NaN</td>\n",
       "      <td>Closed</td>\n",
       "    </tr>\n",
       "  </tbody>\n",
       "</table>\n",
       "<p>100 rows × 13 columns</p>\n",
       "</div>"
      ],
      "text/plain": [
       "                     srtype methodreceived              createddate  \\\n",
       "0   ECC-Information Request          Phone  2020-08-05T20:59:46.000   \n",
       "1        BGE-StLight(s) Out          Phone  2020-08-05T20:59:40.000   \n",
       "2        BGE-StLight(s) Out          Phone  2020-08-05T20:58:05.000   \n",
       "3        BGE-StLight(s) Out          Phone  2020-08-05T20:57:58.000   \n",
       "4   ECC-Information Request          Phone  2020-08-05T20:57:48.000   \n",
       "..                      ...            ...                      ...   \n",
       "95          SW-Mixed Refuse            API  2020-08-05T19:48:08.000   \n",
       "96             SW-Recycling          Phone  2020-08-05T19:47:05.000   \n",
       "97             SW-Recycling          Phone  2020-08-05T19:46:36.000   \n",
       "98  ECC-Information Request          Phone  2020-08-05T19:46:09.000   \n",
       "99  ECC-Information Request          Phone  2020-08-05T19:45:53.000   \n",
       "\n",
       "                    duedate                closedate               statusdate  \\\n",
       "0   2020-08-05T16:59:46.000  2020-08-05T21:00:06.000  2020-08-05T20:59:46.000   \n",
       "1   2020-08-09T20:59:39.000                      NaN  2020-08-05T20:59:39.000   \n",
       "2   2020-08-09T20:58:05.000                      NaN  2020-08-05T20:58:05.000   \n",
       "3   2020-08-09T20:57:58.000                      NaN  2020-08-05T20:57:58.000   \n",
       "4   2020-08-05T16:57:48.000  2020-08-05T20:58:46.000  2020-08-05T20:57:48.000   \n",
       "..                      ...                      ...                      ...   \n",
       "95  2020-08-06T19:48:08.000                      NaN  2020-08-05T19:48:08.000   \n",
       "96  2020-08-06T19:47:05.000                      NaN  2020-08-05T19:47:05.000   \n",
       "97  2020-08-06T19:46:36.000                      NaN  2020-08-05T19:46:36.000   \n",
       "98  2020-08-05T15:46:09.000  2020-08-05T19:46:17.000  2020-08-05T19:46:09.000   \n",
       "99  2020-08-05T15:45:53.000  2020-08-05T19:46:18.000  2020-08-05T19:45:53.000   \n",
       "\n",
       "         agency      lastactivity                     neighborhood  \\\n",
       "0   Call Center               NaN                              NaN   \n",
       "1           BGE               NaN                       Waltherson   \n",
       "2           BGE               NaN  Coldstream Homestead Montebello   \n",
       "3           BGE               NaN                        Cheswolde   \n",
       "4   Call Center               NaN                              NaN   \n",
       "..          ...               ...                              ...   \n",
       "95  Solid Waste  Service Response                         Guilford   \n",
       "96  Solid Waste  Service Response                            Berea   \n",
       "97  Solid Waste  Service Response                            Berea   \n",
       "98  Call Center               NaN                              NaN   \n",
       "99  Call Center               NaN                              NaN   \n",
       "\n",
       "   councildistrict policedistrict zipcode srstatus  \n",
       "0              NaN            NaN     NaN   Closed  \n",
       "1                3   Northeastern   21206      New  \n",
       "2               14   Northeastern   21218      New  \n",
       "3                5   Northwestern   21209      New  \n",
       "4              NaN            NaN     NaN   Closed  \n",
       "..             ...            ...     ...      ...  \n",
       "95              14       Northern   21218      New  \n",
       "96              13        Eastern   21213      New  \n",
       "97              13        Eastern   21213      New  \n",
       "98             NaN            NaN     NaN   Closed  \n",
       "99             NaN            NaN     NaN   Closed  \n",
       "\n",
       "[100 rows x 13 columns]"
      ]
     },
     "execution_count": 224,
     "metadata": {},
     "output_type": "execute_result"
    }
   ],
   "source": [
    "data_df = pd.DataFrame(data=dict_info)\n",
    "data_df.head(100)"
   ]
  },
  {
   "cell_type": "markdown",
   "metadata": {},
   "source": [
    "# Clean and Transform Data"
   ]
  },
  {
   "cell_type": "code",
   "execution_count": 147,
   "metadata": {},
   "outputs": [
    {
     "data": {
      "text/plain": [
       "srtype               0\n",
       "methodreceived       0\n",
       "createddate          0\n",
       "duedate              0\n",
       "agency               0\n",
       "lastactivity       471\n",
       "neighborhood       430\n",
       "councildistrict    429\n",
       "policedistrict     429\n",
       "zipcode            415\n",
       "latitude           414\n",
       "longitude          414\n",
       "geolocation        414\n",
       "srstatus             0\n",
       "dtype: int64"
      ]
     },
     "execution_count": 147,
     "metadata": {},
     "output_type": "execute_result"
    }
   ],
   "source": [
    "data_df.isnull().sum()"
   ]
  },
  {
   "cell_type": "code",
   "execution_count": 148,
   "metadata": {
    "scrolled": true
   },
   "outputs": [
    {
     "data": {
      "text/plain": [
       "(1000, 14)"
      ]
     },
     "execution_count": 148,
     "metadata": {},
     "output_type": "execute_result"
    }
   ],
   "source": [
    "data_df.shape"
   ]
  },
  {
   "cell_type": "code",
   "execution_count": 274,
   "metadata": {},
   "outputs": [],
   "source": [
    "data_df['weekday'] = pd.to_datetime(data_df['createddate'], format='%w')"
   ]
  },
  {
   "cell_type": "code",
   "execution_count": 247,
   "metadata": {},
   "outputs": [],
   "source": [
    "data_df['createddate'] = pd.to_datetime(data_df['createddate'], format='%A-%Y-%m-%d %H:%M:%S')"
   ]
  },
  {
   "cell_type": "code",
   "execution_count": 248,
   "metadata": {},
   "outputs": [],
   "source": [
    "data_df['duedate'] = pd.to_datetime(data_df['duedate'], format='%A-%Y-%m-%d %H:%M:%S')"
   ]
  },
  {
   "cell_type": "code",
   "execution_count": 249,
   "metadata": {},
   "outputs": [],
   "source": [
    "data_df['closedate'] = pd.to_datetime(data_df['closedate'], format='%A-%Y-%m-%d %H:%M:%S')"
   ]
  },
  {
   "cell_type": "code",
   "execution_count": 250,
   "metadata": {},
   "outputs": [],
   "source": [
    "data_df['actual_time_spent'] = data_df['closedate'] - data_df['createddate'] "
   ]
  },
  {
   "cell_type": "code",
   "execution_count": 251,
   "metadata": {},
   "outputs": [],
   "source": [
    "data_df['expected_time_spent'] = data_df['duedate'] - data_df['createddate']"
   ]
  },
  {
   "cell_type": "code",
   "execution_count": 272,
   "metadata": {
    "scrolled": true
   },
   "outputs": [
    {
     "data": {
      "text/html": [
       "<div>\n",
       "<style scoped>\n",
       "    .dataframe tbody tr th:only-of-type {\n",
       "        vertical-align: middle;\n",
       "    }\n",
       "\n",
       "    .dataframe tbody tr th {\n",
       "        vertical-align: top;\n",
       "    }\n",
       "\n",
       "    .dataframe thead th {\n",
       "        text-align: right;\n",
       "    }\n",
       "</style>\n",
       "<table border=\"1\" class=\"dataframe\">\n",
       "  <thead>\n",
       "    <tr style=\"text-align: right;\">\n",
       "      <th></th>\n",
       "      <th>srtype</th>\n",
       "      <th>methodreceived</th>\n",
       "      <th>createddate</th>\n",
       "      <th>duedate</th>\n",
       "      <th>closedate</th>\n",
       "      <th>statusdate</th>\n",
       "      <th>agency</th>\n",
       "      <th>lastactivity</th>\n",
       "      <th>neighborhood</th>\n",
       "      <th>councildistrict</th>\n",
       "      <th>policedistrict</th>\n",
       "      <th>zipcode</th>\n",
       "      <th>srstatus</th>\n",
       "      <th>actual_time_spent</th>\n",
       "      <th>expected_time_spent</th>\n",
       "      <th>weekday</th>\n",
       "    </tr>\n",
       "  </thead>\n",
       "  <tbody>\n",
       "    <tr>\n",
       "      <th>0</th>\n",
       "      <td>ECC-Information Request</td>\n",
       "      <td>Phone</td>\n",
       "      <td>2020-08-05 20:59:46</td>\n",
       "      <td>2020-08-05 16:59:46</td>\n",
       "      <td>2020-08-05 21:00:06</td>\n",
       "      <td>2020-08-05T20:59:46.000</td>\n",
       "      <td>Call Center</td>\n",
       "      <td>NaN</td>\n",
       "      <td>NaN</td>\n",
       "      <td>NaN</td>\n",
       "      <td>NaN</td>\n",
       "      <td>NaN</td>\n",
       "      <td>Closed</td>\n",
       "      <td>00:00:20</td>\n",
       "      <td>-1 days +20:00:00</td>\n",
       "      <td>2020-08-05 20:59:46</td>\n",
       "    </tr>\n",
       "    <tr>\n",
       "      <th>1</th>\n",
       "      <td>BGE-StLight(s) Out</td>\n",
       "      <td>Phone</td>\n",
       "      <td>2020-08-05 20:59:40</td>\n",
       "      <td>2020-08-09 20:59:39</td>\n",
       "      <td>NaT</td>\n",
       "      <td>2020-08-05T20:59:39.000</td>\n",
       "      <td>BGE</td>\n",
       "      <td>NaN</td>\n",
       "      <td>Waltherson</td>\n",
       "      <td>3</td>\n",
       "      <td>Northeastern</td>\n",
       "      <td>21206</td>\n",
       "      <td>New</td>\n",
       "      <td>NaT</td>\n",
       "      <td>3 days 23:59:59</td>\n",
       "      <td>2020-08-05 20:59:40</td>\n",
       "    </tr>\n",
       "    <tr>\n",
       "      <th>2</th>\n",
       "      <td>BGE-StLight(s) Out</td>\n",
       "      <td>Phone</td>\n",
       "      <td>2020-08-05 20:58:05</td>\n",
       "      <td>2020-08-09 20:58:05</td>\n",
       "      <td>NaT</td>\n",
       "      <td>2020-08-05T20:58:05.000</td>\n",
       "      <td>BGE</td>\n",
       "      <td>NaN</td>\n",
       "      <td>Coldstream Homestead Montebello</td>\n",
       "      <td>14</td>\n",
       "      <td>Northeastern</td>\n",
       "      <td>21218</td>\n",
       "      <td>New</td>\n",
       "      <td>NaT</td>\n",
       "      <td>4 days 00:00:00</td>\n",
       "      <td>2020-08-05 20:58:05</td>\n",
       "    </tr>\n",
       "    <tr>\n",
       "      <th>3</th>\n",
       "      <td>BGE-StLight(s) Out</td>\n",
       "      <td>Phone</td>\n",
       "      <td>2020-08-05 20:57:58</td>\n",
       "      <td>2020-08-09 20:57:58</td>\n",
       "      <td>NaT</td>\n",
       "      <td>2020-08-05T20:57:58.000</td>\n",
       "      <td>BGE</td>\n",
       "      <td>NaN</td>\n",
       "      <td>Cheswolde</td>\n",
       "      <td>5</td>\n",
       "      <td>Northwestern</td>\n",
       "      <td>21209</td>\n",
       "      <td>New</td>\n",
       "      <td>NaT</td>\n",
       "      <td>4 days 00:00:00</td>\n",
       "      <td>2020-08-05 20:57:58</td>\n",
       "    </tr>\n",
       "    <tr>\n",
       "      <th>4</th>\n",
       "      <td>ECC-Information Request</td>\n",
       "      <td>Phone</td>\n",
       "      <td>2020-08-05 20:57:48</td>\n",
       "      <td>2020-08-05 16:57:48</td>\n",
       "      <td>2020-08-05 20:58:46</td>\n",
       "      <td>2020-08-05T20:57:48.000</td>\n",
       "      <td>Call Center</td>\n",
       "      <td>NaN</td>\n",
       "      <td>NaN</td>\n",
       "      <td>NaN</td>\n",
       "      <td>NaN</td>\n",
       "      <td>NaN</td>\n",
       "      <td>Closed</td>\n",
       "      <td>00:00:58</td>\n",
       "      <td>-1 days +20:00:00</td>\n",
       "      <td>2020-08-05 20:57:48</td>\n",
       "    </tr>\n",
       "  </tbody>\n",
       "</table>\n",
       "</div>"
      ],
      "text/plain": [
       "                    srtype methodreceived         createddate  \\\n",
       "0  ECC-Information Request          Phone 2020-08-05 20:59:46   \n",
       "1       BGE-StLight(s) Out          Phone 2020-08-05 20:59:40   \n",
       "2       BGE-StLight(s) Out          Phone 2020-08-05 20:58:05   \n",
       "3       BGE-StLight(s) Out          Phone 2020-08-05 20:57:58   \n",
       "4  ECC-Information Request          Phone 2020-08-05 20:57:48   \n",
       "\n",
       "              duedate           closedate               statusdate  \\\n",
       "0 2020-08-05 16:59:46 2020-08-05 21:00:06  2020-08-05T20:59:46.000   \n",
       "1 2020-08-09 20:59:39                 NaT  2020-08-05T20:59:39.000   \n",
       "2 2020-08-09 20:58:05                 NaT  2020-08-05T20:58:05.000   \n",
       "3 2020-08-09 20:57:58                 NaT  2020-08-05T20:57:58.000   \n",
       "4 2020-08-05 16:57:48 2020-08-05 20:58:46  2020-08-05T20:57:48.000   \n",
       "\n",
       "        agency lastactivity                     neighborhood councildistrict  \\\n",
       "0  Call Center          NaN                              NaN             NaN   \n",
       "1          BGE          NaN                       Waltherson               3   \n",
       "2          BGE          NaN  Coldstream Homestead Montebello              14   \n",
       "3          BGE          NaN                        Cheswolde               5   \n",
       "4  Call Center          NaN                              NaN             NaN   \n",
       "\n",
       "  policedistrict zipcode srstatus actual_time_spent expected_time_spent  \\\n",
       "0            NaN     NaN   Closed          00:00:20   -1 days +20:00:00   \n",
       "1   Northeastern   21206      New               NaT     3 days 23:59:59   \n",
       "2   Northeastern   21218      New               NaT     4 days 00:00:00   \n",
       "3   Northwestern   21209      New               NaT     4 days 00:00:00   \n",
       "4            NaN     NaN   Closed          00:00:58   -1 days +20:00:00   \n",
       "\n",
       "              weekday  \n",
       "0 2020-08-05 20:59:46  \n",
       "1 2020-08-05 20:59:40  \n",
       "2 2020-08-05 20:58:05  \n",
       "3 2020-08-05 20:57:58  \n",
       "4 2020-08-05 20:57:48  "
      ]
     },
     "execution_count": 272,
     "metadata": {},
     "output_type": "execute_result"
    }
   ],
   "source": [
    "data_df.head()"
   ]
  },
  {
   "cell_type": "code",
   "execution_count": 241,
   "metadata": {
    "scrolled": false
   },
   "outputs": [
    {
     "data": {
      "text/html": [
       "<div>\n",
       "<style scoped>\n",
       "    .dataframe tbody tr th:only-of-type {\n",
       "        vertical-align: middle;\n",
       "    }\n",
       "\n",
       "    .dataframe tbody tr th {\n",
       "        vertical-align: top;\n",
       "    }\n",
       "\n",
       "    .dataframe thead th {\n",
       "        text-align: right;\n",
       "    }\n",
       "</style>\n",
       "<table border=\"1\" class=\"dataframe\">\n",
       "  <thead>\n",
       "    <tr style=\"text-align: right;\">\n",
       "      <th></th>\n",
       "      <th>srtype</th>\n",
       "      <th>methodreceived</th>\n",
       "      <th>createddate</th>\n",
       "      <th>duedate</th>\n",
       "      <th>closedate</th>\n",
       "      <th>statusdate</th>\n",
       "      <th>agency</th>\n",
       "      <th>lastactivity</th>\n",
       "      <th>neighborhood</th>\n",
       "      <th>councildistrict</th>\n",
       "      <th>policedistrict</th>\n",
       "      <th>zipcode</th>\n",
       "      <th>srstatus</th>\n",
       "      <th>actual_time_spent</th>\n",
       "      <th>expected_time_spent</th>\n",
       "    </tr>\n",
       "  </thead>\n",
       "  <tbody>\n",
       "    <tr>\n",
       "      <th>107</th>\n",
       "      <td>HLTH-Animal Attack Against Human</td>\n",
       "      <td>Phone</td>\n",
       "      <td>2020-08-05 19:38:06</td>\n",
       "      <td>2020-08-14 19:38:06</td>\n",
       "      <td>2020-08-05 19:56:05</td>\n",
       "      <td>2020-08-05T19:56:04.000</td>\n",
       "      <td>Health</td>\n",
       "      <td>Service Response</td>\n",
       "      <td>Hamilton Hills</td>\n",
       "      <td>3</td>\n",
       "      <td>Northeastern</td>\n",
       "      <td>21234</td>\n",
       "      <td>Closed</td>\n",
       "      <td>00:17:59</td>\n",
       "      <td>9 days 00:00:00</td>\n",
       "    </tr>\n",
       "    <tr>\n",
       "      <th>114</th>\n",
       "      <td>TRS-Parking Complaint</td>\n",
       "      <td>Phone</td>\n",
       "      <td>2020-08-05 19:30:36</td>\n",
       "      <td>2020-08-06 19:45:06</td>\n",
       "      <td>2020-08-05 20:11:21</td>\n",
       "      <td>2020-08-05T20:11:20.000</td>\n",
       "      <td>Transportation</td>\n",
       "      <td>Service Response</td>\n",
       "      <td>Union Square</td>\n",
       "      <td>9</td>\n",
       "      <td>Southern</td>\n",
       "      <td>21223</td>\n",
       "      <td>Closed</td>\n",
       "      <td>00:40:45</td>\n",
       "      <td>1 days 00:14:30</td>\n",
       "    </tr>\n",
       "    <tr>\n",
       "      <th>130</th>\n",
       "      <td>TRM-Debris In Roadway</td>\n",
       "      <td>API</td>\n",
       "      <td>2020-08-05 19:23:09</td>\n",
       "      <td>2020-08-06 19:23:09</td>\n",
       "      <td>2020-08-05 19:51:14</td>\n",
       "      <td>2020-08-05T19:51:07.000</td>\n",
       "      <td>Transportation</td>\n",
       "      <td>Service Response</td>\n",
       "      <td>Westgate</td>\n",
       "      <td>8</td>\n",
       "      <td>Southwestern</td>\n",
       "      <td>21229</td>\n",
       "      <td>Closed</td>\n",
       "      <td>00:28:05</td>\n",
       "      <td>1 days 00:00:00</td>\n",
       "    </tr>\n",
       "    <tr>\n",
       "      <th>137</th>\n",
       "      <td>ECC-Miscellaneous Request</td>\n",
       "      <td>API</td>\n",
       "      <td>2020-08-05 19:20:08</td>\n",
       "      <td>2020-08-05 15:20:08</td>\n",
       "      <td>2020-08-05 20:14:42</td>\n",
       "      <td>2020-08-05T20:14:41.000</td>\n",
       "      <td>Call Center</td>\n",
       "      <td>Service Response</td>\n",
       "      <td>North Harford Road</td>\n",
       "      <td>3</td>\n",
       "      <td>Northeastern</td>\n",
       "      <td>21234</td>\n",
       "      <td>Closed</td>\n",
       "      <td>00:54:34</td>\n",
       "      <td>-1 days +20:00:00</td>\n",
       "    </tr>\n",
       "    <tr>\n",
       "      <th>154</th>\n",
       "      <td>ECC-Miscellaneous Request</td>\n",
       "      <td>API</td>\n",
       "      <td>2020-08-05 19:11:44</td>\n",
       "      <td>2020-08-05 15:11:44</td>\n",
       "      <td>2020-08-05 20:11:06</td>\n",
       "      <td>2020-08-05T20:11:05.000</td>\n",
       "      <td>Call Center</td>\n",
       "      <td>Service Response</td>\n",
       "      <td>Upper Fells Point</td>\n",
       "      <td>1</td>\n",
       "      <td>Southeastern</td>\n",
       "      <td>21231</td>\n",
       "      <td>Closed</td>\n",
       "      <td>00:59:22</td>\n",
       "      <td>-1 days +20:00:00</td>\n",
       "    </tr>\n",
       "  </tbody>\n",
       "</table>\n",
       "</div>"
      ],
      "text/plain": [
       "                               srtype methodreceived         createddate  \\\n",
       "107  HLTH-Animal Attack Against Human          Phone 2020-08-05 19:38:06   \n",
       "114             TRS-Parking Complaint          Phone 2020-08-05 19:30:36   \n",
       "130             TRM-Debris In Roadway            API 2020-08-05 19:23:09   \n",
       "137         ECC-Miscellaneous Request            API 2020-08-05 19:20:08   \n",
       "154         ECC-Miscellaneous Request            API 2020-08-05 19:11:44   \n",
       "\n",
       "                duedate           closedate               statusdate  \\\n",
       "107 2020-08-14 19:38:06 2020-08-05 19:56:05  2020-08-05T19:56:04.000   \n",
       "114 2020-08-06 19:45:06 2020-08-05 20:11:21  2020-08-05T20:11:20.000   \n",
       "130 2020-08-06 19:23:09 2020-08-05 19:51:14  2020-08-05T19:51:07.000   \n",
       "137 2020-08-05 15:20:08 2020-08-05 20:14:42  2020-08-05T20:14:41.000   \n",
       "154 2020-08-05 15:11:44 2020-08-05 20:11:06  2020-08-05T20:11:05.000   \n",
       "\n",
       "             agency      lastactivity        neighborhood councildistrict  \\\n",
       "107          Health  Service Response      Hamilton Hills               3   \n",
       "114  Transportation  Service Response        Union Square               9   \n",
       "130  Transportation  Service Response            Westgate               8   \n",
       "137     Call Center  Service Response  North Harford Road               3   \n",
       "154     Call Center  Service Response   Upper Fells Point               1   \n",
       "\n",
       "    policedistrict zipcode srstatus actual_time_spent expected_time_spent  \n",
       "107   Northeastern   21234   Closed          00:17:59     9 days 00:00:00  \n",
       "114       Southern   21223   Closed          00:40:45     1 days 00:14:30  \n",
       "130   Southwestern   21229   Closed          00:28:05     1 days 00:00:00  \n",
       "137   Northeastern   21234   Closed          00:54:34   -1 days +20:00:00  \n",
       "154   Southeastern   21231   Closed          00:59:22   -1 days +20:00:00  "
      ]
     },
     "execution_count": 241,
     "metadata": {},
     "output_type": "execute_result"
    }
   ],
   "source": [
    "sdata_df = data_df.dropna()\n",
    "sdata_df.head()"
   ]
  },
  {
   "cell_type": "code",
   "execution_count": 242,
   "metadata": {},
   "outputs": [
    {
     "data": {
      "text/plain": [
       "(177, 15)"
      ]
     },
     "execution_count": 242,
     "metadata": {},
     "output_type": "execute_result"
    }
   ],
   "source": [
    "sdata_df.shape"
   ]
  },
  {
   "cell_type": "code",
   "execution_count": 243,
   "metadata": {
    "scrolled": true
   },
   "outputs": [
    {
     "data": {
      "text/html": [
       "<div>\n",
       "<style scoped>\n",
       "    .dataframe tbody tr th:only-of-type {\n",
       "        vertical-align: middle;\n",
       "    }\n",
       "\n",
       "    .dataframe tbody tr th {\n",
       "        vertical-align: top;\n",
       "    }\n",
       "\n",
       "    .dataframe thead th {\n",
       "        text-align: right;\n",
       "    }\n",
       "</style>\n",
       "<table border=\"1\" class=\"dataframe\">\n",
       "  <thead>\n",
       "    <tr style=\"text-align: right;\">\n",
       "      <th></th>\n",
       "      <th>actual_time_spent</th>\n",
       "      <th>expected_time_spent</th>\n",
       "    </tr>\n",
       "  </thead>\n",
       "  <tbody>\n",
       "    <tr>\n",
       "      <th>count</th>\n",
       "      <td>177</td>\n",
       "      <td>177</td>\n",
       "    </tr>\n",
       "    <tr>\n",
       "      <th>mean</th>\n",
       "      <td>0 days 00:11:53.350282</td>\n",
       "      <td>5 days 12:49:47.830508</td>\n",
       "    </tr>\n",
       "    <tr>\n",
       "      <th>std</th>\n",
       "      <td>0 days 00:38:00.317841</td>\n",
       "      <td>2 days 23:32:58.793447</td>\n",
       "    </tr>\n",
       "    <tr>\n",
       "      <th>min</th>\n",
       "      <td>0 days 00:00:06</td>\n",
       "      <td>-1 days +20:00:00</td>\n",
       "    </tr>\n",
       "    <tr>\n",
       "      <th>25%</th>\n",
       "      <td>0 days 00:00:14</td>\n",
       "      <td>5 days 00:00:00</td>\n",
       "    </tr>\n",
       "    <tr>\n",
       "      <th>50%</th>\n",
       "      <td>0 days 00:00:15</td>\n",
       "      <td>7 days 00:00:00</td>\n",
       "    </tr>\n",
       "    <tr>\n",
       "      <th>75%</th>\n",
       "      <td>0 days 00:00:40</td>\n",
       "      <td>7 days 00:00:00</td>\n",
       "    </tr>\n",
       "    <tr>\n",
       "      <th>max</th>\n",
       "      <td>0 days 03:27:22</td>\n",
       "      <td>20 days 00:00:00</td>\n",
       "    </tr>\n",
       "  </tbody>\n",
       "</table>\n",
       "</div>"
      ],
      "text/plain": [
       "            actual_time_spent     expected_time_spent\n",
       "count                     177                     177\n",
       "mean   0 days 00:11:53.350282  5 days 12:49:47.830508\n",
       "std    0 days 00:38:00.317841  2 days 23:32:58.793447\n",
       "min           0 days 00:00:06       -1 days +20:00:00\n",
       "25%           0 days 00:00:14         5 days 00:00:00\n",
       "50%           0 days 00:00:15         7 days 00:00:00\n",
       "75%           0 days 00:00:40         7 days 00:00:00\n",
       "max           0 days 03:27:22        20 days 00:00:00"
      ]
     },
     "execution_count": 243,
     "metadata": {},
     "output_type": "execute_result"
    }
   ],
   "source": [
    "sdata_df.describe()"
   ]
  },
  {
   "cell_type": "markdown",
   "metadata": {},
   "source": [
    "# Visualization"
   ]
  },
  {
   "cell_type": "code",
   "execution_count": 158,
   "metadata": {},
   "outputs": [],
   "source": [
    "import seaborn as sns"
   ]
  },
  {
   "cell_type": "code",
   "execution_count": 165,
   "metadata": {},
   "outputs": [
    {
     "data": {
      "text/plain": [
       "Text(0.5, 1.0, 'Requests by Police District')"
      ]
     },
     "execution_count": 165,
     "metadata": {},
     "output_type": "execute_result"
    },
    {
     "data": {
      "image/png": "[encoded data removed]",
      "text/plain": [
       "<Figure size 1440x720 with 1 Axes>"
      ]
     },
     "metadata": {
      "needs_background": "light"
     },
     "output_type": "display_data"
    }
   ],
   "source": [
    "plt.figure(figsize=(20,10))\n",
    "sns.countplot(x=data_df['policedistrict'])\n",
    "plt.title('Requests by Police District')"
   ]
  },
  {
   "cell_type": "code",
   "execution_count": 179,
   "metadata": {},
   "outputs": [
    {
     "data": {
      "text/plain": [
       "Text(0.5, 1.0, 'Requests by Neighborhood')"
      ]
     },
     "execution_count": 179,
     "metadata": {},
     "output_type": "execute_result"
    },
    {
     "data": {
      "image/png": "[encoded data removed]",
      "text/plain": [
       "<Figure size 25200x720 with 1 Axes>"
      ]
     },
     "metadata": {
      "needs_background": "light"
     },
     "output_type": "display_data"
    }
   ],
   "source": [
    "plt.figure(figsize=(350,10))\n",
    "sns.countplot(x=data_df['neighborhood'])\n",
    "plt.title('Requests by Neighborhood')"
   ]
  },
  {
   "cell_type": "code",
   "execution_count": 167,
   "metadata": {},
   "outputs": [
    {
     "data": {
      "text/plain": [
       "Text(0.5, 1.0, 'Requests by Council District')"
      ]
     },
     "execution_count": 167,
     "metadata": {},
     "output_type": "execute_result"
    },
    {
     "data": {
      "image/png": "[encoded data removed]",
      "text/plain": [
       "<Figure size 1440x720 with 1 Axes>"
      ]
     },
     "metadata": {
      "needs_background": "light"
     },
     "output_type": "display_data"
    }
   ],
   "source": [
    "plt.figure(figsize=(20,10))\n",
    "sns.countplot(x=data_df['councildistrict'])\n",
    "plt.title('Requests by Council District')"
   ]
  },
  {
   "cell_type": "code",
   "execution_count": 172,
   "metadata": {},
   "outputs": [
    {
     "data": {
      "text/plain": [
       "Text(0.5, 1.0, 'Requests by Agency')"
      ]
     },
     "execution_count": 172,
     "metadata": {},
     "output_type": "execute_result"
    },
    {
     "data": {
      "image/png": "[encoded data removed]",
      "text/plain": [
       "<Figure size 1440x720 with 1 Axes>"
      ]
     },
     "metadata": {
      "needs_background": "light"
     },
     "output_type": "display_data"
    }
   ],
   "source": [
    "plt.figure(figsize=(20,10))\n",
    "sns.countplot(x=data_df['agency'])\n",
    "plt.title('Requests by Agency')"
   ]
  },
  {
   "cell_type": "code",
   "execution_count": 184,
   "metadata": {},
   "outputs": [
    {
     "data": {
      "text/plain": [
       "Text(0.5, 1.0, 'Status of Requests')"
      ]
     },
     "execution_count": 184,
     "metadata": {},
     "output_type": "execute_result"
    },
    {
     "data": {
      "image/png": "[encoded data removed]",
      "text/plain": [
       "<Figure size 1440x720 with 1 Axes>"
      ]
     },
     "metadata": {
      "needs_background": "light"
     },
     "output_type": "display_data"
    }
   ],
   "source": [
    "plt.figure(figsize=(20,10))\n",
    "sns.countplot(x=data_df['srstatus'])\n",
    "plt.title('Status of Requests')"
   ]
  }
 ],
 "metadata": {
  "kernelspec": {
   "display_name": "Python 3",
   "language": "python",
   "name": "python3"
  },
  "language_info": {
   "codemirror_mode": {
    "name": "ipython",
    "version": 3
   },
   "file_extension": ".py",
   "mimetype": "text/x-python",
   "name": "python",
   "nbconvert_exporter": "python",
   "pygments_lexer": "ipython3",
   "version": "3.7.6"
  }
 },
 "nbformat": 4,
 "nbformat_minor": 4
}
